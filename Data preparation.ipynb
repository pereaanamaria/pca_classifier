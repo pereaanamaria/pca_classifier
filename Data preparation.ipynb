{
 "cells": [
  {
   "cell_type": "code",
   "execution_count": 1,
   "id": "7c50e171",
   "metadata": {},
   "outputs": [],
   "source": [
    "import matplotlib.pyplot as plt\n",
    "import nibabel as nib\n",
    "import os\n",
    "import pandas as pd\n",
    "import pickle\n",
    "import scipy.ndimage as ndi\n",
    "import warnings\n",
    "\n",
    "from constants import Constants\n",
    "\n",
    "from IPython.display import Image\n",
    "from nilearn import plotting\n",
    "from pathlib import Path\n",
    "\n",
    "%matplotlib inline\n",
    "warnings.filterwarnings('ignore')"
   ]
  },
  {
   "cell_type": "code",
   "execution_count": 3,
   "id": "9b1a5b4b",
   "metadata": {},
   "outputs": [
    {
     "data": {
      "text/plain": [
       "WindowsPath('data/unprocessed')"
      ]
     },
     "execution_count": 3,
     "metadata": {},
     "output_type": "execute_result"
    }
   ],
   "source": [
    "constants = Constants()\n",
    "unprocessed_data_path = constants.dataset_path / 'unprocessed'\n",
    "\n",
    "unprocessed_data_path"
   ]
  },
  {
   "cell_type": "code",
   "execution_count": null,
   "id": "2d12c6e3",
   "metadata": {},
   "outputs": [],
   "source": []
  }
 ],
 "metadata": {
  "kernelspec": {
   "display_name": "Python 3 (ipykernel)",
   "language": "python",
   "name": "python3"
  },
  "language_info": {
   "codemirror_mode": {
    "name": "ipython",
    "version": 3
   },
   "file_extension": ".py",
   "mimetype": "text/x-python",
   "name": "python",
   "nbconvert_exporter": "python",
   "pygments_lexer": "ipython3",
   "version": "3.9.0"
  }
 },
 "nbformat": 4,
 "nbformat_minor": 5
}
