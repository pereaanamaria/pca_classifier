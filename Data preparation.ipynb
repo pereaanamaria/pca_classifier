{
 "cells": [
  {
   "cell_type": "code",
   "execution_count": 1,
   "id": "7c50e171",
   "metadata": {},
   "outputs": [],
   "source": [
    "import os\n",
    "import pandas as pd\n",
    "import shutil\n",
    "import SimpleITK as sitk\n",
    "\n",
    "from constants import Constants\n",
    "constants = Constants()\n",
    "\n",
    "from pathlib import Path"
   ]
  },
  {
   "cell_type": "code",
   "execution_count": 2,
   "id": "90d17cfb",
   "metadata": {},
   "outputs": [],
   "source": [
    "def get_patientID(filename):\n",
    "    return filename[:14]\n",
    "\n",
    "\n",
    "def get_excluded_filenames(filename):\n",
    "    excluded_filenames = not 'traa' in filename \n",
    "    excluded_filenames = excluded_filenames and not 'trab' in filename \n",
    "    excluded_filenames = excluded_filenames and not 'loc' in filename\n",
    "    excluded_filenames = excluded_filenames and not 'ADCa' in filename\n",
    "    excluded_filenames = excluded_filenames and not 'Noise0' in filename\n",
    "    excluded_filenames = excluded_filenames and not 'S3_2' in filename\n",
    "    excluded_filenames = excluded_filenames and not 'Eq_1' in filename\n",
    "    excluded_filenames = excluded_filenames and not 'copy' in filename\n",
    "    return excluded_filenames\n",
    "\n",
    "\n",
    "def get_image_type(filename):\n",
    "    excluded_filenames = get_excluded_filenames(filename)\n",
    "    \n",
    "    if 't2' in filename and 'tra' in filename and excluded_filenames:\n",
    "        return 'T2'\n",
    "    if 'ADC' in filename and excluded_filenames:\n",
    "        return 'ADC'\n",
    "    if 'Ktrans' in filename:\n",
    "        return 'KTrans'\n",
    "    return 'unknown'"
   ]
  },
  {
   "cell_type": "markdown",
   "id": "447f3a45",
   "metadata": {},
   "source": [
    "# Preprocess data"
   ]
  },
  {
   "cell_type": "code",
   "execution_count": 3,
   "id": "9b1a5b4b",
   "metadata": {},
   "outputs": [],
   "source": [
    "ROOT = constants.dataset_path\n",
    "\n",
    "# Path to unprocessed data\n",
    "UNPROCESSED = ROOT / 'unprocessed'\n",
    "\n",
    "\n",
    "# Path to data converted using MRIcoGL\n",
    "UNPROCESSED_NIFTI = UNPROCESSED / 'NIFTI'\n",
    "# Path to KTrans data (*.mhd)\n",
    "UNPROCESSED_KTRANS = UNPROCESSED / 'KTrans'\n",
    "\n",
    "\n",
    "# Path to information\n",
    "FINDINGS = ROOT / 'ProstateX-Findings-Train.csv'\n",
    "LESION_INFO = Path('ProstateX_plotting/info_df.pickle')\n",
    "\n",
    "# Path to processed data\n",
    "PROCESSED = ROOT / 'processed'\n",
    "if not PROCESSED.exists():\n",
    "    os.mkdir(PROCESSED)"
   ]
  },
  {
   "cell_type": "markdown",
   "id": "90811328",
   "metadata": {},
   "source": [
    "## Sort the data files"
   ]
  },
  {
   "cell_type": "code",
   "execution_count": 4,
   "id": "f1831469",
   "metadata": {},
   "outputs": [
    {
     "name": "stdout",
     "output_type": "stream",
     "text": [
      "All NIFTI T2-weighted and ADC files were stored at path: data\\processed\n"
     ]
    }
   ],
   "source": [
    "findings_data = []\n",
    "patients = []\n",
    "\n",
    "for file in os.listdir(UNPROCESSED_NIFTI):\n",
    "    image_type = get_image_type(file)\n",
    "    if image_type != 'unknown' and 'nii.gz' in file:\n",
    "        patient_id = get_patientID(file)\n",
    "        \n",
    "        idx = int(patient_id[10:])\n",
    "        if patient_id not in patients:\n",
    "            patients.append(patient_id)\n",
    "            findings_data.append({})\n",
    "            findings_data[idx]['ProxID'] = patient_id\n",
    "            findings_data[idx]['ClinSig'] = []\n",
    "            findings_data[idx]['fid'] = []\n",
    "            findings_data[idx]['pos'] = []\n",
    "            findings_data[idx]['zone'] = []\n",
    "            \n",
    "        src = UNPROCESSED_NIFTI / file\n",
    "        dest = PROCESSED / file\n",
    "        findings_data[idx][image_type] = dest\n",
    "        \n",
    "        shutil.copyfile(src, dest)\n",
    "        \n",
    "print(f'All NIFTI T2-weighted and ADC files were stored at path: {PROCESSED}')"
   ]
  },
  {
   "cell_type": "markdown",
   "id": "4fa71560",
   "metadata": {},
   "source": [
    "## Convert KTrans"
   ]
  },
  {
   "cell_type": "code",
   "execution_count": 5,
   "id": "79c09afe",
   "metadata": {},
   "outputs": [
    {
     "name": "stdout",
     "output_type": "stream",
     "text": [
      "All converted KTrans files were stored at path: data\\processed\n"
     ]
    }
   ],
   "source": [
    "def convert_mhd_to_nifti(file, input_path, output_path):\n",
    "    mhd_image = os.path.join(input_path, file)\n",
    "    img = sitk.ReadImage(mhd_image)\n",
    "    \n",
    "    nii_filename = file.replace('.mhd', '.nii.gz')\n",
    "    img_nii_path = output_path / nii_filename\n",
    "    \n",
    "    sitk.WriteImage(img, nii_filename)\n",
    "    shutil.move(nii_filename, img_nii_path)\n",
    "    return img_nii_path\n",
    "\n",
    "\n",
    "for root, _, files in os.walk(UNPROCESSED_KTRANS):\n",
    "    for file in files:\n",
    "        image_type = get_image_type(file)\n",
    "        if image_type == 'KTrans' and 'mhd' in file:\n",
    "            patient_id = get_patientID(file)\n",
    "            idx = int(patient_id[10:])\n",
    "            findings_data[idx][image_type] = convert_mhd_to_nifti(file, root, PROCESSED)\n",
    "            \n",
    "print(f'All converted KTrans files were stored at path: {PROCESSED}')"
   ]
  },
  {
   "cell_type": "markdown",
   "id": "bdb21833",
   "metadata": {},
   "source": [
    "## Combine information"
   ]
  },
  {
   "cell_type": "code",
   "execution_count": 6,
   "id": "58c8097b",
   "metadata": {},
   "outputs": [],
   "source": [
    "findings_df = pd.read_csv(FINDINGS)\n",
    "lesion_info_df = pd.read_pickle(LESION_INFO)\n",
    "\n",
    "for i, patient in enumerate(findings_df.ProxID):\n",
    "    idx = int(patient[10:])\n",
    "    \n",
    "    findings_row = findings_df.iloc[i]\n",
    "    lesion_info_row = lesion_info_df.iloc[idx]\n",
    "    \n",
    "    findings_data[idx]['ClinSig'].append(findings_row.ClinSig)\n",
    "    findings_data[idx]['fid'].append(findings_row.fid)\n",
    "    findings_data[idx]['pos'].append(findings_row.pos)\n",
    "    findings_data[idx]['zone'].append(findings_row.zone)\n",
    "    \n",
    "    # voxel spacing and slices contianing prostate lesion\n",
    "    findings_data[idx]['spacing'] = lesion_info_row.spacing\n",
    "    findings_data[idx]['slices'] = lesion_info_row.fg_slices\n",
    "\n",
    "findings = pd.DataFrame(\n",
    "    findings_data, \n",
    "    columns=[\n",
    "        'ProxID', 'ClinSig', 'fid', 'pos', 'zone', 'spacing', 'slices', 'T2', 'ADC', 'KTrans'\n",
    "    ]\n",
    ")"
   ]
  },
  {
   "cell_type": "markdown",
   "id": "8b77aa92",
   "metadata": {},
   "source": [
    "## Create pickle"
   ]
  },
  {
   "cell_type": "code",
   "execution_count": 7,
   "id": "41b53d0c",
   "metadata": {},
   "outputs": [
    {
     "name": "stdout",
     "output_type": "stream",
     "text": [
      "The findings information can be found at: data\\processed\\lesion_findings.pickle\n"
     ]
    }
   ],
   "source": [
    "findings_pickle = PROCESSED / 'lesion_findings.pickle'\n",
    "\n",
    "pd.to_pickle(findings, findings_pickle) \n",
    "\n",
    "print(f'The findings information can be found at: {findings_pickle}')"
   ]
  },
  {
   "cell_type": "code",
   "execution_count": null,
   "id": "fda67030",
   "metadata": {},
   "outputs": [],
   "source": []
  }
 ],
 "metadata": {
  "kernelspec": {
   "display_name": "Python 3 (ipykernel)",
   "language": "python",
   "name": "python3"
  },
  "language_info": {
   "codemirror_mode": {
    "name": "ipython",
    "version": 3
   },
   "file_extension": ".py",
   "mimetype": "text/x-python",
   "name": "python",
   "nbconvert_exporter": "python",
   "pygments_lexer": "ipython3",
   "version": "3.9.0"
  }
 },
 "nbformat": 4,
 "nbformat_minor": 5
}
