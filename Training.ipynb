{
 "cells": [
  {
   "cell_type": "markdown",
   "metadata": {},
   "source": [
    "# Setup imports"
   ]
  },
  {
   "cell_type": "code",
   "execution_count": 1,
   "metadata": {
    "scrolled": false
   },
   "outputs": [],
   "source": [
    "import logging\n",
    "import ntpath\n",
    "import os\n",
    "import random\n",
    "import sys\n",
    "import shutil\n",
    "import tempfile\n",
    "\n",
    "import matplotlib.pyplot as plt\n",
    "import numpy as np\n",
    "import pandas as pd\n",
    "import torch\n",
    "torch.cuda.empty_cache()\n",
    "\n",
    "from torch.utils.tensorboard import SummaryWriter\n",
    "\n",
    "import monai\n",
    "from monai.apps import download_and_extract\n",
    "from monai.config import print_config\n",
    "from monai.data import DataLoader, ImageDataset\n",
    "from monai.transforms import AddChannel, Compose, RandRotate90\n",
    "from monai.transforms import Resize, ScaleIntensity, EnsureType\n",
    "\n",
    "from datetime import datetime\n",
    "from pathlib import Path\n",
    "from tqdm import tqdm\n",
    "\n",
    "from constants import Constants\n",
    "\n",
    "pin_memory = torch.cuda.is_available()\n",
    "device = torch.device(\"cuda\" if torch.cuda.is_available() else \"cpu\")\n",
    "\n",
    "logging.basicConfig(stream=sys.stdout, level=logging.INFO)\n",
    "\n",
    "constants = Constants()"
   ]
  },
  {
   "cell_type": "code",
   "execution_count": 2,
   "metadata": {
    "scrolled": false
   },
   "outputs": [],
   "source": [
    "# Set data directory\n",
    "ROOT = constants.dataset_path / 'processed'\n",
    "\n",
    "LABELS = ROOT / 'lesion_findings.pickle'\n",
    "\n",
    "LOGS = Path('logs')\n",
    "if not os.path.exists(LOGS): os.mkdir(LOGS)\n",
    "    \n",
    "BEST_METRICS = Path('best_metrics')\n",
    "if not os.path.exists(BEST_METRICS): os.mkdir(BEST_METRICS)"
   ]
  },
  {
   "cell_type": "markdown",
   "metadata": {},
   "source": [
    "# Get existing data"
   ]
  },
  {
   "cell_type": "code",
   "execution_count": 3,
   "metadata": {
    "scrolled": false
   },
   "outputs": [],
   "source": [
    "def get_patient_data(patient_id, labels):\n",
    "    idx = get_patient_idx(patient_id)\n",
    "    patient_data = {\n",
    "        'data' : {\n",
    "            'ProxID' : labels.ProxID.iloc[idx],\n",
    "            'ClinSig' : labels.ClinSig.iloc[idx],\n",
    "            'fid' : labels.fid.iloc[idx],\n",
    "            'pos' : labels.pos.iloc[idx],\n",
    "            'zone' : labels.zone.iloc[idx],\n",
    "            'spacing' : labels.spacing.iloc[idx],\n",
    "            'slices' : labels.slices.iloc[idx] \n",
    "        },\n",
    "        'images' : {\n",
    "            'T2' : labels.T2.iloc[idx],\n",
    "            'ADC' : labels.ADC.iloc[idx],\n",
    "            'KTrans' : labels.KTrans.iloc[idx] \n",
    "        }\n",
    "    }\n",
    "            \n",
    "    return patient_data\n",
    "\n",
    "\n",
    "def get_patientID(filename):\n",
    "    return filename[:14]\n",
    "\n",
    "def get_patient_idx(patient_id):\n",
    "    return int(patient_id[10:])"
   ]
  },
  {
   "cell_type": "code",
   "execution_count": 15,
   "metadata": {
    "scrolled": false
   },
   "outputs": [
    {
     "data": {
      "text/html": [
       "<div>\n",
       "<style scoped>\n",
       "    .dataframe tbody tr th:only-of-type {\n",
       "        vertical-align: middle;\n",
       "    }\n",
       "\n",
       "    .dataframe tbody tr th {\n",
       "        vertical-align: top;\n",
       "    }\n",
       "\n",
       "    .dataframe thead th {\n",
       "        text-align: right;\n",
       "    }\n",
       "</style>\n",
       "<table border=\"1\" class=\"dataframe\">\n",
       "  <thead>\n",
       "    <tr style=\"text-align: right;\">\n",
       "      <th></th>\n",
       "      <th>ProxID</th>\n",
       "      <th>ClinSig</th>\n",
       "      <th>fid</th>\n",
       "      <th>pos</th>\n",
       "      <th>zone</th>\n",
       "      <th>spacing</th>\n",
       "      <th>slices</th>\n",
       "      <th>T2</th>\n",
       "      <th>ADC</th>\n",
       "      <th>KTrans</th>\n",
       "    </tr>\n",
       "  </thead>\n",
       "  <tbody>\n",
       "    <tr>\n",
       "      <th>0</th>\n",
       "      <td>ProstateX-0000</td>\n",
       "      <td>[True]</td>\n",
       "      <td>[1]</td>\n",
       "      <td>[25.7457 31.8707 -38.511]</td>\n",
       "      <td>[PZ]</td>\n",
       "      <td>(0.5, 0.5, 3.0)</td>\n",
       "      <td>[7, 8, 9, 10, 11, 12, 13]</td>\n",
       "      <td>data\\processed\\ProstateX-0000_t2_tse_tra_t2_ts...</td>\n",
       "      <td>data\\processed\\ProstateX-0000_ep2d_diff_tra_ep...</td>\n",
       "      <td>data\\processed\\ProstateX-0000-Ktrans.nii.gz</td>\n",
       "    </tr>\n",
       "    <tr>\n",
       "      <th>1</th>\n",
       "      <td>ProstateX-0001</td>\n",
       "      <td>[False]</td>\n",
       "      <td>[1]</td>\n",
       "      <td>[-40.5367071921656 29.320722668457 -16.7076690...</td>\n",
       "      <td>[AS]</td>\n",
       "      <td>(0.5, 0.5, 3.0)</td>\n",
       "      <td>[7, 8, 9, 10, 11, 12, 13]</td>\n",
       "      <td>data\\processed\\ProstateX-0001_t2_tse_tra_t2_ts...</td>\n",
       "      <td>data\\processed\\ProstateX-0001_ep2d_diff_tra_ep...</td>\n",
       "      <td>data\\processed\\ProstateX-0001-Ktrans.nii.gz</td>\n",
       "    </tr>\n",
       "    <tr>\n",
       "      <th>2</th>\n",
       "      <td>ProstateX-0002</td>\n",
       "      <td>[True, False]</td>\n",
       "      <td>[1, 2]</td>\n",
       "      <td>[-27.0102 41.5467 -26.0469, -2.058 38.6752 -34...</td>\n",
       "      <td>[PZ, PZ]</td>\n",
       "      <td>(0.5, 0.5, 3.0)</td>\n",
       "      <td>[11, 12, 13, 14, 15, 16, 17, 18]</td>\n",
       "      <td>data\\processed\\ProstateX-0002_t2_tse_tra_t2_ts...</td>\n",
       "      <td>data\\processed\\ProstateX-0002_ep2d_diff_tra_ep...</td>\n",
       "      <td>data\\processed\\ProstateX-0002-Ktrans.nii.gz</td>\n",
       "    </tr>\n",
       "    <tr>\n",
       "      <th>3</th>\n",
       "      <td>ProstateX-0003</td>\n",
       "      <td>[False, False]</td>\n",
       "      <td>[1, 2]</td>\n",
       "      <td>[22.1495 31.2717 -2.45933, -21.2871 19.3995 19...</td>\n",
       "      <td>[TZ, TZ]</td>\n",
       "      <td>(0.5, 0.5, 3.0)</td>\n",
       "      <td>[11, 12, 13, 14, 15, 16, 17, 18, 19, 20, 21]</td>\n",
       "      <td>data\\processed\\ProstateX-0003_t2_tse_tra_t2_ts...</td>\n",
       "      <td>data\\processed\\ProstateX-0003_ep2d_diff_tra_ep...</td>\n",
       "      <td>data\\processed\\ProstateX-0003-Ktrans.nii.gz</td>\n",
       "    </tr>\n",
       "    <tr>\n",
       "      <th>4</th>\n",
       "      <td>ProstateX-0004</td>\n",
       "      <td>[False]</td>\n",
       "      <td>[1]</td>\n",
       "      <td>[-7.69665 3.64226 23.1659]</td>\n",
       "      <td>[AS]</td>\n",
       "      <td>(0.5, 0.5, 3.0)</td>\n",
       "      <td>[6, 7, 8, 9, 10, 11, 12, 13]</td>\n",
       "      <td>data\\processed\\ProstateX-0004_t2_tse_tra_t2_ts...</td>\n",
       "      <td>data\\processed\\ProstateX-0004_ep2d_diff_tra_ep...</td>\n",
       "      <td>data\\processed\\ProstateX-0004-Ktrans.nii.gz</td>\n",
       "    </tr>\n",
       "    <tr>\n",
       "      <th>...</th>\n",
       "      <td>...</td>\n",
       "      <td>...</td>\n",
       "      <td>...</td>\n",
       "      <td>...</td>\n",
       "      <td>...</td>\n",
       "      <td>...</td>\n",
       "      <td>...</td>\n",
       "      <td>...</td>\n",
       "      <td>...</td>\n",
       "      <td>...</td>\n",
       "    </tr>\n",
       "    <tr>\n",
       "      <th>199</th>\n",
       "      <td>ProstateX-0199</td>\n",
       "      <td>[True, True]</td>\n",
       "      <td>[1, 2]</td>\n",
       "      <td>[-4.267512 -51.1958 4.3458,  -20.3406 -48.9915...</td>\n",
       "      <td>[AS, AS]</td>\n",
       "      <td>(0.5, 0.5, 3.0)</td>\n",
       "      <td>[8, 9, 10, 11, 12, 13, 14, 15, 16, 17, 18]</td>\n",
       "      <td>data\\processed\\ProstateX-0199_t2_tse_tra_t2_ts...</td>\n",
       "      <td>data\\processed\\ProstateX-0199_diffusie-3Scan-4...</td>\n",
       "      <td>data\\processed\\ProstateX-0199-Ktrans.nii.gz</td>\n",
       "    </tr>\n",
       "    <tr>\n",
       "      <th>200</th>\n",
       "      <td>ProstateX-0200</td>\n",
       "      <td>[True, False]</td>\n",
       "      <td>[1, 2]</td>\n",
       "      <td>[21.8727 -28.9887 -64.2121,  -19.0211715698242...</td>\n",
       "      <td>[AS, PZ]</td>\n",
       "      <td>(0.5, 0.5, 3.0)</td>\n",
       "      <td>[10, 11, 12, 13, 14, 15]</td>\n",
       "      <td>data\\processed\\ProstateX-0200_t2_tse_tra_t2_ts...</td>\n",
       "      <td>data\\processed\\ProstateX-0200_diffusie-3Scan-4...</td>\n",
       "      <td>data\\processed\\ProstateX-0200-Ktrans.nii.gz</td>\n",
       "    </tr>\n",
       "    <tr>\n",
       "      <th>201</th>\n",
       "      <td>ProstateX-0201</td>\n",
       "      <td>[True]</td>\n",
       "      <td>[1]</td>\n",
       "      <td>[10.1826 -10.0427 20.9151]</td>\n",
       "      <td>[AS]</td>\n",
       "      <td>(0.5, 0.5, 3.0)</td>\n",
       "      <td>[13, 14, 15, 16, 17, 18, 19, 20]</td>\n",
       "      <td>data\\processed\\ProstateX-0201_t2_tse_tra_t2_ts...</td>\n",
       "      <td>data\\processed\\ProstateX-0201_diffusie-3Scan-4...</td>\n",
       "      <td>data\\processed\\ProstateX-0201-Ktrans.nii.gz</td>\n",
       "    </tr>\n",
       "    <tr>\n",
       "      <th>202</th>\n",
       "      <td>ProstateX-0202</td>\n",
       "      <td>[True, False]</td>\n",
       "      <td>[1, 2]</td>\n",
       "      <td>[-0.02085 -44.5506 16.7349, -12.8649 -21.7307 ...</td>\n",
       "      <td>[AS, PZ]</td>\n",
       "      <td>(0.5, 0.5, 3.0)</td>\n",
       "      <td>[7, 8, 9, 10, 11, 12, 13, 14, 15]</td>\n",
       "      <td>data\\processed\\ProstateX-0202_t2_tse_tra_t2_ts...</td>\n",
       "      <td>data\\processed\\ProstateX-0202_diffusie-3Scan-4...</td>\n",
       "      <td>data\\processed\\ProstateX-0202-Ktrans.nii.gz</td>\n",
       "    </tr>\n",
       "    <tr>\n",
       "      <th>203</th>\n",
       "      <td>ProstateX-0203</td>\n",
       "      <td>[True, True]</td>\n",
       "      <td>[1, 2]</td>\n",
       "      <td>[ -10.02681 -18.5905 -75.1691, 10.028045654296...</td>\n",
       "      <td>[AS, PZ]</td>\n",
       "      <td>(0.5, 0.5, 3.0)</td>\n",
       "      <td>[5, 6, 7, 8, 9, 10, 11, 12, 13, 14, 15, 16]</td>\n",
       "      <td>data\\processed\\ProstateX-0203_t2_tse_tra_t2_ts...</td>\n",
       "      <td>data\\processed\\ProstateX-0203_diffusie-3Scan-4...</td>\n",
       "      <td>data\\processed\\ProstateX-0203-Ktrans.nii.gz</td>\n",
       "    </tr>\n",
       "  </tbody>\n",
       "</table>\n",
       "<p>204 rows × 10 columns</p>\n",
       "</div>"
      ],
      "text/plain": [
       "             ProxID         ClinSig     fid  \\\n",
       "0    ProstateX-0000          [True]     [1]   \n",
       "1    ProstateX-0001         [False]     [1]   \n",
       "2    ProstateX-0002   [True, False]  [1, 2]   \n",
       "3    ProstateX-0003  [False, False]  [1, 2]   \n",
       "4    ProstateX-0004         [False]     [1]   \n",
       "..              ...             ...     ...   \n",
       "199  ProstateX-0199    [True, True]  [1, 2]   \n",
       "200  ProstateX-0200   [True, False]  [1, 2]   \n",
       "201  ProstateX-0201          [True]     [1]   \n",
       "202  ProstateX-0202   [True, False]  [1, 2]   \n",
       "203  ProstateX-0203    [True, True]  [1, 2]   \n",
       "\n",
       "                                                   pos      zone  \\\n",
       "0                            [25.7457 31.8707 -38.511]      [PZ]   \n",
       "1    [-40.5367071921656 29.320722668457 -16.7076690...      [AS]   \n",
       "2    [-27.0102 41.5467 -26.0469, -2.058 38.6752 -34...  [PZ, PZ]   \n",
       "3    [22.1495 31.2717 -2.45933, -21.2871 19.3995 19...  [TZ, TZ]   \n",
       "4                           [-7.69665 3.64226 23.1659]      [AS]   \n",
       "..                                                 ...       ...   \n",
       "199  [-4.267512 -51.1958 4.3458,  -20.3406 -48.9915...  [AS, AS]   \n",
       "200  [21.8727 -28.9887 -64.2121,  -19.0211715698242...  [AS, PZ]   \n",
       "201                         [10.1826 -10.0427 20.9151]      [AS]   \n",
       "202  [-0.02085 -44.5506 16.7349, -12.8649 -21.7307 ...  [AS, PZ]   \n",
       "203  [ -10.02681 -18.5905 -75.1691, 10.028045654296...  [AS, PZ]   \n",
       "\n",
       "             spacing                                        slices  \\\n",
       "0    (0.5, 0.5, 3.0)                     [7, 8, 9, 10, 11, 12, 13]   \n",
       "1    (0.5, 0.5, 3.0)                     [7, 8, 9, 10, 11, 12, 13]   \n",
       "2    (0.5, 0.5, 3.0)              [11, 12, 13, 14, 15, 16, 17, 18]   \n",
       "3    (0.5, 0.5, 3.0)  [11, 12, 13, 14, 15, 16, 17, 18, 19, 20, 21]   \n",
       "4    (0.5, 0.5, 3.0)                  [6, 7, 8, 9, 10, 11, 12, 13]   \n",
       "..               ...                                           ...   \n",
       "199  (0.5, 0.5, 3.0)    [8, 9, 10, 11, 12, 13, 14, 15, 16, 17, 18]   \n",
       "200  (0.5, 0.5, 3.0)                      [10, 11, 12, 13, 14, 15]   \n",
       "201  (0.5, 0.5, 3.0)              [13, 14, 15, 16, 17, 18, 19, 20]   \n",
       "202  (0.5, 0.5, 3.0)             [7, 8, 9, 10, 11, 12, 13, 14, 15]   \n",
       "203  (0.5, 0.5, 3.0)   [5, 6, 7, 8, 9, 10, 11, 12, 13, 14, 15, 16]   \n",
       "\n",
       "                                                    T2  \\\n",
       "0    data\\processed\\ProstateX-0000_t2_tse_tra_t2_ts...   \n",
       "1    data\\processed\\ProstateX-0001_t2_tse_tra_t2_ts...   \n",
       "2    data\\processed\\ProstateX-0002_t2_tse_tra_t2_ts...   \n",
       "3    data\\processed\\ProstateX-0003_t2_tse_tra_t2_ts...   \n",
       "4    data\\processed\\ProstateX-0004_t2_tse_tra_t2_ts...   \n",
       "..                                                 ...   \n",
       "199  data\\processed\\ProstateX-0199_t2_tse_tra_t2_ts...   \n",
       "200  data\\processed\\ProstateX-0200_t2_tse_tra_t2_ts...   \n",
       "201  data\\processed\\ProstateX-0201_t2_tse_tra_t2_ts...   \n",
       "202  data\\processed\\ProstateX-0202_t2_tse_tra_t2_ts...   \n",
       "203  data\\processed\\ProstateX-0203_t2_tse_tra_t2_ts...   \n",
       "\n",
       "                                                   ADC  \\\n",
       "0    data\\processed\\ProstateX-0000_ep2d_diff_tra_ep...   \n",
       "1    data\\processed\\ProstateX-0001_ep2d_diff_tra_ep...   \n",
       "2    data\\processed\\ProstateX-0002_ep2d_diff_tra_ep...   \n",
       "3    data\\processed\\ProstateX-0003_ep2d_diff_tra_ep...   \n",
       "4    data\\processed\\ProstateX-0004_ep2d_diff_tra_ep...   \n",
       "..                                                 ...   \n",
       "199  data\\processed\\ProstateX-0199_diffusie-3Scan-4...   \n",
       "200  data\\processed\\ProstateX-0200_diffusie-3Scan-4...   \n",
       "201  data\\processed\\ProstateX-0201_diffusie-3Scan-4...   \n",
       "202  data\\processed\\ProstateX-0202_diffusie-3Scan-4...   \n",
       "203  data\\processed\\ProstateX-0203_diffusie-3Scan-4...   \n",
       "\n",
       "                                          KTrans  \n",
       "0    data\\processed\\ProstateX-0000-Ktrans.nii.gz  \n",
       "1    data\\processed\\ProstateX-0001-Ktrans.nii.gz  \n",
       "2    data\\processed\\ProstateX-0002-Ktrans.nii.gz  \n",
       "3    data\\processed\\ProstateX-0003-Ktrans.nii.gz  \n",
       "4    data\\processed\\ProstateX-0004-Ktrans.nii.gz  \n",
       "..                                           ...  \n",
       "199  data\\processed\\ProstateX-0199-Ktrans.nii.gz  \n",
       "200  data\\processed\\ProstateX-0200-Ktrans.nii.gz  \n",
       "201  data\\processed\\ProstateX-0201-Ktrans.nii.gz  \n",
       "202  data\\processed\\ProstateX-0202-Ktrans.nii.gz  \n",
       "203  data\\processed\\ProstateX-0203-Ktrans.nii.gz  \n",
       "\n",
       "[204 rows x 10 columns]"
      ]
     },
     "execution_count": 15,
     "metadata": {},
     "output_type": "execute_result"
    }
   ],
   "source": [
    "labels = pd.read_pickle(LABELS)\n",
    "labels"
   ]
  },
  {
   "cell_type": "markdown",
   "metadata": {},
   "source": [
    "# Split the dataset randomly"
   ]
  },
  {
   "cell_type": "code",
   "execution_count": 5,
   "metadata": {},
   "outputs": [
    {
     "data": {
      "text/plain": [
       "(163, 41)"
      ]
     },
     "execution_count": 5,
     "metadata": {},
     "output_type": "execute_result"
    }
   ],
   "source": [
    "patients = list(labels.ProxID)\n",
    "\n",
    "TRAIN_TEST_RATIO = 0.8\n",
    "train_num = int(len(patients) * TRAIN_TEST_RATIO)\n",
    "\n",
    "random.shuffle(patients)\n",
    "\n",
    "train_data, test_data = patients[:train_num], patients[train_num:] \n",
    "\n",
    "len(train_data), len(test_data)"
   ]
  },
  {
   "cell_type": "markdown",
   "metadata": {},
   "source": [
    "# Prepare training data "
   ]
  },
  {
   "cell_type": "code",
   "execution_count": 6,
   "metadata": {},
   "outputs": [],
   "source": [
    "def get_lesion_summary(ClinSig):\n",
    "    summary = False\n",
    "    for cs in ClinSig:\n",
    "        summary = summary or cs\n",
    "    return summary\n",
    "\n",
    "\n",
    "def get_images_and_labels(data, labels):\n",
    "    images_arr = []\n",
    "    labels_arr = []\n",
    "\n",
    "    for patient_id in data:\n",
    "        patient_data = get_patient_data(patient_id, labels)\n",
    "\n",
    "        label = 0\n",
    "        clin_sig = get_lesion_summary(patient_data['data']['ClinSig'])\n",
    "        if clin_sig: label = 1\n",
    "\n",
    "        images_arr.append(patient_data['images']['T2'])\n",
    "        images_arr.append(patient_data['images']['ADC'])\n",
    "        images_arr.append(patient_data['images']['KTrans'])\n",
    "\n",
    "        for i in range(3):\n",
    "            labels_arr.append(label)\n",
    "            \n",
    "    return images_arr, labels_arr"
   ]
  },
  {
   "cell_type": "code",
   "execution_count": 7,
   "metadata": {},
   "outputs": [
    {
     "data": {
      "text/plain": [
       "(489, 489, torch.Size([489, 2]))"
      ]
     },
     "execution_count": 7,
     "metadata": {},
     "output_type": "execute_result"
    }
   ],
   "source": [
    "train_images_arr, labels_arr = get_images_and_labels(train_data, labels)\n",
    "\n",
    "train_labels_arr = np.array(labels_arr)\n",
    "train_labels_arr = torch.nn.functional.one_hot(torch.as_tensor(labels_arr)).float()\n",
    "\n",
    "len(train_images_arr), len(train_labels_arr), train_labels_arr.shape"
   ]
  },
  {
   "cell_type": "markdown",
   "metadata": {},
   "source": [
    "## Define transforms"
   ]
  },
  {
   "cell_type": "code",
   "execution_count": 8,
   "metadata": {},
   "outputs": [],
   "source": [
    "RESIZE_SIZE = 168\n",
    "\n",
    "train_transforms = Compose([\n",
    "    ScaleIntensity(), \n",
    "    AddChannel(), \n",
    "    Resize((RESIZE_SIZE, RESIZE_SIZE, RESIZE_SIZE)), \n",
    "    RandRotate90(), \n",
    "    EnsureType()\n",
    "])\n",
    "\n",
    "val_transforms = Compose([\n",
    "    ScaleIntensity(), \n",
    "    AddChannel(), \n",
    "    Resize((RESIZE_SIZE, RESIZE_SIZE, RESIZE_SIZE)), \n",
    "    EnsureType()\n",
    "])"
   ]
  },
  {
   "cell_type": "markdown",
   "metadata": {},
   "source": [
    "## Check loaders"
   ]
  },
  {
   "cell_type": "code",
   "execution_count": 9,
   "metadata": {},
   "outputs": [
    {
     "name": "stdout",
     "output_type": "stream",
     "text": [
      "<class 'torch.Tensor'> torch.Size([2, 1, 168, 168, 168]) tensor([[1., 0.],\n",
      "        [1., 0.]]) torch.Size([2, 2])\n"
     ]
    }
   ],
   "source": [
    "BATCH_SIZE = 2\n",
    "NUM_WORKERS = 0\n",
    "\n",
    "# Define nifti dataset, data loader\n",
    "check_ds = ImageDataset(\n",
    "    image_files=train_images_arr, \n",
    "    labels=train_labels_arr, \n",
    "    transform=train_transforms\n",
    ")\n",
    "check_loader = DataLoader(\n",
    "    check_ds, \n",
    "    batch_size=BATCH_SIZE, \n",
    "    num_workers=NUM_WORKERS, \n",
    "    pin_memory=pin_memory\n",
    ")\n",
    "\n",
    "im, label = monai.utils.misc.first(check_loader)\n",
    "print(type(im), im.shape, label, label.shape)"
   ]
  },
  {
   "cell_type": "markdown",
   "metadata": {},
   "source": [
    "## Create data loaders "
   ]
  },
  {
   "cell_type": "code",
   "execution_count": 10,
   "metadata": {},
   "outputs": [],
   "source": [
    "TRAIN_VAL_RATIO = 0.8\n",
    "train_val_num = int(len(train_data) * TRAIN_VAL_RATIO) * 3\n",
    "\n",
    "train_images, val_images = train_images_arr[:train_val_num], train_images_arr[train_val_num:]\n",
    "train_labels, val_labels = train_labels_arr[:train_val_num], train_labels_arr[train_val_num:]\n",
    "\n",
    "# create a training data loader\n",
    "train_ds = ImageDataset(\n",
    "    image_files=train_images, \n",
    "    labels=train_labels, \n",
    "    transform=train_transforms\n",
    ")\n",
    "train_loader = DataLoader(\n",
    "    train_ds, \n",
    "    batch_size=BATCH_SIZE, \n",
    "    shuffle=True, \n",
    "    num_workers=NUM_WORKERS, \n",
    "    pin_memory=pin_memory\n",
    ")\n",
    "\n",
    "# create a validation data loader\n",
    "val_ds = ImageDataset(\n",
    "    image_files=val_images, \n",
    "    labels=val_labels, \n",
    "    transform=val_transforms\n",
    ")\n",
    "val_loader = DataLoader(\n",
    "    val_ds, \n",
    "    batch_size=BATCH_SIZE, \n",
    "    num_workers=NUM_WORKERS, \n",
    "    pin_memory=pin_memory\n",
    ")"
   ]
  },
  {
   "cell_type": "markdown",
   "metadata": {},
   "source": [
    "# Train the data"
   ]
  },
  {
   "cell_type": "markdown",
   "metadata": {},
   "source": [
    "## Define network, loss function, and optimizer"
   ]
  },
  {
   "cell_type": "code",
   "execution_count": 11,
   "metadata": {},
   "outputs": [
    {
     "name": "stdout",
     "output_type": "stream",
     "text": [
      "20220704_185438\n"
     ]
    }
   ],
   "source": [
    "today = datetime.today()\n",
    "date_format_metric = today.strftime(\"%Y%m%d_%H%M%S\")\n",
    "print(date_format_metric)\n",
    "\n",
    "model = monai.networks.nets.DenseNet121(spatial_dims=3, in_channels=1, out_channels=2).to(device)\n",
    "\n",
    "loss_function = torch.nn.BCEWithLogitsLoss() \n",
    "\n",
    "optimizer = torch.optim.Adam(model.parameters(), 1e-4)"
   ]
  },
  {
   "cell_type": "markdown",
   "metadata": {},
   "source": [
    "## Training parameters"
   ]
  },
  {
   "cell_type": "code",
   "execution_count": 12,
   "metadata": {},
   "outputs": [],
   "source": [
    "EPOCHS = 50\n",
    "\n",
    "val_interval = 1\n",
    "best_metric = -1\n",
    "best_metric_epoch = -1\n",
    "\n",
    "epoch_loss_values = []\n",
    "metric_values = []\n",
    "writer = SummaryWriter()"
   ]
  },
  {
   "cell_type": "markdown",
   "metadata": {},
   "source": [
    "## Start training "
   ]
  },
  {
   "cell_type": "code",
   "execution_count": 13,
   "metadata": {
    "scrolled": false
   },
   "outputs": [
    {
     "name": "stdout",
     "output_type": "stream",
     "text": [
      "----------\n",
      "Epoch 1/50\n"
     ]
    },
    {
     "name": "stderr",
     "output_type": "stream",
     "text": [
      "100%|████████████████████████████████████████████████████████████████████████████████| 195/195 [02:47<00:00,  1.16it/s]\n"
     ]
    },
    {
     "name": "stdout",
     "output_type": "stream",
     "text": [
      "epoch 1 average loss: 0.6768\n",
      "Saved new best metric model\n",
      "Current epoch: 1 current accuracy: 0.5051 \n",
      "Best accuracy: 0.5051 at epoch 1\n",
      "----------\n",
      "Epoch 2/50\n"
     ]
    },
    {
     "name": "stderr",
     "output_type": "stream",
     "text": [
      "100%|████████████████████████████████████████████████████████████████████████████████| 195/195 [02:38<00:00,  1.23it/s]\n"
     ]
    },
    {
     "name": "stdout",
     "output_type": "stream",
     "text": [
      "epoch 2 average loss: 0.6516\n",
      "Saved new best metric model\n",
      "Current epoch: 2 current accuracy: 0.5152 \n",
      "Best accuracy: 0.5152 at epoch 2\n",
      "----------\n",
      "Epoch 3/50\n"
     ]
    },
    {
     "name": "stderr",
     "output_type": "stream",
     "text": [
      "100%|████████████████████████████████████████████████████████████████████████████████| 195/195 [02:39<00:00,  1.22it/s]\n"
     ]
    },
    {
     "name": "stdout",
     "output_type": "stream",
     "text": [
      "epoch 3 average loss: 0.6444\n",
      "Current epoch: 3 current accuracy: 0.5152 \n",
      "Best accuracy: 0.5152 at epoch 2\n",
      "----------\n",
      "Epoch 4/50\n"
     ]
    },
    {
     "name": "stderr",
     "output_type": "stream",
     "text": [
      "100%|████████████████████████████████████████████████████████████████████████████████| 195/195 [02:37<00:00,  1.24it/s]\n"
     ]
    },
    {
     "name": "stdout",
     "output_type": "stream",
     "text": [
      "epoch 4 average loss: 0.6438\n",
      "Current epoch: 4 current accuracy: 0.5152 \n",
      "Best accuracy: 0.5152 at epoch 2\n",
      "----------\n",
      "Epoch 5/50\n"
     ]
    },
    {
     "name": "stderr",
     "output_type": "stream",
     "text": [
      "100%|████████████████████████████████████████████████████████████████████████████████| 195/195 [02:35<00:00,  1.25it/s]\n"
     ]
    },
    {
     "name": "stdout",
     "output_type": "stream",
     "text": [
      "epoch 5 average loss: 0.6410\n",
      "Current epoch: 5 current accuracy: 0.5152 \n",
      "Best accuracy: 0.5152 at epoch 2\n",
      "----------\n",
      "Epoch 6/50\n"
     ]
    },
    {
     "name": "stderr",
     "output_type": "stream",
     "text": [
      "100%|████████████████████████████████████████████████████████████████████████████████| 195/195 [02:35<00:00,  1.25it/s]\n"
     ]
    },
    {
     "name": "stdout",
     "output_type": "stream",
     "text": [
      "epoch 6 average loss: 0.6344\n",
      "Saved new best metric model\n",
      "Current epoch: 6 current accuracy: 0.5354 \n",
      "Best accuracy: 0.5354 at epoch 6\n",
      "----------\n",
      "Epoch 7/50\n"
     ]
    },
    {
     "name": "stderr",
     "output_type": "stream",
     "text": [
      "100%|████████████████████████████████████████████████████████████████████████████████| 195/195 [02:41<00:00,  1.21it/s]\n"
     ]
    },
    {
     "name": "stdout",
     "output_type": "stream",
     "text": [
      "epoch 7 average loss: 0.6434\n",
      "Current epoch: 7 current accuracy: 0.5051 \n",
      "Best accuracy: 0.5354 at epoch 6\n",
      "----------\n",
      "Epoch 8/50\n"
     ]
    },
    {
     "name": "stderr",
     "output_type": "stream",
     "text": [
      "100%|████████████████████████████████████████████████████████████████████████████████| 195/195 [02:29<00:00,  1.30it/s]\n"
     ]
    },
    {
     "name": "stdout",
     "output_type": "stream",
     "text": [
      "epoch 8 average loss: 0.6352\n",
      "Current epoch: 8 current accuracy: 0.4949 \n",
      "Best accuracy: 0.5354 at epoch 6\n",
      "----------\n",
      "Epoch 9/50\n"
     ]
    },
    {
     "name": "stderr",
     "output_type": "stream",
     "text": [
      "100%|████████████████████████████████████████████████████████████████████████████████| 195/195 [02:21<00:00,  1.38it/s]\n"
     ]
    },
    {
     "name": "stdout",
     "output_type": "stream",
     "text": [
      "epoch 9 average loss: 0.6396\n",
      "Current epoch: 9 current accuracy: 0.4848 \n",
      "Best accuracy: 0.5354 at epoch 6\n",
      "----------\n",
      "Epoch 10/50\n"
     ]
    },
    {
     "name": "stderr",
     "output_type": "stream",
     "text": [
      "100%|████████████████████████████████████████████████████████████████████████████████| 195/195 [02:23<00:00,  1.36it/s]\n"
     ]
    },
    {
     "name": "stdout",
     "output_type": "stream",
     "text": [
      "epoch 10 average loss: 0.6351\n",
      "Current epoch: 10 current accuracy: 0.5152 \n",
      "Best accuracy: 0.5354 at epoch 6\n",
      "----------\n",
      "Epoch 11/50\n"
     ]
    },
    {
     "name": "stderr",
     "output_type": "stream",
     "text": [
      "100%|████████████████████████████████████████████████████████████████████████████████| 195/195 [02:21<00:00,  1.38it/s]\n"
     ]
    },
    {
     "name": "stdout",
     "output_type": "stream",
     "text": [
      "epoch 11 average loss: 0.6406\n",
      "Current epoch: 11 current accuracy: 0.4949 \n",
      "Best accuracy: 0.5354 at epoch 6\n",
      "----------\n",
      "Epoch 12/50\n"
     ]
    },
    {
     "name": "stderr",
     "output_type": "stream",
     "text": [
      "100%|████████████████████████████████████████████████████████████████████████████████| 195/195 [02:21<00:00,  1.38it/s]\n"
     ]
    },
    {
     "name": "stdout",
     "output_type": "stream",
     "text": [
      "epoch 12 average loss: 0.6355\n",
      "Current epoch: 12 current accuracy: 0.5253 \n",
      "Best accuracy: 0.5354 at epoch 6\n",
      "----------\n",
      "Epoch 13/50\n"
     ]
    },
    {
     "name": "stderr",
     "output_type": "stream",
     "text": [
      "100%|████████████████████████████████████████████████████████████████████████████████| 195/195 [02:21<00:00,  1.38it/s]\n"
     ]
    },
    {
     "name": "stdout",
     "output_type": "stream",
     "text": [
      "epoch 13 average loss: 0.6434\n",
      "Current epoch: 13 current accuracy: 0.5152 \n",
      "Best accuracy: 0.5354 at epoch 6\n",
      "----------\n",
      "Epoch 14/50\n"
     ]
    },
    {
     "name": "stderr",
     "output_type": "stream",
     "text": [
      "100%|████████████████████████████████████████████████████████████████████████████████| 195/195 [02:20<00:00,  1.39it/s]\n"
     ]
    },
    {
     "name": "stdout",
     "output_type": "stream",
     "text": [
      "epoch 14 average loss: 0.6385\n",
      "Current epoch: 14 current accuracy: 0.5152 \n",
      "Best accuracy: 0.5354 at epoch 6\n",
      "----------\n",
      "Epoch 15/50\n"
     ]
    },
    {
     "name": "stderr",
     "output_type": "stream",
     "text": [
      "100%|████████████████████████████████████████████████████████████████████████████████| 195/195 [02:20<00:00,  1.39it/s]\n"
     ]
    },
    {
     "name": "stdout",
     "output_type": "stream",
     "text": [
      "epoch 15 average loss: 0.6346\n",
      "Current epoch: 15 current accuracy: 0.5152 \n",
      "Best accuracy: 0.5354 at epoch 6\n",
      "----------\n",
      "Epoch 16/50\n"
     ]
    },
    {
     "name": "stderr",
     "output_type": "stream",
     "text": [
      "100%|████████████████████████████████████████████████████████████████████████████████| 195/195 [02:20<00:00,  1.38it/s]\n"
     ]
    },
    {
     "name": "stdout",
     "output_type": "stream",
     "text": [
      "epoch 16 average loss: 0.6342\n",
      "Current epoch: 16 current accuracy: 0.5152 \n",
      "Best accuracy: 0.5354 at epoch 6\n",
      "----------\n",
      "Epoch 17/50\n"
     ]
    },
    {
     "name": "stderr",
     "output_type": "stream",
     "text": [
      "100%|████████████████████████████████████████████████████████████████████████████████| 195/195 [02:20<00:00,  1.38it/s]\n"
     ]
    },
    {
     "name": "stdout",
     "output_type": "stream",
     "text": [
      "epoch 17 average loss: 0.6347\n",
      "Current epoch: 17 current accuracy: 0.5253 \n",
      "Best accuracy: 0.5354 at epoch 6\n",
      "----------\n",
      "Epoch 18/50\n"
     ]
    },
    {
     "name": "stderr",
     "output_type": "stream",
     "text": [
      "100%|████████████████████████████████████████████████████████████████████████████████| 195/195 [02:20<00:00,  1.39it/s]\n"
     ]
    },
    {
     "name": "stdout",
     "output_type": "stream",
     "text": [
      "epoch 18 average loss: 0.6438\n",
      "Current epoch: 18 current accuracy: 0.5354 \n",
      "Best accuracy: 0.5354 at epoch 6\n",
      "----------\n",
      "Epoch 19/50\n"
     ]
    },
    {
     "name": "stderr",
     "output_type": "stream",
     "text": [
      "100%|████████████████████████████████████████████████████████████████████████████████| 195/195 [02:20<00:00,  1.38it/s]\n"
     ]
    },
    {
     "name": "stdout",
     "output_type": "stream",
     "text": [
      "epoch 19 average loss: 0.6326\n",
      "Current epoch: 19 current accuracy: 0.5253 \n",
      "Best accuracy: 0.5354 at epoch 6\n",
      "----------\n",
      "Epoch 20/50\n"
     ]
    },
    {
     "name": "stderr",
     "output_type": "stream",
     "text": [
      "100%|████████████████████████████████████████████████████████████████████████████████| 195/195 [02:20<00:00,  1.38it/s]\n"
     ]
    },
    {
     "name": "stdout",
     "output_type": "stream",
     "text": [
      "epoch 20 average loss: 0.6333\n",
      "Current epoch: 20 current accuracy: 0.5253 \n",
      "Best accuracy: 0.5354 at epoch 6\n",
      "----------\n",
      "Epoch 21/50\n"
     ]
    },
    {
     "name": "stderr",
     "output_type": "stream",
     "text": [
      "100%|████████████████████████████████████████████████████████████████████████████████| 195/195 [02:20<00:00,  1.39it/s]\n"
     ]
    },
    {
     "name": "stdout",
     "output_type": "stream",
     "text": [
      "epoch 21 average loss: 0.6281\n",
      "Current epoch: 21 current accuracy: 0.5253 \n",
      "Best accuracy: 0.5354 at epoch 6\n",
      "----------\n",
      "Epoch 22/50\n"
     ]
    },
    {
     "name": "stderr",
     "output_type": "stream",
     "text": [
      "100%|████████████████████████████████████████████████████████████████████████████████| 195/195 [02:20<00:00,  1.38it/s]\n"
     ]
    },
    {
     "name": "stdout",
     "output_type": "stream",
     "text": [
      "epoch 22 average loss: 0.6293\n",
      "Current epoch: 22 current accuracy: 0.5354 \n",
      "Best accuracy: 0.5354 at epoch 6\n",
      "----------\n",
      "Epoch 23/50\n"
     ]
    },
    {
     "name": "stderr",
     "output_type": "stream",
     "text": [
      "100%|████████████████████████████████████████████████████████████████████████████████| 195/195 [02:20<00:00,  1.39it/s]\n"
     ]
    },
    {
     "name": "stdout",
     "output_type": "stream",
     "text": [
      "epoch 23 average loss: 0.6339\n",
      "Current epoch: 23 current accuracy: 0.5152 \n",
      "Best accuracy: 0.5354 at epoch 6\n",
      "----------\n",
      "Epoch 24/50\n"
     ]
    },
    {
     "name": "stderr",
     "output_type": "stream",
     "text": [
      "100%|████████████████████████████████████████████████████████████████████████████████| 195/195 [02:20<00:00,  1.39it/s]\n"
     ]
    },
    {
     "name": "stdout",
     "output_type": "stream",
     "text": [
      "epoch 24 average loss: 0.6327\n",
      "Current epoch: 24 current accuracy: 0.5253 \n",
      "Best accuracy: 0.5354 at epoch 6\n",
      "----------\n",
      "Epoch 25/50\n"
     ]
    },
    {
     "name": "stderr",
     "output_type": "stream",
     "text": [
      "100%|████████████████████████████████████████████████████████████████████████████████| 195/195 [02:20<00:00,  1.38it/s]\n"
     ]
    },
    {
     "name": "stdout",
     "output_type": "stream",
     "text": [
      "epoch 25 average loss: 0.6287\n",
      "Saved new best metric model\n",
      "Current epoch: 25 current accuracy: 0.5758 \n",
      "Best accuracy: 0.5758 at epoch 25\n",
      "----------\n",
      "Epoch 26/50\n"
     ]
    },
    {
     "name": "stderr",
     "output_type": "stream",
     "text": [
      "100%|████████████████████████████████████████████████████████████████████████████████| 195/195 [02:20<00:00,  1.39it/s]\n"
     ]
    },
    {
     "name": "stdout",
     "output_type": "stream",
     "text": [
      "epoch 26 average loss: 0.6356\n",
      "Current epoch: 26 current accuracy: 0.5152 \n",
      "Best accuracy: 0.5758 at epoch 25\n",
      "----------\n",
      "Epoch 27/50\n"
     ]
    },
    {
     "name": "stderr",
     "output_type": "stream",
     "text": [
      "100%|████████████████████████████████████████████████████████████████████████████████| 195/195 [02:21<00:00,  1.38it/s]\n"
     ]
    },
    {
     "name": "stdout",
     "output_type": "stream",
     "text": [
      "epoch 27 average loss: 0.6240\n",
      "Current epoch: 27 current accuracy: 0.5253 \n",
      "Best accuracy: 0.5758 at epoch 25\n",
      "----------\n",
      "Epoch 28/50\n"
     ]
    },
    {
     "name": "stderr",
     "output_type": "stream",
     "text": [
      "100%|████████████████████████████████████████████████████████████████████████████████| 195/195 [02:20<00:00,  1.38it/s]\n"
     ]
    },
    {
     "name": "stdout",
     "output_type": "stream",
     "text": [
      "epoch 28 average loss: 0.6323\n",
      "Current epoch: 28 current accuracy: 0.5455 \n",
      "Best accuracy: 0.5758 at epoch 25\n",
      "----------\n",
      "Epoch 29/50\n"
     ]
    },
    {
     "name": "stderr",
     "output_type": "stream",
     "text": [
      "100%|████████████████████████████████████████████████████████████████████████████████| 195/195 [02:21<00:00,  1.38it/s]\n"
     ]
    },
    {
     "name": "stdout",
     "output_type": "stream",
     "text": [
      "epoch 29 average loss: 0.6277\n",
      "Current epoch: 29 current accuracy: 0.5152 \n",
      "Best accuracy: 0.5758 at epoch 25\n",
      "----------\n",
      "Epoch 30/50\n"
     ]
    },
    {
     "name": "stderr",
     "output_type": "stream",
     "text": [
      "100%|████████████████████████████████████████████████████████████████████████████████| 195/195 [02:20<00:00,  1.38it/s]\n"
     ]
    },
    {
     "name": "stdout",
     "output_type": "stream",
     "text": [
      "epoch 30 average loss: 0.6220\n",
      "Current epoch: 30 current accuracy: 0.5253 \n",
      "Best accuracy: 0.5758 at epoch 25\n",
      "----------\n",
      "Epoch 31/50\n"
     ]
    },
    {
     "name": "stderr",
     "output_type": "stream",
     "text": [
      "100%|████████████████████████████████████████████████████████████████████████████████| 195/195 [02:20<00:00,  1.38it/s]\n"
     ]
    },
    {
     "name": "stdout",
     "output_type": "stream",
     "text": [
      "epoch 31 average loss: 0.6144\n",
      "Current epoch: 31 current accuracy: 0.5354 \n",
      "Best accuracy: 0.5758 at epoch 25\n",
      "----------\n",
      "Epoch 32/50\n"
     ]
    },
    {
     "name": "stderr",
     "output_type": "stream",
     "text": [
      "100%|████████████████████████████████████████████████████████████████████████████████| 195/195 [02:20<00:00,  1.38it/s]\n"
     ]
    },
    {
     "name": "stdout",
     "output_type": "stream",
     "text": [
      "epoch 32 average loss: 0.6281\n",
      "Current epoch: 32 current accuracy: 0.5253 \n",
      "Best accuracy: 0.5758 at epoch 25\n",
      "----------\n",
      "Epoch 33/50\n"
     ]
    },
    {
     "name": "stderr",
     "output_type": "stream",
     "text": [
      "100%|████████████████████████████████████████████████████████████████████████████████| 195/195 [02:21<00:00,  1.38it/s]\n"
     ]
    },
    {
     "name": "stdout",
     "output_type": "stream",
     "text": [
      "epoch 33 average loss: 0.6152\n",
      "Current epoch: 33 current accuracy: 0.5556 \n",
      "Best accuracy: 0.5758 at epoch 25\n",
      "----------\n",
      "Epoch 34/50\n"
     ]
    },
    {
     "name": "stderr",
     "output_type": "stream",
     "text": [
      "100%|████████████████████████████████████████████████████████████████████████████████| 195/195 [02:20<00:00,  1.38it/s]\n"
     ]
    },
    {
     "name": "stdout",
     "output_type": "stream",
     "text": [
      "epoch 34 average loss: 0.6187\n",
      "Current epoch: 34 current accuracy: 0.5253 \n",
      "Best accuracy: 0.5758 at epoch 25\n",
      "----------\n",
      "Epoch 35/50\n"
     ]
    },
    {
     "name": "stderr",
     "output_type": "stream",
     "text": [
      "100%|████████████████████████████████████████████████████████████████████████████████| 195/195 [02:20<00:00,  1.38it/s]\n"
     ]
    },
    {
     "name": "stdout",
     "output_type": "stream",
     "text": [
      "epoch 35 average loss: 0.6021\n",
      "Current epoch: 35 current accuracy: 0.5455 \n",
      "Best accuracy: 0.5758 at epoch 25\n",
      "----------\n",
      "Epoch 36/50\n"
     ]
    },
    {
     "name": "stderr",
     "output_type": "stream",
     "text": [
      "100%|████████████████████████████████████████████████████████████████████████████████| 195/195 [02:20<00:00,  1.39it/s]\n"
     ]
    },
    {
     "name": "stdout",
     "output_type": "stream",
     "text": [
      "epoch 36 average loss: 0.6205\n",
      "Current epoch: 36 current accuracy: 0.5455 \n",
      "Best accuracy: 0.5758 at epoch 25\n",
      "----------\n",
      "Epoch 37/50\n"
     ]
    },
    {
     "name": "stderr",
     "output_type": "stream",
     "text": [
      "100%|████████████████████████████████████████████████████████████████████████████████| 195/195 [02:21<00:00,  1.38it/s]\n"
     ]
    },
    {
     "name": "stdout",
     "output_type": "stream",
     "text": [
      "epoch 37 average loss: 0.6064\n",
      "Current epoch: 37 current accuracy: 0.5354 \n",
      "Best accuracy: 0.5758 at epoch 25\n",
      "----------\n",
      "Epoch 38/50\n"
     ]
    },
    {
     "name": "stderr",
     "output_type": "stream",
     "text": [
      "100%|████████████████████████████████████████████████████████████████████████████████| 195/195 [02:20<00:00,  1.39it/s]\n"
     ]
    },
    {
     "name": "stdout",
     "output_type": "stream",
     "text": [
      "epoch 38 average loss: 0.6142\n",
      "Current epoch: 38 current accuracy: 0.5455 \n",
      "Best accuracy: 0.5758 at epoch 25\n",
      "----------\n",
      "Epoch 39/50\n"
     ]
    },
    {
     "name": "stderr",
     "output_type": "stream",
     "text": [
      "100%|████████████████████████████████████████████████████████████████████████████████| 195/195 [02:21<00:00,  1.38it/s]\n"
     ]
    },
    {
     "name": "stdout",
     "output_type": "stream",
     "text": [
      "epoch 39 average loss: 0.6056\n",
      "Current epoch: 39 current accuracy: 0.5354 \n",
      "Best accuracy: 0.5758 at epoch 25\n",
      "----------\n",
      "Epoch 40/50\n"
     ]
    },
    {
     "name": "stderr",
     "output_type": "stream",
     "text": [
      "100%|████████████████████████████████████████████████████████████████████████████████| 195/195 [02:21<00:00,  1.38it/s]\n"
     ]
    },
    {
     "name": "stdout",
     "output_type": "stream",
     "text": [
      "epoch 40 average loss: 0.6029\n",
      "Current epoch: 40 current accuracy: 0.5253 \n",
      "Best accuracy: 0.5758 at epoch 25\n",
      "----------\n",
      "Epoch 41/50\n"
     ]
    },
    {
     "name": "stderr",
     "output_type": "stream",
     "text": [
      "100%|████████████████████████████████████████████████████████████████████████████████| 195/195 [02:20<00:00,  1.38it/s]\n"
     ]
    },
    {
     "name": "stdout",
     "output_type": "stream",
     "text": [
      "epoch 41 average loss: 0.5870\n",
      "Current epoch: 41 current accuracy: 0.5758 \n",
      "Best accuracy: 0.5758 at epoch 25\n",
      "----------\n",
      "Epoch 42/50\n"
     ]
    },
    {
     "name": "stderr",
     "output_type": "stream",
     "text": [
      "100%|████████████████████████████████████████████████████████████████████████████████| 195/195 [02:20<00:00,  1.39it/s]\n"
     ]
    },
    {
     "name": "stdout",
     "output_type": "stream",
     "text": [
      "epoch 42 average loss: 0.5963\n",
      "Current epoch: 42 current accuracy: 0.5758 \n",
      "Best accuracy: 0.5758 at epoch 25\n",
      "----------\n",
      "Epoch 43/50\n"
     ]
    },
    {
     "name": "stderr",
     "output_type": "stream",
     "text": [
      "100%|████████████████████████████████████████████████████████████████████████████████| 195/195 [02:20<00:00,  1.39it/s]\n"
     ]
    },
    {
     "name": "stdout",
     "output_type": "stream",
     "text": [
      "epoch 43 average loss: 0.5850\n",
      "Current epoch: 43 current accuracy: 0.5455 \n",
      "Best accuracy: 0.5758 at epoch 25\n",
      "----------\n",
      "Epoch 44/50\n"
     ]
    },
    {
     "name": "stderr",
     "output_type": "stream",
     "text": [
      "100%|████████████████████████████████████████████████████████████████████████████████| 195/195 [02:20<00:00,  1.38it/s]\n"
     ]
    },
    {
     "name": "stdout",
     "output_type": "stream",
     "text": [
      "epoch 44 average loss: 0.5901\n",
      "Current epoch: 44 current accuracy: 0.5556 \n",
      "Best accuracy: 0.5758 at epoch 25\n",
      "----------\n",
      "Epoch 45/50\n"
     ]
    },
    {
     "name": "stderr",
     "output_type": "stream",
     "text": [
      "100%|████████████████████████████████████████████████████████████████████████████████| 195/195 [02:20<00:00,  1.39it/s]\n"
     ]
    },
    {
     "name": "stdout",
     "output_type": "stream",
     "text": [
      "epoch 45 average loss: 0.5767\n",
      "Current epoch: 45 current accuracy: 0.5657 \n",
      "Best accuracy: 0.5758 at epoch 25\n",
      "----------\n",
      "Epoch 46/50\n"
     ]
    },
    {
     "name": "stderr",
     "output_type": "stream",
     "text": [
      "100%|████████████████████████████████████████████████████████████████████████████████| 195/195 [02:21<00:00,  1.38it/s]\n"
     ]
    },
    {
     "name": "stdout",
     "output_type": "stream",
     "text": [
      "epoch 46 average loss: 0.5697\n",
      "Saved new best metric model\n",
      "Current epoch: 46 current accuracy: 0.5859 \n",
      "Best accuracy: 0.5859 at epoch 46\n",
      "----------\n",
      "Epoch 47/50\n"
     ]
    },
    {
     "name": "stderr",
     "output_type": "stream",
     "text": [
      "100%|████████████████████████████████████████████████████████████████████████████████| 195/195 [02:20<00:00,  1.39it/s]\n"
     ]
    },
    {
     "name": "stdout",
     "output_type": "stream",
     "text": [
      "epoch 47 average loss: 0.5504\n",
      "Current epoch: 47 current accuracy: 0.5455 \n",
      "Best accuracy: 0.5859 at epoch 46\n",
      "----------\n",
      "Epoch 48/50\n"
     ]
    },
    {
     "name": "stderr",
     "output_type": "stream",
     "text": [
      "100%|████████████████████████████████████████████████████████████████████████████████| 195/195 [02:21<00:00,  1.38it/s]\n"
     ]
    },
    {
     "name": "stdout",
     "output_type": "stream",
     "text": [
      "epoch 48 average loss: 0.5366\n",
      "Saved new best metric model\n",
      "Current epoch: 48 current accuracy: 0.5960 \n",
      "Best accuracy: 0.5960 at epoch 48\n",
      "----------\n",
      "Epoch 49/50\n"
     ]
    },
    {
     "name": "stderr",
     "output_type": "stream",
     "text": [
      "100%|████████████████████████████████████████████████████████████████████████████████| 195/195 [02:21<00:00,  1.38it/s]\n"
     ]
    },
    {
     "name": "stdout",
     "output_type": "stream",
     "text": [
      "epoch 49 average loss: 0.5730\n",
      "Current epoch: 49 current accuracy: 0.5354 \n",
      "Best accuracy: 0.5960 at epoch 48\n",
      "----------\n",
      "Epoch 50/50\n"
     ]
    },
    {
     "name": "stderr",
     "output_type": "stream",
     "text": [
      "100%|████████████████████████████████████████████████████████████████████████████████| 195/195 [02:21<00:00,  1.38it/s]\n"
     ]
    },
    {
     "name": "stdout",
     "output_type": "stream",
     "text": [
      "epoch 50 average loss: 0.5397\n",
      "Saved new best metric model\n",
      "Current epoch: 50 current accuracy: 0.6364 \n",
      "Best accuracy: 0.6364 at epoch 50\n",
      "Training completed, best_metric: 0.6364 at epoch: 50\n"
     ]
    }
   ],
   "source": [
    "for epoch in range(EPOCHS):\n",
    "    print(\"-\" * 10)\n",
    "    print(f\"Epoch {epoch + 1}/{EPOCHS}\")\n",
    "    model.train()\n",
    "    epoch_loss = 0\n",
    "    step = 0\n",
    "\n",
    "    for batch_data in tqdm(train_loader):\n",
    "        step += 1\n",
    "        inputs, labels = batch_data[0].to(device), batch_data[1].to(device)\n",
    "        optimizer.zero_grad()\n",
    "        outputs = model(inputs)\n",
    "        loss = loss_function(outputs, labels)\n",
    "        loss.backward()\n",
    "        optimizer.step()\n",
    "        epoch_loss += loss.item()\n",
    "        epoch_len = len(train_ds) // train_loader.batch_size\n",
    "        writer.add_scalar(\"train_loss\", loss.item(), epoch_len * epoch + step)\n",
    "\n",
    "    epoch_loss /= step\n",
    "    epoch_loss_values.append(epoch_loss)\n",
    "    print(f\"epoch {epoch + 1} average loss: {epoch_loss:.4f}\")\n",
    "\n",
    "    if (epoch + 1) % val_interval == 0:\n",
    "        model.eval()\n",
    "\n",
    "        num_correct = 0.0\n",
    "        metric_count = 0\n",
    "        for val_data in val_loader:\n",
    "            val_images, val_labels = val_data[0].to(device), val_data[1].to(device)\n",
    "            with torch.no_grad():\n",
    "                val_outputs = model(val_images)\n",
    "                value = torch.eq(val_outputs.argmax(dim=1), val_labels.argmax(dim=1))\n",
    "                metric_count += len(value)\n",
    "                num_correct += value.sum().item()\n",
    "\n",
    "        metric = num_correct / metric_count\n",
    "        metric_values.append(metric)\n",
    "\n",
    "        if metric > best_metric:\n",
    "            best_metric = metric\n",
    "            best_metric_epoch = epoch + 1\n",
    "            torch.save(\n",
    "                model.state_dict(), \n",
    "                f\"best_metrics/{date_format_metric}_best_metric_model.pth\"\n",
    "            )\n",
    "            print(\"Saved new best metric model\")\n",
    "\n",
    "        print(f\"Current epoch: {epoch+1} current accuracy: {metric:.4f} \")\n",
    "        print(f\"Best accuracy: {best_metric:.4f} at epoch {best_metric_epoch}\")\n",
    "        writer.add_scalar(\"val_accuracy\", metric, epoch + 1)\n",
    "\n",
    "print(f\"Training completed, best_metric: {best_metric:.4f} at epoch: {best_metric_epoch}\")\n",
    "writer.close()"
   ]
  },
  {
   "cell_type": "markdown",
   "metadata": {},
   "source": [
    "# Test the model"
   ]
  },
  {
   "cell_type": "markdown",
   "metadata": {},
   "source": [
    "## Prepare test data "
   ]
  },
  {
   "cell_type": "code",
   "execution_count": 16,
   "metadata": {},
   "outputs": [
    {
     "data": {
      "text/plain": [
       "(123, 123, torch.Size([123, 2]))"
      ]
     },
     "execution_count": 16,
     "metadata": {},
     "output_type": "execute_result"
    }
   ],
   "source": [
    "test_images_arr, labels_arr = get_images_and_labels(test_data, labels)\n",
    "\n",
    "test_labels_arr = np.array(labels_arr)\n",
    "test_labels_arr = torch.nn.functional.one_hot(torch.as_tensor(labels_arr)).float()\n",
    "\n",
    "len(test_images_arr), len(test_labels_arr), test_labels_arr.shape"
   ]
  },
  {
   "cell_type": "markdown",
   "metadata": {},
   "source": [
    "## Create test loader"
   ]
  },
  {
   "cell_type": "code",
   "execution_count": 17,
   "metadata": {},
   "outputs": [],
   "source": [
    "BATCH_SIZE_TEST = 1\n",
    "NUM_WORKERS_TEST = 0\n",
    "\n",
    "test_ds = ImageDataset(\n",
    "    image_files=test_images_arr, \n",
    "    labels=test_labels_arr, \n",
    "    transform=val_transforms\n",
    ")\n",
    "\n",
    "test_loader = DataLoader(\n",
    "    val_ds, \n",
    "    batch_size=BATCH_SIZE_TEST, \n",
    "    num_workers=NUM_WORKERS_TEST, \n",
    "    pin_memory=torch.cuda.is_available()\n",
    ")"
   ]
  },
  {
   "cell_type": "code",
   "execution_count": 78,
   "metadata": {
    "scrolled": true
   },
   "outputs": [
    {
     "name": "stderr",
     "output_type": "stream",
     "text": [
      "100%|██████████████████████████████████████████████████████████████████████████████████| 99/99 [00:21<00:00,  4.68it/s]"
     ]
    },
    {
     "name": "stdout",
     "output_type": "stream",
     "text": [
      "evaluation metric: 0.36363636363636365\n"
     ]
    },
    {
     "name": "stderr",
     "output_type": "stream",
     "text": [
      "\n"
     ]
    }
   ],
   "source": [
    "from monai.data import CSVSaver, ImageDataset\n",
    "\n",
    "device = torch.device(\"cuda\" if torch.cuda.is_available() else \"cpu\")\n",
    "model_test = monai.networks.nets.DenseNet121(spatial_dims=3, in_channels=1, out_channels=2).to(device)\n",
    "\n",
    "model_test.load_state_dict(torch.load(\"best_metrics/20220704_185438.pth\"))\n",
    "model_test.eval()\n",
    "\n",
    "OUTPUT = Path('output')\n",
    "if not os.path.exists(OUTPUT): os.mkdir(OUTPUT)\n",
    "\n",
    "with torch.no_grad():\n",
    "    num_correct = 0.0\n",
    "    metric_count = 0\n",
    "    saver = CSVSaver(output_dir=\"./output\")\n",
    "    for test_data in tqdm(test_loader):\n",
    "        test_images, test_labels = test_data[0].to(device), test_data[1].to(device)\n",
    "        test_outputs = model_test(test_images).argmax(dim=1)\n",
    "        value = torch.eq(test_outputs, test_labels)\n",
    "        metric_count += len(value)\n",
    "        num_correct += int(value[0][0].item())\n",
    "        saver.save_batch(test_outputs)\n",
    "    metric = num_correct / metric_count\n",
    "    print(\"evaluation metric:\", metric)"
   ]
  },
  {
   "cell_type": "code",
   "execution_count": null,
   "metadata": {},
   "outputs": [],
   "source": []
  }
 ],
 "metadata": {
  "kernelspec": {
   "display_name": "Python 3 (ipykernel)",
   "language": "python",
   "name": "python3"
  },
  "language_info": {
   "codemirror_mode": {
    "name": "ipython",
    "version": 3
   },
   "file_extension": ".py",
   "mimetype": "text/x-python",
   "name": "python",
   "nbconvert_exporter": "python",
   "pygments_lexer": "ipython3",
   "version": "3.9.0"
  }
 },
 "nbformat": 4,
 "nbformat_minor": 4
}
