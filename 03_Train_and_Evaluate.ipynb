{
 "cells": [
  {
   "cell_type": "markdown",
   "metadata": {},
   "source": [
    "# Setup imports"
   ]
  },
  {
   "cell_type": "code",
   "execution_count": 1,
   "metadata": {
    "scrolled": false
   },
   "outputs": [],
   "source": [
    "import logging\n",
    "import os\n",
    "import random\n",
    "import sys\n",
    "\n",
    "import numpy as np\n",
    "import pandas as pd\n",
    "import torch\n",
    "torch.cuda.empty_cache()\n",
    "\n",
    "from torch.utils.tensorboard import SummaryWriter\n",
    "\n",
    "import monai\n",
    "from monai.data import DataLoader, ImageDataset\n",
    "from monai.transforms import AddChannel, Compose, RandRotate90\n",
    "from monai.transforms import Resize, ScaleIntensity, EnsureType\n",
    "\n",
    "from datetime import datetime\n",
    "from tqdm import tqdm\n",
    "\n",
    "from constants import Constants\n",
    "from patient import Patient\n",
    "\n",
    "pin_memory = torch.cuda.is_available()\n",
    "device = torch.device(\"cuda\" if torch.cuda.is_available() else \"cpu\")\n",
    "\n",
    "logging.basicConfig(stream=sys.stdout, level=logging.INFO)\n",
    "\n",
    "constants = Constants()"
   ]
  },
  {
   "cell_type": "code",
   "execution_count": 2,
   "metadata": {
    "scrolled": false
   },
   "outputs": [],
   "source": [
    "LABELS = constants.labels_pkl\n",
    "\n",
    "LOGS = constants.logs\n",
    "if not os.path.exists(LOGS): os.mkdir(LOGS)\n",
    "    \n",
    "BEST_METRICS = constants.best_metrics\n",
    "if not os.path.exists(BEST_METRICS): os.mkdir(BEST_METRICS)"
   ]
  },
  {
   "cell_type": "markdown",
   "metadata": {},
   "source": [
    "## Initialize log saving "
   ]
  },
  {
   "cell_type": "code",
   "execution_count": 3,
   "metadata": {},
   "outputs": [],
   "source": [
    "def log_write(command, file):\n",
    "    file.write(f'{command}\\n')\n",
    "    print(command)"
   ]
  },
  {
   "cell_type": "markdown",
   "metadata": {},
   "source": [
    "# Get existing data"
   ]
  },
  {
   "cell_type": "code",
   "execution_count": 4,
   "metadata": {
    "scrolled": false
   },
   "outputs": [],
   "source": [
    "def get_patients(labels):\n",
    "    patient_data = {}\n",
    "    for c, prox_id in enumerate(labels.ProxID):\n",
    "        labels_row = labels.iloc[c]\n",
    "        \n",
    "        new_patient = Patient()\n",
    "        new_patient.add_labels(labels_row)\n",
    "        \n",
    "        patient_data[prox_id] = new_patient\n",
    "        \n",
    "    return patient_data"
   ]
  },
  {
   "cell_type": "code",
   "execution_count": 5,
   "metadata": {
    "scrolled": false
   },
   "outputs": [],
   "source": [
    "labels_df = pd.read_pickle(LABELS)\n",
    "patient_data = get_patients(labels_df)"
   ]
  },
  {
   "cell_type": "markdown",
   "metadata": {},
   "source": [
    "# Split the dataset randomly"
   ]
  },
  {
   "cell_type": "code",
   "execution_count": 6,
   "metadata": {},
   "outputs": [
    {
     "data": {
      "text/plain": [
       "(163, 41)"
      ]
     },
     "execution_count": 6,
     "metadata": {},
     "output_type": "execute_result"
    }
   ],
   "source": [
    "patients = list(labels_df.ProxID)\n",
    "\n",
    "TRAIN_TEST_RATIO = constants.split_ratio\n",
    "train_num = int(len(patients) * TRAIN_TEST_RATIO)\n",
    "\n",
    "random.shuffle(patients)\n",
    "\n",
    "train_data, test_data = patients[:train_num], patients[train_num:] \n",
    "\n",
    "len(train_data), len(test_data)"
   ]
  },
  {
   "cell_type": "markdown",
   "metadata": {},
   "source": [
    "# Prepare training data "
   ]
  },
  {
   "cell_type": "code",
   "execution_count": 7,
   "metadata": {},
   "outputs": [],
   "source": [
    "def get_lesion_summary(ClinSig):\n",
    "    summary = False\n",
    "    for cs in ClinSig:\n",
    "        summary = summary or cs\n",
    "    return summary\n",
    "\n",
    "\n",
    "def get_images_and_labels(data, labels):\n",
    "    images_arr = []\n",
    "    labels_arr = []\n",
    "    num_files_idx = []\n",
    "\n",
    "    for patient_id in data:\n",
    "        patient = patient_data[patient_id]\n",
    "\n",
    "        label = 0\n",
    "        clin_sig = get_lesion_summary(patient.ClinSig)\n",
    "        if clin_sig: label = 1\n",
    "\n",
    "        for t2 in patient.T2: \n",
    "            images_arr.append(t2)\n",
    "            labels_arr.append(label)\n",
    "        for adc in patient.ADC: \n",
    "            images_arr.append(adc)\n",
    "            labels_arr.append(label)\n",
    "        for dwi in patient.DWI: \n",
    "            images_arr.append(dwi)\n",
    "            labels_arr.append(label)\n",
    "        images_arr.append(patient.KTrans)\n",
    "        labels_arr.append(label)\n",
    "        num_files_idx.append(len(images_arr))\n",
    "    return images_arr, labels_arr, num_files_idx"
   ]
  },
  {
   "cell_type": "code",
   "execution_count": 8,
   "metadata": {},
   "outputs": [
    {
     "data": {
      "text/plain": [
       "(1029, 1029, torch.Size([1029, 2]))"
      ]
     },
     "execution_count": 8,
     "metadata": {},
     "output_type": "execute_result"
    }
   ],
   "source": [
    "train_images_arr, labels_arr, num_files_idx = get_images_and_labels(train_data, labels_df)\n",
    "\n",
    "train_labels_arr = np.array(labels_arr)\n",
    "train_labels_arr = torch.nn.functional.one_hot(torch.as_tensor(labels_arr)).float()\n",
    "\n",
    "len(train_images_arr), len(train_labels_arr), train_labels_arr.shape"
   ]
  },
  {
   "cell_type": "markdown",
   "metadata": {},
   "source": [
    "## Define transforms"
   ]
  },
  {
   "cell_type": "code",
   "execution_count": 9,
   "metadata": {},
   "outputs": [],
   "source": [
    "RESIZE_SIZE = constants.image_resize\n",
    "\n",
    "train_transforms = Compose([\n",
    "    ScaleIntensity(), \n",
    "    AddChannel(), \n",
    "    Resize((RESIZE_SIZE, RESIZE_SIZE, RESIZE_SIZE)), \n",
    "    RandRotate90(), \n",
    "    EnsureType()\n",
    "])\n",
    "\n",
    "val_transforms = Compose([\n",
    "    ScaleIntensity(), \n",
    "    AddChannel(), \n",
    "    Resize((RESIZE_SIZE, RESIZE_SIZE, RESIZE_SIZE)), \n",
    "    EnsureType()\n",
    "])"
   ]
  },
  {
   "cell_type": "markdown",
   "metadata": {},
   "source": [
    "## Check loaders"
   ]
  },
  {
   "cell_type": "code",
   "execution_count": 10,
   "metadata": {},
   "outputs": [
    {
     "name": "stdout",
     "output_type": "stream",
     "text": [
      "<class 'torch.Tensor'> torch.Size([2, 1, 168, 168, 168]) tensor([[1., 0.],\n",
      "        [1., 0.]]) torch.Size([2, 2])\n"
     ]
    }
   ],
   "source": [
    "BATCH_SIZE = constants.batch_size\n",
    "NUM_WORKERS = constants.num_workers\n",
    "\n",
    "# Define nifti dataset, data loader\n",
    "check_ds = ImageDataset(\n",
    "    image_files=train_images_arr, \n",
    "    labels=train_labels_arr, \n",
    "    transform=train_transforms\n",
    ")\n",
    "check_loader = DataLoader(\n",
    "    check_ds, \n",
    "    batch_size=BATCH_SIZE, \n",
    "    num_workers=NUM_WORKERS, \n",
    "    pin_memory=pin_memory\n",
    ")\n",
    "\n",
    "im, label = monai.utils.misc.first(check_loader)\n",
    "print(type(im), im.shape, label, label.shape)"
   ]
  },
  {
   "cell_type": "markdown",
   "metadata": {},
   "source": [
    "## Create data loaders "
   ]
  },
  {
   "cell_type": "code",
   "execution_count": 11,
   "metadata": {},
   "outputs": [
    {
     "data": {
      "text/plain": [
       "(412, 103)"
      ]
     },
     "execution_count": 11,
     "metadata": {},
     "output_type": "execute_result"
    }
   ],
   "source": [
    "TRAIN_VAL_RATIO = constants.split_ratio\n",
    "train_val_num = num_files_idx[int(len(train_data) * TRAIN_VAL_RATIO)] - 1 \n",
    "\n",
    "train_images, val_images = train_images_arr[:train_val_num], train_images_arr[train_val_num:]\n",
    "train_labels, val_labels = train_labels_arr[:train_val_num], train_labels_arr[train_val_num:]\n",
    "\n",
    "# create a training data loader\n",
    "train_ds = ImageDataset(\n",
    "    image_files=train_images, \n",
    "    labels=train_labels, \n",
    "    transform=train_transforms\n",
    ")\n",
    "train_loader = DataLoader(\n",
    "    train_ds, \n",
    "    batch_size=BATCH_SIZE, \n",
    "    shuffle=True, \n",
    "    num_workers=NUM_WORKERS, \n",
    "    pin_memory=pin_memory\n",
    ")\n",
    "\n",
    "# create a validation data loader\n",
    "val_ds = ImageDataset(\n",
    "    image_files=val_images, \n",
    "    labels=val_labels, \n",
    "    transform=val_transforms\n",
    ")\n",
    "val_loader = DataLoader(\n",
    "    val_ds, \n",
    "    batch_size=BATCH_SIZE, \n",
    "    num_workers=NUM_WORKERS, \n",
    "    pin_memory=pin_memory\n",
    ")\n",
    "\n",
    "len(train_loader), len(val_loader)"
   ]
  },
  {
   "cell_type": "markdown",
   "metadata": {},
   "source": [
    "# Train the data"
   ]
  },
  {
   "cell_type": "markdown",
   "metadata": {},
   "source": [
    "## Define network, loss function, and optimizer"
   ]
  },
  {
   "cell_type": "code",
   "execution_count": 12,
   "metadata": {},
   "outputs": [
    {
     "name": "stdout",
     "output_type": "stream",
     "text": [
      "20220719_171020\n"
     ]
    }
   ],
   "source": [
    "today = datetime.today()\n",
    "date_format_metric = today.strftime(\"%Y%m%d_%H%M%S\")\n",
    "print(date_format_metric)\n",
    "\n",
    "model = constants.model.to(device)\n",
    "loss_function = constants.loss_function\n",
    "optimizer = constants.optimizer"
   ]
  },
  {
   "cell_type": "markdown",
   "metadata": {},
   "source": [
    "## Training parameters"
   ]
  },
  {
   "cell_type": "code",
   "execution_count": 13,
   "metadata": {},
   "outputs": [],
   "source": [
    "EPOCHS = constants.epochs\n",
    "MODEL_TYPE = constants.model_type\n",
    "LOSS_TYPE = constants.loss_type\n",
    "OPTIMIZER_TYPE = constants.optimizer_type\n",
    "LR = constants.lr\n",
    "\n",
    "val_interval = 1\n",
    "best_metric = -1\n",
    "best_metric_epoch = -1\n",
    "\n",
    "epoch_loss_values = []\n",
    "metric_values = []\n",
    "writer = SummaryWriter()"
   ]
  },
  {
   "cell_type": "markdown",
   "metadata": {},
   "source": [
    "## Start training "
   ]
  },
  {
   "cell_type": "code",
   "execution_count": 14,
   "metadata": {},
   "outputs": [],
   "source": [
    "log_filename_train = LOGS / f'{date_format_metric}_E{EPOCHS}_train.txt'\n",
    "log_filename_test = LOGS / f'{date_format_metric}_E{EPOCHS}_test.txt'"
   ]
  },
  {
   "cell_type": "code",
   "execution_count": 15,
   "metadata": {
    "scrolled": false
   },
   "outputs": [
    {
     "name": "stdout",
     "output_type": "stream",
     "text": [
      "Model         :: DensNet121(3, 1, 2)\n",
      "Loss function :: Binary Cross Entropy\n",
      "Optimizer     :: Adam\n",
      "Learning rate :: 0.0001\n",
      "\n",
      "----------\n",
      "Epoch 1/50\n"
     ]
    },
    {
     "name": "stderr",
     "output_type": "stream",
     "text": [
      "100%|████████████████████████████████████████████████████████████████████████████████| 412/412 [04:55<00:00,  1.39it/s]\n"
     ]
    },
    {
     "name": "stdout",
     "output_type": "stream",
     "text": [
      "Epoch 1 average loss: 0.6724\n",
      "Saved new best metric model\n",
      "Current epoch: 1 current accuracy: 0.8098\n",
      "Best accuracy: 0.8098 at epoch 1\n",
      "----------\n",
      "Epoch 2/50\n"
     ]
    },
    {
     "name": "stderr",
     "output_type": "stream",
     "text": [
      "100%|████████████████████████████████████████████████████████████████████████████████| 412/412 [04:47<00:00,  1.43it/s]\n"
     ]
    },
    {
     "name": "stdout",
     "output_type": "stream",
     "text": [
      "Epoch 2 average loss: 0.6652\n",
      "Current epoch: 2 current accuracy: 0.7854\n",
      "Best accuracy: 0.8098 at epoch 1\n",
      "----------\n",
      "Epoch 3/50\n"
     ]
    },
    {
     "name": "stderr",
     "output_type": "stream",
     "text": [
      "100%|████████████████████████████████████████████████████████████████████████████████| 412/412 [04:46<00:00,  1.44it/s]\n"
     ]
    },
    {
     "name": "stdout",
     "output_type": "stream",
     "text": [
      "Epoch 3 average loss: 0.6641\n",
      "Current epoch: 3 current accuracy: 0.7268\n",
      "Best accuracy: 0.8098 at epoch 1\n",
      "----------\n",
      "Epoch 4/50\n"
     ]
    },
    {
     "name": "stderr",
     "output_type": "stream",
     "text": [
      "100%|████████████████████████████████████████████████████████████████████████████████| 412/412 [04:47<00:00,  1.43it/s]\n"
     ]
    },
    {
     "name": "stdout",
     "output_type": "stream",
     "text": [
      "Epoch 4 average loss: 0.6604\n",
      "Current epoch: 4 current accuracy: 0.6439\n",
      "Best accuracy: 0.8098 at epoch 1\n",
      "----------\n",
      "Epoch 5/50\n"
     ]
    },
    {
     "name": "stderr",
     "output_type": "stream",
     "text": [
      "100%|████████████████████████████████████████████████████████████████████████████████| 412/412 [04:50<00:00,  1.42it/s]\n"
     ]
    },
    {
     "name": "stdout",
     "output_type": "stream",
     "text": [
      "Epoch 5 average loss: 0.6603\n",
      "Current epoch: 5 current accuracy: 0.8098\n",
      "Best accuracy: 0.8098 at epoch 1\n",
      "----------\n",
      "Epoch 6/50\n"
     ]
    },
    {
     "name": "stderr",
     "output_type": "stream",
     "text": [
      "100%|████████████████████████████████████████████████████████████████████████████████| 412/412 [04:50<00:00,  1.42it/s]\n"
     ]
    },
    {
     "name": "stdout",
     "output_type": "stream",
     "text": [
      "Epoch 6 average loss: 0.6587\n",
      "Current epoch: 6 current accuracy: 0.8098\n",
      "Best accuracy: 0.8098 at epoch 1\n",
      "----------\n",
      "Epoch 7/50\n"
     ]
    },
    {
     "name": "stderr",
     "output_type": "stream",
     "text": [
      "100%|████████████████████████████████████████████████████████████████████████████████| 412/412 [04:48<00:00,  1.43it/s]\n"
     ]
    },
    {
     "name": "stdout",
     "output_type": "stream",
     "text": [
      "Epoch 7 average loss: 0.6636\n",
      "Current epoch: 7 current accuracy: 0.8098\n",
      "Best accuracy: 0.8098 at epoch 1\n",
      "----------\n",
      "Epoch 8/50\n"
     ]
    },
    {
     "name": "stderr",
     "output_type": "stream",
     "text": [
      "100%|████████████████████████████████████████████████████████████████████████████████| 412/412 [04:49<00:00,  1.42it/s]\n"
     ]
    },
    {
     "name": "stdout",
     "output_type": "stream",
     "text": [
      "Epoch 8 average loss: 0.6570\n",
      "Current epoch: 8 current accuracy: 0.8098\n",
      "Best accuracy: 0.8098 at epoch 1\n",
      "----------\n",
      "Epoch 9/50\n"
     ]
    },
    {
     "name": "stderr",
     "output_type": "stream",
     "text": [
      "100%|████████████████████████████████████████████████████████████████████████████████| 412/412 [04:48<00:00,  1.43it/s]\n"
     ]
    },
    {
     "name": "stdout",
     "output_type": "stream",
     "text": [
      "Epoch 9 average loss: 0.6574\n",
      "Current epoch: 9 current accuracy: 0.8098\n",
      "Best accuracy: 0.8098 at epoch 1\n",
      "----------\n",
      "Epoch 10/50\n"
     ]
    },
    {
     "name": "stderr",
     "output_type": "stream",
     "text": [
      "100%|████████████████████████████████████████████████████████████████████████████████| 412/412 [04:48<00:00,  1.43it/s]\n"
     ]
    },
    {
     "name": "stdout",
     "output_type": "stream",
     "text": [
      "Epoch 10 average loss: 0.6562\n",
      "Current epoch: 10 current accuracy: 0.8098\n",
      "Best accuracy: 0.8098 at epoch 1\n",
      "----------\n",
      "Epoch 11/50\n"
     ]
    },
    {
     "name": "stderr",
     "output_type": "stream",
     "text": [
      "100%|████████████████████████████████████████████████████████████████████████████████| 412/412 [04:51<00:00,  1.41it/s]\n"
     ]
    },
    {
     "name": "stdout",
     "output_type": "stream",
     "text": [
      "Epoch 11 average loss: 0.6561\n",
      "Current epoch: 11 current accuracy: 0.8098\n",
      "Best accuracy: 0.8098 at epoch 1\n",
      "----------\n",
      "Epoch 12/50\n"
     ]
    },
    {
     "name": "stderr",
     "output_type": "stream",
     "text": [
      "100%|████████████████████████████████████████████████████████████████████████████████| 412/412 [04:49<00:00,  1.43it/s]\n"
     ]
    },
    {
     "name": "stdout",
     "output_type": "stream",
     "text": [
      "Epoch 12 average loss: 0.6574\n",
      "Current epoch: 12 current accuracy: 0.8098\n",
      "Best accuracy: 0.8098 at epoch 1\n",
      "----------\n",
      "Epoch 13/50\n"
     ]
    },
    {
     "name": "stderr",
     "output_type": "stream",
     "text": [
      "100%|████████████████████████████████████████████████████████████████████████████████| 412/412 [04:46<00:00,  1.44it/s]\n"
     ]
    },
    {
     "name": "stdout",
     "output_type": "stream",
     "text": [
      "Epoch 13 average loss: 0.6547\n",
      "Current epoch: 13 current accuracy: 0.8098\n",
      "Best accuracy: 0.8098 at epoch 1\n",
      "----------\n",
      "Epoch 14/50\n"
     ]
    },
    {
     "name": "stderr",
     "output_type": "stream",
     "text": [
      "100%|████████████████████████████████████████████████████████████████████████████████| 412/412 [04:47<00:00,  1.43it/s]\n"
     ]
    },
    {
     "name": "stdout",
     "output_type": "stream",
     "text": [
      "Epoch 14 average loss: 0.6564\n",
      "Current epoch: 14 current accuracy: 0.8098\n",
      "Best accuracy: 0.8098 at epoch 1\n",
      "----------\n",
      "Epoch 15/50\n"
     ]
    },
    {
     "name": "stderr",
     "output_type": "stream",
     "text": [
      "100%|████████████████████████████████████████████████████████████████████████████████| 412/412 [04:46<00:00,  1.44it/s]\n"
     ]
    },
    {
     "name": "stdout",
     "output_type": "stream",
     "text": [
      "Epoch 15 average loss: 0.6523\n",
      "Current epoch: 15 current accuracy: 0.7951\n",
      "Best accuracy: 0.8098 at epoch 1\n",
      "----------\n",
      "Epoch 16/50\n"
     ]
    },
    {
     "name": "stderr",
     "output_type": "stream",
     "text": [
      "100%|████████████████████████████████████████████████████████████████████████████████| 412/412 [04:48<00:00,  1.43it/s]\n"
     ]
    },
    {
     "name": "stdout",
     "output_type": "stream",
     "text": [
      "Epoch 16 average loss: 0.6536\n",
      "Current epoch: 16 current accuracy: 0.6195\n",
      "Best accuracy: 0.8098 at epoch 1\n",
      "----------\n",
      "Epoch 17/50\n"
     ]
    },
    {
     "name": "stderr",
     "output_type": "stream",
     "text": [
      "100%|████████████████████████████████████████████████████████████████████████████████| 412/412 [04:46<00:00,  1.44it/s]\n"
     ]
    },
    {
     "name": "stdout",
     "output_type": "stream",
     "text": [
      "Epoch 17 average loss: 0.6508\n",
      "Current epoch: 17 current accuracy: 0.8098\n",
      "Best accuracy: 0.8098 at epoch 1\n",
      "----------\n",
      "Epoch 18/50\n"
     ]
    },
    {
     "name": "stderr",
     "output_type": "stream",
     "text": [
      "100%|████████████████████████████████████████████████████████████████████████████████| 412/412 [04:46<00:00,  1.44it/s]\n"
     ]
    },
    {
     "name": "stdout",
     "output_type": "stream",
     "text": [
      "Epoch 18 average loss: 0.6521\n",
      "Current epoch: 18 current accuracy: 0.8098\n",
      "Best accuracy: 0.8098 at epoch 1\n",
      "----------\n",
      "Epoch 19/50\n"
     ]
    },
    {
     "name": "stderr",
     "output_type": "stream",
     "text": [
      "100%|████████████████████████████████████████████████████████████████████████████████| 412/412 [04:46<00:00,  1.44it/s]\n"
     ]
    },
    {
     "name": "stdout",
     "output_type": "stream",
     "text": [
      "Epoch 19 average loss: 0.6492\n",
      "Current epoch: 19 current accuracy: 0.8098\n",
      "Best accuracy: 0.8098 at epoch 1\n",
      "----------\n",
      "Epoch 20/50\n"
     ]
    },
    {
     "name": "stderr",
     "output_type": "stream",
     "text": [
      "100%|████████████████████████████████████████████████████████████████████████████████| 412/412 [04:47<00:00,  1.43it/s]\n"
     ]
    },
    {
     "name": "stdout",
     "output_type": "stream",
     "text": [
      "Epoch 20 average loss: 0.6520\n",
      "Current epoch: 20 current accuracy: 0.8049\n",
      "Best accuracy: 0.8098 at epoch 1\n",
      "----------\n",
      "Epoch 21/50\n"
     ]
    },
    {
     "name": "stderr",
     "output_type": "stream",
     "text": [
      "100%|████████████████████████████████████████████████████████████████████████████████| 412/412 [04:46<00:00,  1.44it/s]\n"
     ]
    },
    {
     "name": "stdout",
     "output_type": "stream",
     "text": [
      "Epoch 21 average loss: 0.6428\n",
      "Current epoch: 21 current accuracy: 0.7366\n",
      "Best accuracy: 0.8098 at epoch 1\n",
      "----------\n",
      "Epoch 22/50\n"
     ]
    },
    {
     "name": "stderr",
     "output_type": "stream",
     "text": [
      "100%|████████████████████████████████████████████████████████████████████████████████| 412/412 [04:48<00:00,  1.43it/s]\n"
     ]
    },
    {
     "name": "stdout",
     "output_type": "stream",
     "text": [
      "Epoch 22 average loss: 0.6492\n",
      "Current epoch: 22 current accuracy: 0.8098\n",
      "Best accuracy: 0.8098 at epoch 1\n",
      "----------\n",
      "Epoch 23/50\n"
     ]
    },
    {
     "name": "stderr",
     "output_type": "stream",
     "text": [
      "100%|████████████████████████████████████████████████████████████████████████████████| 412/412 [04:47<00:00,  1.43it/s]\n"
     ]
    },
    {
     "name": "stdout",
     "output_type": "stream",
     "text": [
      "Epoch 23 average loss: 0.6423\n",
      "Current epoch: 23 current accuracy: 0.7707\n",
      "Best accuracy: 0.8098 at epoch 1\n",
      "----------\n",
      "Epoch 24/50\n"
     ]
    },
    {
     "name": "stderr",
     "output_type": "stream",
     "text": [
      "100%|████████████████████████████████████████████████████████████████████████████████| 412/412 [04:48<00:00,  1.43it/s]\n"
     ]
    },
    {
     "name": "stdout",
     "output_type": "stream",
     "text": [
      "Epoch 24 average loss: 0.6602\n",
      "Current epoch: 24 current accuracy: 0.8098\n",
      "Best accuracy: 0.8098 at epoch 1\n",
      "----------\n",
      "Epoch 25/50\n"
     ]
    },
    {
     "name": "stderr",
     "output_type": "stream",
     "text": [
      "100%|████████████████████████████████████████████████████████████████████████████████| 412/412 [04:46<00:00,  1.44it/s]\n"
     ]
    },
    {
     "name": "stdout",
     "output_type": "stream",
     "text": [
      "Epoch 25 average loss: 0.6460\n",
      "Saved new best metric model\n",
      "Current epoch: 25 current accuracy: 0.8146\n",
      "Best accuracy: 0.8146 at epoch 25\n",
      "----------\n",
      "Epoch 26/50\n"
     ]
    },
    {
     "name": "stderr",
     "output_type": "stream",
     "text": [
      "100%|████████████████████████████████████████████████████████████████████████████████| 412/412 [04:48<00:00,  1.43it/s]\n"
     ]
    },
    {
     "name": "stdout",
     "output_type": "stream",
     "text": [
      "Epoch 26 average loss: 0.6433\n",
      "Current epoch: 26 current accuracy: 0.5366\n",
      "Best accuracy: 0.8146 at epoch 25\n",
      "----------\n",
      "Epoch 27/50\n"
     ]
    },
    {
     "name": "stderr",
     "output_type": "stream",
     "text": [
      "100%|████████████████████████████████████████████████████████████████████████████████| 412/412 [04:47<00:00,  1.43it/s]\n"
     ]
    },
    {
     "name": "stdout",
     "output_type": "stream",
     "text": [
      "Epoch 27 average loss: 0.6411\n",
      "Current epoch: 27 current accuracy: 0.7854\n",
      "Best accuracy: 0.8146 at epoch 25\n",
      "----------\n",
      "Epoch 28/50\n"
     ]
    },
    {
     "name": "stderr",
     "output_type": "stream",
     "text": [
      "100%|████████████████████████████████████████████████████████████████████████████████| 412/412 [04:48<00:00,  1.43it/s]\n"
     ]
    },
    {
     "name": "stdout",
     "output_type": "stream",
     "text": [
      "Epoch 28 average loss: 0.6401\n",
      "Current epoch: 28 current accuracy: 0.7024\n",
      "Best accuracy: 0.8146 at epoch 25\n",
      "----------\n",
      "Epoch 29/50\n"
     ]
    },
    {
     "name": "stderr",
     "output_type": "stream",
     "text": [
      "100%|████████████████████████████████████████████████████████████████████████████████| 412/412 [04:47<00:00,  1.43it/s]\n"
     ]
    },
    {
     "name": "stdout",
     "output_type": "stream",
     "text": [
      "Epoch 29 average loss: 0.6376\n",
      "Current epoch: 29 current accuracy: 0.8146\n",
      "Best accuracy: 0.8146 at epoch 25\n",
      "----------\n",
      "Epoch 30/50\n"
     ]
    },
    {
     "name": "stderr",
     "output_type": "stream",
     "text": [
      "100%|████████████████████████████████████████████████████████████████████████████████| 412/412 [04:48<00:00,  1.43it/s]\n"
     ]
    },
    {
     "name": "stdout",
     "output_type": "stream",
     "text": [
      "Epoch 30 average loss: 0.6305\n",
      "Current epoch: 30 current accuracy: 0.8000\n",
      "Best accuracy: 0.8146 at epoch 25\n",
      "----------\n",
      "Epoch 31/50\n"
     ]
    },
    {
     "name": "stderr",
     "output_type": "stream",
     "text": [
      "100%|████████████████████████████████████████████████████████████████████████████████| 412/412 [04:47<00:00,  1.43it/s]\n"
     ]
    },
    {
     "name": "stdout",
     "output_type": "stream",
     "text": [
      "Epoch 31 average loss: 0.6258\n",
      "Current epoch: 31 current accuracy: 0.8000\n",
      "Best accuracy: 0.8146 at epoch 25\n",
      "----------\n",
      "Epoch 32/50\n"
     ]
    },
    {
     "name": "stderr",
     "output_type": "stream",
     "text": [
      "100%|████████████████████████████████████████████████████████████████████████████████| 412/412 [04:47<00:00,  1.43it/s]\n"
     ]
    },
    {
     "name": "stdout",
     "output_type": "stream",
     "text": [
      "Epoch 32 average loss: 0.6278\n",
      "Current epoch: 32 current accuracy: 0.7707\n",
      "Best accuracy: 0.8146 at epoch 25\n",
      "----------\n",
      "Epoch 33/50\n"
     ]
    },
    {
     "name": "stderr",
     "output_type": "stream",
     "text": [
      "100%|████████████████████████████████████████████████████████████████████████████████| 412/412 [04:47<00:00,  1.43it/s]\n"
     ]
    },
    {
     "name": "stdout",
     "output_type": "stream",
     "text": [
      "Epoch 33 average loss: 0.6181\n",
      "Current epoch: 33 current accuracy: 0.7171\n",
      "Best accuracy: 0.8146 at epoch 25\n",
      "----------\n",
      "Epoch 34/50\n"
     ]
    },
    {
     "name": "stderr",
     "output_type": "stream",
     "text": [
      "100%|████████████████████████████████████████████████████████████████████████████████| 412/412 [04:49<00:00,  1.43it/s]\n"
     ]
    },
    {
     "name": "stdout",
     "output_type": "stream",
     "text": [
      "Epoch 34 average loss: 0.6259\n",
      "Current epoch: 34 current accuracy: 0.7415\n",
      "Best accuracy: 0.8146 at epoch 25\n",
      "----------\n",
      "Epoch 35/50\n"
     ]
    },
    {
     "name": "stderr",
     "output_type": "stream",
     "text": [
      "100%|████████████████████████████████████████████████████████████████████████████████| 412/412 [04:48<00:00,  1.43it/s]\n"
     ]
    },
    {
     "name": "stdout",
     "output_type": "stream",
     "text": [
      "Epoch 35 average loss: 0.6149\n",
      "Current epoch: 35 current accuracy: 0.7512\n",
      "Best accuracy: 0.8146 at epoch 25\n",
      "----------\n",
      "Epoch 36/50\n"
     ]
    },
    {
     "name": "stderr",
     "output_type": "stream",
     "text": [
      "100%|████████████████████████████████████████████████████████████████████████████████| 412/412 [04:47<00:00,  1.43it/s]\n"
     ]
    },
    {
     "name": "stdout",
     "output_type": "stream",
     "text": [
      "Epoch 36 average loss: 0.6174\n",
      "Current epoch: 36 current accuracy: 0.7561\n",
      "Best accuracy: 0.8146 at epoch 25\n",
      "----------\n",
      "Epoch 37/50\n"
     ]
    },
    {
     "name": "stderr",
     "output_type": "stream",
     "text": [
      "100%|████████████████████████████████████████████████████████████████████████████████| 412/412 [04:47<00:00,  1.43it/s]\n"
     ]
    },
    {
     "name": "stdout",
     "output_type": "stream",
     "text": [
      "Epoch 37 average loss: 0.6157\n",
      "Current epoch: 37 current accuracy: 0.7902\n",
      "Best accuracy: 0.8146 at epoch 25\n",
      "----------\n",
      "Epoch 38/50\n"
     ]
    },
    {
     "name": "stderr",
     "output_type": "stream",
     "text": [
      "100%|████████████████████████████████████████████████████████████████████████████████| 412/412 [04:47<00:00,  1.43it/s]\n"
     ]
    },
    {
     "name": "stdout",
     "output_type": "stream",
     "text": [
      "Epoch 38 average loss: 0.6052\n",
      "Current epoch: 38 current accuracy: 0.6293\n",
      "Best accuracy: 0.8146 at epoch 25\n",
      "----------\n",
      "Epoch 39/50\n"
     ]
    },
    {
     "name": "stderr",
     "output_type": "stream",
     "text": [
      "100%|████████████████████████████████████████████████████████████████████████████████| 412/412 [04:47<00:00,  1.43it/s]\n"
     ]
    },
    {
     "name": "stdout",
     "output_type": "stream",
     "text": [
      "Epoch 39 average loss: 0.5982\n",
      "Current epoch: 39 current accuracy: 0.7122\n",
      "Best accuracy: 0.8146 at epoch 25\n",
      "----------\n",
      "Epoch 40/50\n"
     ]
    },
    {
     "name": "stderr",
     "output_type": "stream",
     "text": [
      "100%|████████████████████████████████████████████████████████████████████████████████| 412/412 [04:46<00:00,  1.44it/s]\n"
     ]
    },
    {
     "name": "stdout",
     "output_type": "stream",
     "text": [
      "Epoch 40 average loss: 0.5869\n",
      "Current epoch: 40 current accuracy: 0.7756\n",
      "Best accuracy: 0.8146 at epoch 25\n",
      "----------\n",
      "Epoch 41/50\n"
     ]
    },
    {
     "name": "stderr",
     "output_type": "stream",
     "text": [
      "100%|████████████████████████████████████████████████████████████████████████████████| 412/412 [04:47<00:00,  1.43it/s]\n"
     ]
    },
    {
     "name": "stdout",
     "output_type": "stream",
     "text": [
      "Epoch 41 average loss: 0.5691\n",
      "Current epoch: 41 current accuracy: 0.7415\n",
      "Best accuracy: 0.8146 at epoch 25\n",
      "----------\n",
      "Epoch 42/50\n"
     ]
    },
    {
     "name": "stderr",
     "output_type": "stream",
     "text": [
      "100%|████████████████████████████████████████████████████████████████████████████████| 412/412 [04:47<00:00,  1.43it/s]\n"
     ]
    },
    {
     "name": "stdout",
     "output_type": "stream",
     "text": [
      "Epoch 42 average loss: 0.5750\n",
      "Current epoch: 42 current accuracy: 0.6878\n",
      "Best accuracy: 0.8146 at epoch 25\n",
      "----------\n",
      "Epoch 43/50\n"
     ]
    },
    {
     "name": "stderr",
     "output_type": "stream",
     "text": [
      "100%|████████████████████████████████████████████████████████████████████████████████| 412/412 [04:46<00:00,  1.44it/s]\n"
     ]
    },
    {
     "name": "stdout",
     "output_type": "stream",
     "text": [
      "Epoch 43 average loss: 0.5723\n",
      "Current epoch: 43 current accuracy: 0.7366\n",
      "Best accuracy: 0.8146 at epoch 25\n",
      "----------\n",
      "Epoch 44/50\n"
     ]
    },
    {
     "name": "stderr",
     "output_type": "stream",
     "text": [
      "100%|████████████████████████████████████████████████████████████████████████████████| 412/412 [04:49<00:00,  1.42it/s]\n"
     ]
    },
    {
     "name": "stdout",
     "output_type": "stream",
     "text": [
      "Epoch 44 average loss: 0.5492\n",
      "Current epoch: 44 current accuracy: 0.7122\n",
      "Best accuracy: 0.8146 at epoch 25\n",
      "----------\n",
      "Epoch 45/50\n"
     ]
    },
    {
     "name": "stderr",
     "output_type": "stream",
     "text": [
      "100%|████████████████████████████████████████████████████████████████████████████████| 412/412 [04:48<00:00,  1.43it/s]\n"
     ]
    },
    {
     "name": "stdout",
     "output_type": "stream",
     "text": [
      "Epoch 45 average loss: 0.5425\n",
      "Current epoch: 45 current accuracy: 0.6976\n",
      "Best accuracy: 0.8146 at epoch 25\n",
      "----------\n",
      "Epoch 46/50\n"
     ]
    },
    {
     "name": "stderr",
     "output_type": "stream",
     "text": [
      "100%|████████████████████████████████████████████████████████████████████████████████| 412/412 [04:49<00:00,  1.42it/s]\n"
     ]
    },
    {
     "name": "stdout",
     "output_type": "stream",
     "text": [
      "Epoch 46 average loss: 0.5302\n",
      "Current epoch: 46 current accuracy: 0.7561\n",
      "Best accuracy: 0.8146 at epoch 25\n",
      "----------\n",
      "Epoch 47/50\n"
     ]
    },
    {
     "name": "stderr",
     "output_type": "stream",
     "text": [
      "100%|████████████████████████████████████████████████████████████████████████████████| 412/412 [04:49<00:00,  1.43it/s]\n"
     ]
    },
    {
     "name": "stdout",
     "output_type": "stream",
     "text": [
      "Epoch 47 average loss: 0.5175\n",
      "Current epoch: 47 current accuracy: 0.6780\n",
      "Best accuracy: 0.8146 at epoch 25\n",
      "----------\n",
      "Epoch 48/50\n"
     ]
    },
    {
     "name": "stderr",
     "output_type": "stream",
     "text": [
      "100%|████████████████████████████████████████████████████████████████████████████████| 412/412 [04:49<00:00,  1.42it/s]\n"
     ]
    },
    {
     "name": "stdout",
     "output_type": "stream",
     "text": [
      "Epoch 48 average loss: 0.4938\n",
      "Current epoch: 48 current accuracy: 0.7220\n",
      "Best accuracy: 0.8146 at epoch 25\n",
      "----------\n",
      "Epoch 49/50\n"
     ]
    },
    {
     "name": "stderr",
     "output_type": "stream",
     "text": [
      "100%|████████████████████████████████████████████████████████████████████████████████| 412/412 [04:48<00:00,  1.43it/s]\n"
     ]
    },
    {
     "name": "stdout",
     "output_type": "stream",
     "text": [
      "Epoch 49 average loss: 0.4624\n",
      "Current epoch: 49 current accuracy: 0.6634\n",
      "Best accuracy: 0.8146 at epoch 25\n",
      "----------\n",
      "Epoch 50/50\n"
     ]
    },
    {
     "name": "stderr",
     "output_type": "stream",
     "text": [
      "100%|████████████████████████████████████████████████████████████████████████████████| 412/412 [04:47<00:00,  1.43it/s]\n"
     ]
    },
    {
     "name": "stdout",
     "output_type": "stream",
     "text": [
      "Epoch 50 average loss: 0.4530\n",
      "Current epoch: 50 current accuracy: 0.7561\n",
      "Best accuracy: 0.8146 at epoch 25\n",
      "Training completed, best_metric: 0.8146 at epoch: 25\n"
     ]
    }
   ],
   "source": [
    "log_file = open(log_filename_train, 'w')\n",
    "\n",
    "log_write(f'Model         :: {MODEL_TYPE}', log_file)\n",
    "log_write(f'Loss function :: {LOSS_TYPE}', log_file)\n",
    "log_write(f'Optimizer     :: {OPTIMIZER_TYPE}', log_file)\n",
    "log_write(f'Learning rate :: {LR}\\n', log_file)\n",
    "\n",
    "for epoch in range(EPOCHS):\n",
    "    log_write(\"-\" * 10, log_file)\n",
    "    log_write(f\"Epoch {epoch + 1}/{EPOCHS}\", log_file)\n",
    "    model.train()\n",
    "    epoch_loss = 0\n",
    "    step = 0\n",
    "    \n",
    "    MODEL_STATE_DICT = BEST_METRICS / f'{date_format_metric}.pth'\n",
    "    \n",
    "    for batch_data in tqdm(train_loader):\n",
    "        step += 1\n",
    "        inputs, labels = batch_data[0].to(device), batch_data[1].to(device)\n",
    "        optimizer.zero_grad()\n",
    "        outputs = model(inputs)\n",
    "        loss = loss_function(outputs, labels)\n",
    "        loss.backward()\n",
    "        optimizer.step()\n",
    "        epoch_loss += loss.item()\n",
    "        epoch_len = len(train_ds) // train_loader.batch_size\n",
    "        writer.add_scalar(\"train_loss\", loss.item(), epoch_len * epoch + step)\n",
    "\n",
    "    epoch_loss /= step\n",
    "    epoch_loss_values.append(epoch_loss)\n",
    "    log_write(f\"Epoch {epoch + 1} average loss: {epoch_loss:.4f}\", log_file)\n",
    "\n",
    "    if (epoch + 1) % val_interval == 0:\n",
    "        model.eval()\n",
    "\n",
    "        num_correct, metric_count = 0.0, 0\n",
    "        ones, zeros = 0, 0\n",
    "        \n",
    "        for val_data in val_loader:\n",
    "            val_images, val_labels = val_data[0].to(device), val_data[1].to(device)\n",
    "            with torch.no_grad():\n",
    "                val_outputs = model(val_images).argmax(dim=1)\n",
    "                val_labels = val_labels.argmax(dim=1)\n",
    "                value = torch.eq(val_outputs, val_labels)\n",
    "                metric_count += len(value)\n",
    "                num_correct += value.sum().item()\n",
    "\n",
    "        metric = num_correct / metric_count\n",
    "        metric_values.append(metric)\n",
    "\n",
    "        if metric > best_metric:\n",
    "            best_metric = metric\n",
    "            best_metric_epoch = epoch + 1\n",
    "            torch.save(model.state_dict(), MODEL_STATE_DICT)\n",
    "            log_write(\"Saved new best metric model\", log_file)\n",
    "\n",
    "        log_write(f\"Current epoch: {epoch+1} current accuracy: {metric:.4f}\", log_file)\n",
    "        log_write(f\"Best accuracy: {best_metric:.4f} at epoch {best_metric_epoch}\", log_file)\n",
    "        writer.add_scalar(\"val_accuracy\", metric, epoch + 1)\n",
    "\n",
    "log_write(f\"Training completed, best_metric: {best_metric:.4f} at epoch: {best_metric_epoch}\", log_file)\n",
    "writer.close()\n",
    "log_file.close()"
   ]
  },
  {
   "cell_type": "markdown",
   "metadata": {},
   "source": [
    "# Test the model"
   ]
  },
  {
   "cell_type": "markdown",
   "metadata": {},
   "source": [
    "## Prepare test data "
   ]
  },
  {
   "cell_type": "code",
   "execution_count": 16,
   "metadata": {},
   "outputs": [
    {
     "data": {
      "text/plain": [
       "(260, 260, torch.Size([260, 2]))"
      ]
     },
     "execution_count": 16,
     "metadata": {},
     "output_type": "execute_result"
    }
   ],
   "source": [
    "test_images_arr, labels_arr, _ = get_images_and_labels(test_data, labels_df)\n",
    "\n",
    "test_labels_arr = np.array(labels_arr)\n",
    "test_labels_arr = torch.nn.functional.one_hot(torch.as_tensor(labels_arr)).float()\n",
    "\n",
    "len(test_images_arr), len(test_labels_arr), test_labels_arr.shape"
   ]
  },
  {
   "cell_type": "markdown",
   "metadata": {},
   "source": [
    "## Create test loader"
   ]
  },
  {
   "cell_type": "code",
   "execution_count": 17,
   "metadata": {},
   "outputs": [],
   "source": [
    "BATCH_SIZE_TEST = constants.batch_size_test\n",
    "NUM_WORKERS_TEST = constants.num_workers\n",
    "\n",
    "test_ds = ImageDataset(\n",
    "    image_files=test_images_arr, \n",
    "    labels=test_labels_arr, \n",
    "    transform=val_transforms\n",
    ")\n",
    "\n",
    "test_loader = DataLoader(\n",
    "    test_ds, \n",
    "    batch_size=BATCH_SIZE_TEST, \n",
    "    num_workers=NUM_WORKERS_TEST, \n",
    "    pin_memory=torch.cuda.is_available()\n",
    ")"
   ]
  },
  {
   "cell_type": "code",
   "execution_count": 18,
   "metadata": {},
   "outputs": [],
   "source": [
    "def calculate_KPI(kpi, output, label):\n",
    "    tp, tn, fp, fn = kpi\n",
    "    \n",
    "    type_KPI = ''\n",
    "    \n",
    "    if label[0]:\n",
    "        if output[0]: \n",
    "            tp += 1\n",
    "            type_KPI = 'TP'\n",
    "        else: \n",
    "            fn +=1\n",
    "            type_KPI = 'FN'\n",
    "    else:\n",
    "        if output[0]: \n",
    "            fp += 1\n",
    "            type_KPI = 'FP'\n",
    "        else: \n",
    "            tn +=1\n",
    "            type_KPI = 'TN'\n",
    "    return (tp, tn, fp, fn), type_KPI\n",
    "\n",
    "\n",
    "def get_metrics(kpi):\n",
    "    tp, tn, fp, fn = kpi\n",
    "    \n",
    "    recall, precision, f1 = -1, -1, -1\n",
    "    accuracy = (tp+tn) / (tp+tn+fp+fn)\n",
    "    \n",
    "    if tp + fn != 0: \n",
    "        recall = tp / (tp+fn)\n",
    "        \n",
    "    if tp + fp != 0: \n",
    "        precision = tp / (tp+fp)\n",
    "        \n",
    "    if precision > 0 and recall > 0: \n",
    "        f1 = (2*precision*recall) / (precision+recall)\n",
    "    \n",
    "    return accuracy, recall, precision, f1"
   ]
  },
  {
   "cell_type": "code",
   "execution_count": 19,
   "metadata": {
    "scrolled": false
   },
   "outputs": [
    {
     "name": "stdout",
     "output_type": "stream",
     "text": [
      "Training log :: logs\\20220719_171020_E50_train.txt\n",
      "Metrics      :: best_metrics\\20220719_171020.pth\n",
      "\n",
      "----------\n"
     ]
    },
    {
     "name": "stderr",
     "output_type": "stream",
     "text": [
      "100%|████████████████████████████████████████████████████████████████████████████████| 260/260 [00:54<00:00,  4.78it/s]"
     ]
    },
    {
     "name": "stdout",
     "output_type": "stream",
     "text": [
      "(TP, TN, FP, FN) = (5, 146, 4, 105)\n",
      "Evaluation metrics:\n",
      "Accuracy  : 0.5807692307692308\n",
      "Recall    : 0.045454545454545456\n",
      "Precision : 0.5555555555555556\n",
      "F1-score  : 0.08403361344537816\n"
     ]
    },
    {
     "name": "stderr",
     "output_type": "stream",
     "text": [
      "\n"
     ]
    }
   ],
   "source": [
    "log_file = open(log_filename_test, 'w')\n",
    "\n",
    "device = torch.device(\"cuda\" if torch.cuda.is_available() else \"cpu\")\n",
    "model_test = constants.model.to(device)\n",
    "\n",
    "MODEL = BEST_METRICS / f'{date_format_metric}.pth'\n",
    "\n",
    "log_write(f'Training log :: {log_filename_train}', log_file)\n",
    "log_write(f'Metrics      :: {MODEL}\\n', log_file)\n",
    "log_write(\"-\" * 10, log_file)\n",
    "\n",
    "model_test.load_state_dict(torch.load(MODEL))\n",
    "model_test.eval()\n",
    "\n",
    "fps, fns = [], []\n",
    "\n",
    "with torch.no_grad():\n",
    "    KPI = 0, 0, 0, 0\n",
    "    \n",
    "    for i, data in enumerate(tqdm(test_loader)):\n",
    "        test_images, test_labels = data[0].to(device), data[1].to(device)\n",
    "        \n",
    "        test_outputs = model_test(test_images).argmax(dim=1)\n",
    "        test_labels = test_labels.argmax(dim=1)\n",
    "        \n",
    "        KPI, type_KPI = calculate_KPI(KPI, test_outputs, test_labels)\n",
    "        \n",
    "        if type_KPI == 'FP':\n",
    "            fps.append((i, test_labels, test_outputs))\n",
    "        elif type_KPI == 'FN':\n",
    "            fns.append((i, test_labels, test_outputs))\n",
    "        \n",
    "    log_write(f'(TP, TN, FP, FN) = {KPI}', log_file)\n",
    "    \n",
    "    metrics = get_metrics(KPI)\n",
    "    log_write(\n",
    "        f'Evaluation metrics:\\n'\n",
    "        f'Accuracy  : {metrics[0]}\\n'\n",
    "        f'Recall    : {metrics[1]}\\n'\n",
    "        f'Precision : {metrics[2]}\\n'\n",
    "        f'F1-score  : {metrics[3]}',\n",
    "        log_file\n",
    "    )\n",
    "    \n",
    "log_file.close()"
   ]
  },
  {
   "cell_type": "code",
   "execution_count": null,
   "metadata": {},
   "outputs": [],
   "source": []
  }
 ],
 "metadata": {
  "kernelspec": {
   "display_name": "Python 3 (ipykernel)",
   "language": "python",
   "name": "python3"
  },
  "language_info": {
   "codemirror_mode": {
    "name": "ipython",
    "version": 3
   },
   "file_extension": ".py",
   "mimetype": "text/x-python",
   "name": "python",
   "nbconvert_exporter": "python",
   "pygments_lexer": "ipython3",
   "version": "3.9.12"
  }
 },
 "nbformat": 4,
 "nbformat_minor": 4
}
