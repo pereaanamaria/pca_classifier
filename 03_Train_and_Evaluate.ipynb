{
 "cells": [
  {
   "cell_type": "markdown",
   "metadata": {},
   "source": [
    "# Setup imports"
   ]
  },
  {
   "cell_type": "code",
   "execution_count": 1,
   "metadata": {
    "scrolled": false
   },
   "outputs": [],
   "source": [
    "import logging\n",
    "import os\n",
    "import random\n",
    "import sys\n",
    "\n",
    "import numpy as np\n",
    "import pandas as pd\n",
    "import torch\n",
    "torch.cuda.empty_cache()\n",
    "\n",
    "from torch.utils.tensorboard import SummaryWriter\n",
    "\n",
    "import monai\n",
    "from monai.data import DataLoader, ImageDataset\n",
    "from monai.transforms import AddChannel, Compose, RandRotate90\n",
    "from monai.transforms import Resize, ScaleIntensity, EnsureType\n",
    "\n",
    "from datetime import datetime\n",
    "from tqdm import tqdm\n",
    "\n",
    "from constants import Constants\n",
    "\n",
    "pin_memory = torch.cuda.is_available()\n",
    "device = torch.device(\"cuda\" if torch.cuda.is_available() else \"cpu\")\n",
    "\n",
    "logging.basicConfig(stream=sys.stdout, level=logging.INFO)\n",
    "\n",
    "constants = Constants()"
   ]
  },
  {
   "cell_type": "code",
   "execution_count": 2,
   "metadata": {
    "scrolled": false
   },
   "outputs": [],
   "source": [
    "LABELS = constants.labels_pkl\n",
    "\n",
    "LOGS = constants.logs\n",
    "if not os.path.exists(LOGS): os.mkdir(LOGS)\n",
    "    \n",
    "BEST_METRICS = constants.best_metrics\n",
    "if not os.path.exists(BEST_METRICS): os.mkdir(BEST_METRICS)"
   ]
  },
  {
   "cell_type": "markdown",
   "metadata": {},
   "source": [
    "## Initialize log saving "
   ]
  },
  {
   "cell_type": "code",
   "execution_count": 3,
   "metadata": {},
   "outputs": [],
   "source": [
    "def log_write(command, file):\n",
    "    file.write(f'{command}\\n')\n",
    "    print(command)"
   ]
  },
  {
   "cell_type": "markdown",
   "metadata": {},
   "source": [
    "# Get existing data"
   ]
  },
  {
   "cell_type": "code",
   "execution_count": 4,
   "metadata": {
    "scrolled": false
   },
   "outputs": [],
   "source": [
    "def get_patient_data(patient_id, labels):\n",
    "    idx = get_patient_idx(patient_id)\n",
    "    patient_data = {\n",
    "        'data' : {\n",
    "            'ProxID'  : labels.ProxID.iloc[idx],\n",
    "            'ClinSig' : labels.ClinSig.iloc[idx],\n",
    "            'fid'     : labels.fid.iloc[idx],\n",
    "            'pos'     : labels.pos.iloc[idx],\n",
    "            'zone'    : labels.zone.iloc[idx],\n",
    "            'spacing' : labels.spacing.iloc[idx],\n",
    "            'slices'  : labels.slices.iloc[idx] \n",
    "        },\n",
    "        'images' : {\n",
    "            'T2'     : labels.T2.iloc[idx],\n",
    "            'ADC'    : labels.ADC.iloc[idx],\n",
    "            'DWI'    : labels.DWI.iloc[idx],\n",
    "            'KTrans' : labels.KTrans.iloc[idx] \n",
    "        }\n",
    "    }\n",
    "    return patient_data\n",
    "\n",
    "\n",
    "def get_patientID(filename):\n",
    "    return filename[:14]\n",
    "\n",
    "\n",
    "def get_patient_idx(patient_id):\n",
    "    return int(patient_id[10:])"
   ]
  },
  {
   "cell_type": "code",
   "execution_count": 5,
   "metadata": {
    "scrolled": false
   },
   "outputs": [],
   "source": [
    "labels_df = pd.read_pickle(LABELS)"
   ]
  },
  {
   "cell_type": "markdown",
   "metadata": {},
   "source": [
    "# Split the dataset randomly"
   ]
  },
  {
   "cell_type": "code",
   "execution_count": 6,
   "metadata": {},
   "outputs": [
    {
     "data": {
      "text/plain": [
       "(163, 41)"
      ]
     },
     "execution_count": 6,
     "metadata": {},
     "output_type": "execute_result"
    }
   ],
   "source": [
    "patients = list(labels_df.ProxID)\n",
    "\n",
    "TRAIN_TEST_RATIO = constants.split_ratio\n",
    "train_num = int(len(patients) * TRAIN_TEST_RATIO)\n",
    "\n",
    "random.shuffle(patients)\n",
    "\n",
    "train_data, test_data = patients[:train_num], patients[train_num:] \n",
    "\n",
    "len(train_data), len(test_data)"
   ]
  },
  {
   "cell_type": "markdown",
   "metadata": {},
   "source": [
    "# Prepare training data "
   ]
  },
  {
   "cell_type": "code",
   "execution_count": 7,
   "metadata": {},
   "outputs": [],
   "source": [
    "def get_lesion_summary(ClinSig):\n",
    "    summary = False\n",
    "    for cs in ClinSig:\n",
    "        summary = summary or cs\n",
    "    return summary\n",
    "\n",
    "\n",
    "def get_images_and_labels(data, labels):\n",
    "    images_arr = []\n",
    "    labels_arr = []\n",
    "    num_files_idx = []\n",
    "\n",
    "    for patient_id in data:\n",
    "        patient_data = get_patient_data(patient_id, labels)\n",
    "\n",
    "        label = 0\n",
    "        clin_sig = get_lesion_summary(patient_data['data']['ClinSig'])\n",
    "        if clin_sig: label = 1\n",
    "\n",
    "        for t2 in patient_data['images']['T2']: \n",
    "            images_arr.append(t2)\n",
    "            labels_arr.append(label)\n",
    "        for adc in patient_data['images']['ADC']: \n",
    "            images_arr.append(adc)\n",
    "            labels_arr.append(label)\n",
    "        for dwi in patient_data['images']['DWI']: \n",
    "            images_arr.append(dwi)\n",
    "            labels_arr.append(label)\n",
    "        images_arr.append(patient_data['images']['KTrans'])\n",
    "        labels_arr.append(label)\n",
    "        num_files_idx.append(len(images_arr))\n",
    "    return images_arr, labels_arr, num_files_idx"
   ]
  },
  {
   "cell_type": "code",
   "execution_count": 8,
   "metadata": {},
   "outputs": [
    {
     "data": {
      "text/plain": [
       "(1020, 1020, torch.Size([1020, 2]))"
      ]
     },
     "execution_count": 8,
     "metadata": {},
     "output_type": "execute_result"
    }
   ],
   "source": [
    "train_images_arr, labels_arr, num_files_idx = get_images_and_labels(train_data, labels_df)\n",
    "\n",
    "train_labels_arr = np.array(labels_arr)\n",
    "train_labels_arr = torch.nn.functional.one_hot(torch.as_tensor(labels_arr)).float()\n",
    "\n",
    "len(train_images_arr), len(train_labels_arr), train_labels_arr.shape"
   ]
  },
  {
   "cell_type": "markdown",
   "metadata": {},
   "source": [
    "## Define transforms"
   ]
  },
  {
   "cell_type": "code",
   "execution_count": 9,
   "metadata": {},
   "outputs": [],
   "source": [
    "RESIZE_SIZE = constants.image_resize\n",
    "\n",
    "train_transforms = Compose([\n",
    "    ScaleIntensity(), \n",
    "    AddChannel(), \n",
    "    Resize((RESIZE_SIZE, RESIZE_SIZE, RESIZE_SIZE)), \n",
    "    RandRotate90(), \n",
    "    EnsureType()\n",
    "])\n",
    "\n",
    "val_transforms = Compose([\n",
    "    ScaleIntensity(), \n",
    "    AddChannel(), \n",
    "    Resize((RESIZE_SIZE, RESIZE_SIZE, RESIZE_SIZE)), \n",
    "    EnsureType()\n",
    "])"
   ]
  },
  {
   "cell_type": "markdown",
   "metadata": {},
   "source": [
    "## Check loaders"
   ]
  },
  {
   "cell_type": "code",
   "execution_count": 10,
   "metadata": {},
   "outputs": [
    {
     "name": "stdout",
     "output_type": "stream",
     "text": [
      "<class 'torch.Tensor'> torch.Size([2, 1, 168, 168, 168]) tensor([[1., 0.],\n",
      "        [1., 0.]]) torch.Size([2, 2])\n"
     ]
    }
   ],
   "source": [
    "BATCH_SIZE = constants.batch_size\n",
    "NUM_WORKERS = constants.num_workers\n",
    "\n",
    "# Define nifti dataset, data loader\n",
    "check_ds = ImageDataset(\n",
    "    image_files=train_images_arr, \n",
    "    labels=train_labels_arr, \n",
    "    transform=train_transforms\n",
    ")\n",
    "check_loader = DataLoader(\n",
    "    check_ds, \n",
    "    batch_size=BATCH_SIZE, \n",
    "    num_workers=NUM_WORKERS, \n",
    "    pin_memory=pin_memory\n",
    ")\n",
    "\n",
    "im, label = monai.utils.misc.first(check_loader)\n",
    "print(type(im), im.shape, label, label.shape)"
   ]
  },
  {
   "cell_type": "markdown",
   "metadata": {},
   "source": [
    "## Create data loaders "
   ]
  },
  {
   "cell_type": "code",
   "execution_count": 11,
   "metadata": {},
   "outputs": [
    {
     "data": {
      "text/plain": [
       "(409, 101)"
      ]
     },
     "execution_count": 11,
     "metadata": {},
     "output_type": "execute_result"
    }
   ],
   "source": [
    "TRAIN_VAL_RATIO = constants.split_ratio\n",
    "train_val_num = num_files_idx[int(len(train_data) * TRAIN_VAL_RATIO)] - 1 \n",
    "\n",
    "train_images, val_images = train_images_arr[:train_val_num], train_images_arr[train_val_num:]\n",
    "train_labels, val_labels = train_labels_arr[:train_val_num], train_labels_arr[train_val_num:]\n",
    "\n",
    "# create a training data loader\n",
    "train_ds = ImageDataset(\n",
    "    image_files=train_images, \n",
    "    labels=train_labels, \n",
    "    transform=train_transforms\n",
    ")\n",
    "train_loader = DataLoader(\n",
    "    train_ds, \n",
    "    batch_size=BATCH_SIZE, \n",
    "    shuffle=True, \n",
    "    num_workers=NUM_WORKERS, \n",
    "    pin_memory=pin_memory\n",
    ")\n",
    "\n",
    "# create a validation data loader\n",
    "val_ds = ImageDataset(\n",
    "    image_files=val_images, \n",
    "    labels=val_labels, \n",
    "    transform=val_transforms\n",
    ")\n",
    "val_loader = DataLoader(\n",
    "    val_ds, \n",
    "    batch_size=BATCH_SIZE, \n",
    "    num_workers=NUM_WORKERS, \n",
    "    pin_memory=pin_memory\n",
    ")\n",
    "\n",
    "len(train_loader), len(val_loader)"
   ]
  },
  {
   "cell_type": "markdown",
   "metadata": {},
   "source": [
    "# Train the data"
   ]
  },
  {
   "cell_type": "markdown",
   "metadata": {},
   "source": [
    "## Define network, loss function, and optimizer"
   ]
  },
  {
   "cell_type": "code",
   "execution_count": 12,
   "metadata": {},
   "outputs": [
    {
     "name": "stdout",
     "output_type": "stream",
     "text": [
      "20220718_163533\n"
     ]
    }
   ],
   "source": [
    "today = datetime.today()\n",
    "date_format_metric = today.strftime(\"%Y%m%d_%H%M%S\")\n",
    "print(date_format_metric)\n",
    "\n",
    "model = constants.model.to(device)\n",
    "loss_function = constants.loss_function\n",
    "optimizer = constants.optimizer"
   ]
  },
  {
   "cell_type": "markdown",
   "metadata": {},
   "source": [
    "## Training parameters"
   ]
  },
  {
   "cell_type": "code",
   "execution_count": 13,
   "metadata": {},
   "outputs": [],
   "source": [
    "EPOCHS = constants.epochs\n",
    "MODEL_TYPE = constants.model_type\n",
    "LOSS_TYPE = constants.loss_type\n",
    "OPTIMIZER_TYPE = constants.optimizer_type\n",
    "LR = constants.lr\n",
    "\n",
    "val_interval = 1\n",
    "best_metric = -1\n",
    "best_metric_epoch = -1\n",
    "\n",
    "epoch_loss_values = []\n",
    "metric_values = []\n",
    "writer = SummaryWriter()"
   ]
  },
  {
   "cell_type": "markdown",
   "metadata": {},
   "source": [
    "## Start training "
   ]
  },
  {
   "cell_type": "code",
   "execution_count": 14,
   "metadata": {},
   "outputs": [],
   "source": [
    "log_filename_train = LOGS / f'{date_format_metric}_E{EPOCHS}_train.txt'\n",
    "log_filename_test = LOGS / f'{date_format_metric}_E{EPOCHS}_test.txt'"
   ]
  },
  {
   "cell_type": "code",
   "execution_count": 15,
   "metadata": {
    "scrolled": false
   },
   "outputs": [
    {
     "name": "stdout",
     "output_type": "stream",
     "text": [
      "Model         :: DensNet121(3, 1, 2)\n",
      "Loss function :: Binary Cross Entropy\n",
      "Optimizer     :: Adam\n",
      "Learning rate :: 0.0001\n",
      "\n",
      "----------\n",
      "Epoch 1/50\n"
     ]
    },
    {
     "name": "stderr",
     "output_type": "stream",
     "text": [
      "100%|████████████████████████████████████████████████████████████████████████████████| 409/409 [04:52<00:00,  1.40it/s]\n"
     ]
    },
    {
     "name": "stdout",
     "output_type": "stream",
     "text": [
      "Epoch 1 average loss: 0.6419\n",
      "Saved new best metric model\n",
      "Current epoch: 1 current accuracy: 0.4851\n",
      "Best accuracy: 0.4851 at epoch 1\n",
      "----------\n",
      "Epoch 2/50\n"
     ]
    },
    {
     "name": "stderr",
     "output_type": "stream",
     "text": [
      "100%|████████████████████████████████████████████████████████████████████████████████| 409/409 [04:47<00:00,  1.42it/s]\n"
     ]
    },
    {
     "name": "stdout",
     "output_type": "stream",
     "text": [
      "Epoch 2 average loss: 0.6312\n",
      "Current epoch: 2 current accuracy: 0.4851\n",
      "Best accuracy: 0.4851 at epoch 1\n",
      "----------\n",
      "Epoch 3/50\n"
     ]
    },
    {
     "name": "stderr",
     "output_type": "stream",
     "text": [
      "100%|████████████████████████████████████████████████████████████████████████████████| 409/409 [04:47<00:00,  1.42it/s]\n"
     ]
    },
    {
     "name": "stdout",
     "output_type": "stream",
     "text": [
      "Epoch 3 average loss: 0.6313\n",
      "Current epoch: 3 current accuracy: 0.4851\n",
      "Best accuracy: 0.4851 at epoch 1\n",
      "----------\n",
      "Epoch 4/50\n"
     ]
    },
    {
     "name": "stderr",
     "output_type": "stream",
     "text": [
      "100%|████████████████████████████████████████████████████████████████████████████████| 409/409 [04:47<00:00,  1.42it/s]\n"
     ]
    },
    {
     "name": "stdout",
     "output_type": "stream",
     "text": [
      "Epoch 4 average loss: 0.6292\n",
      "Current epoch: 4 current accuracy: 0.4851\n",
      "Best accuracy: 0.4851 at epoch 1\n",
      "----------\n",
      "Epoch 5/50\n"
     ]
    },
    {
     "name": "stderr",
     "output_type": "stream",
     "text": [
      "100%|████████████████████████████████████████████████████████████████████████████████| 409/409 [04:46<00:00,  1.43it/s]\n"
     ]
    },
    {
     "name": "stdout",
     "output_type": "stream",
     "text": [
      "Epoch 5 average loss: 0.6293\n",
      "Current epoch: 5 current accuracy: 0.4851\n",
      "Best accuracy: 0.4851 at epoch 1\n",
      "----------\n",
      "Epoch 6/50\n"
     ]
    },
    {
     "name": "stderr",
     "output_type": "stream",
     "text": [
      "100%|████████████████████████████████████████████████████████████████████████████████| 409/409 [04:45<00:00,  1.43it/s]\n"
     ]
    },
    {
     "name": "stdout",
     "output_type": "stream",
     "text": [
      "Epoch 6 average loss: 0.6247\n",
      "Current epoch: 6 current accuracy: 0.4851\n",
      "Best accuracy: 0.4851 at epoch 1\n",
      "----------\n",
      "Epoch 7/50\n"
     ]
    },
    {
     "name": "stderr",
     "output_type": "stream",
     "text": [
      "100%|████████████████████████████████████████████████████████████████████████████████| 409/409 [04:45<00:00,  1.43it/s]\n"
     ]
    },
    {
     "name": "stdout",
     "output_type": "stream",
     "text": [
      "Epoch 7 average loss: 0.6240\n",
      "Current epoch: 7 current accuracy: 0.4851\n",
      "Best accuracy: 0.4851 at epoch 1\n",
      "----------\n",
      "Epoch 8/50\n"
     ]
    },
    {
     "name": "stderr",
     "output_type": "stream",
     "text": [
      "100%|████████████████████████████████████████████████████████████████████████████████| 409/409 [04:46<00:00,  1.43it/s]\n"
     ]
    },
    {
     "name": "stdout",
     "output_type": "stream",
     "text": [
      "Epoch 8 average loss: 0.6276\n",
      "Current epoch: 8 current accuracy: 0.4851\n",
      "Best accuracy: 0.4851 at epoch 1\n",
      "----------\n",
      "Epoch 9/50\n"
     ]
    },
    {
     "name": "stderr",
     "output_type": "stream",
     "text": [
      "100%|████████████████████████████████████████████████████████████████████████████████| 409/409 [04:47<00:00,  1.42it/s]\n"
     ]
    },
    {
     "name": "stdout",
     "output_type": "stream",
     "text": [
      "Epoch 9 average loss: 0.6265\n",
      "Current epoch: 9 current accuracy: 0.4851\n",
      "Best accuracy: 0.4851 at epoch 1\n",
      "----------\n",
      "Epoch 10/50\n"
     ]
    },
    {
     "name": "stderr",
     "output_type": "stream",
     "text": [
      "100%|████████████████████████████████████████████████████████████████████████████████| 409/409 [04:48<00:00,  1.42it/s]\n"
     ]
    },
    {
     "name": "stdout",
     "output_type": "stream",
     "text": [
      "Epoch 10 average loss: 0.6242\n",
      "Current epoch: 10 current accuracy: 0.4851\n",
      "Best accuracy: 0.4851 at epoch 1\n",
      "----------\n",
      "Epoch 11/50\n"
     ]
    },
    {
     "name": "stderr",
     "output_type": "stream",
     "text": [
      "100%|████████████████████████████████████████████████████████████████████████████████| 409/409 [04:45<00:00,  1.43it/s]\n"
     ]
    },
    {
     "name": "stdout",
     "output_type": "stream",
     "text": [
      "Epoch 11 average loss: 0.6257\n",
      "Current epoch: 11 current accuracy: 0.4851\n",
      "Best accuracy: 0.4851 at epoch 1\n",
      "----------\n",
      "Epoch 12/50\n"
     ]
    },
    {
     "name": "stderr",
     "output_type": "stream",
     "text": [
      "100%|████████████████████████████████████████████████████████████████████████████████| 409/409 [04:46<00:00,  1.43it/s]\n"
     ]
    },
    {
     "name": "stdout",
     "output_type": "stream",
     "text": [
      "Epoch 12 average loss: 0.6270\n",
      "Current epoch: 12 current accuracy: 0.4851\n",
      "Best accuracy: 0.4851 at epoch 1\n",
      "----------\n",
      "Epoch 13/50\n"
     ]
    },
    {
     "name": "stderr",
     "output_type": "stream",
     "text": [
      "100%|████████████████████████████████████████████████████████████████████████████████| 409/409 [04:46<00:00,  1.43it/s]\n"
     ]
    },
    {
     "name": "stdout",
     "output_type": "stream",
     "text": [
      "Epoch 13 average loss: 0.6252\n",
      "Current epoch: 13 current accuracy: 0.4851\n",
      "Best accuracy: 0.4851 at epoch 1\n",
      "----------\n",
      "Epoch 14/50\n"
     ]
    },
    {
     "name": "stderr",
     "output_type": "stream",
     "text": [
      "100%|████████████████████████████████████████████████████████████████████████████████| 409/409 [04:46<00:00,  1.43it/s]\n"
     ]
    },
    {
     "name": "stdout",
     "output_type": "stream",
     "text": [
      "Epoch 14 average loss: 0.6251\n",
      "Current epoch: 14 current accuracy: 0.4851\n",
      "Best accuracy: 0.4851 at epoch 1\n",
      "----------\n",
      "Epoch 15/50\n"
     ]
    },
    {
     "name": "stderr",
     "output_type": "stream",
     "text": [
      "100%|████████████████████████████████████████████████████████████████████████████████| 409/409 [04:46<00:00,  1.43it/s]\n"
     ]
    },
    {
     "name": "stdout",
     "output_type": "stream",
     "text": [
      "Epoch 15 average loss: 0.6251\n",
      "Current epoch: 15 current accuracy: 0.4851\n",
      "Best accuracy: 0.4851 at epoch 1\n",
      "----------\n",
      "Epoch 16/50\n"
     ]
    },
    {
     "name": "stderr",
     "output_type": "stream",
     "text": [
      "100%|████████████████████████████████████████████████████████████████████████████████| 409/409 [04:46<00:00,  1.43it/s]\n"
     ]
    },
    {
     "name": "stdout",
     "output_type": "stream",
     "text": [
      "Epoch 16 average loss: 0.6227\n",
      "Saved new best metric model\n",
      "Current epoch: 16 current accuracy: 0.4950\n",
      "Best accuracy: 0.4950 at epoch 16\n",
      "----------\n",
      "Epoch 17/50\n"
     ]
    },
    {
     "name": "stderr",
     "output_type": "stream",
     "text": [
      "100%|████████████████████████████████████████████████████████████████████████████████| 409/409 [04:46<00:00,  1.43it/s]\n"
     ]
    },
    {
     "name": "stdout",
     "output_type": "stream",
     "text": [
      "Epoch 17 average loss: 0.6271\n",
      "Current epoch: 17 current accuracy: 0.4851\n",
      "Best accuracy: 0.4950 at epoch 16\n",
      "----------\n",
      "Epoch 18/50\n"
     ]
    },
    {
     "name": "stderr",
     "output_type": "stream",
     "text": [
      "100%|████████████████████████████████████████████████████████████████████████████████| 409/409 [04:46<00:00,  1.43it/s]\n"
     ]
    },
    {
     "name": "stdout",
     "output_type": "stream",
     "text": [
      "Epoch 18 average loss: 0.6218\n",
      "Saved new best metric model\n",
      "Current epoch: 18 current accuracy: 0.5050\n",
      "Best accuracy: 0.5050 at epoch 18\n",
      "----------\n",
      "Epoch 19/50\n"
     ]
    },
    {
     "name": "stderr",
     "output_type": "stream",
     "text": [
      "100%|████████████████████████████████████████████████████████████████████████████████| 409/409 [04:45<00:00,  1.43it/s]\n"
     ]
    },
    {
     "name": "stdout",
     "output_type": "stream",
     "text": [
      "Epoch 19 average loss: 0.6197\n",
      "Current epoch: 19 current accuracy: 0.4851\n",
      "Best accuracy: 0.5050 at epoch 18\n",
      "----------\n",
      "Epoch 20/50\n"
     ]
    },
    {
     "name": "stderr",
     "output_type": "stream",
     "text": [
      "100%|████████████████████████████████████████████████████████████████████████████████| 409/409 [04:45<00:00,  1.43it/s]\n"
     ]
    },
    {
     "name": "stdout",
     "output_type": "stream",
     "text": [
      "Epoch 20 average loss: 0.6181\n",
      "Current epoch: 20 current accuracy: 0.4851\n",
      "Best accuracy: 0.5050 at epoch 18\n",
      "----------\n",
      "Epoch 21/50\n"
     ]
    },
    {
     "name": "stderr",
     "output_type": "stream",
     "text": [
      "100%|████████████████████████████████████████████████████████████████████████████████| 409/409 [04:45<00:00,  1.43it/s]\n"
     ]
    },
    {
     "name": "stdout",
     "output_type": "stream",
     "text": [
      "Epoch 21 average loss: 0.6196\n",
      "Current epoch: 21 current accuracy: 0.4851\n",
      "Best accuracy: 0.5050 at epoch 18\n",
      "----------\n",
      "Epoch 22/50\n"
     ]
    },
    {
     "name": "stderr",
     "output_type": "stream",
     "text": [
      "100%|████████████████████████████████████████████████████████████████████████████████| 409/409 [04:46<00:00,  1.43it/s]\n"
     ]
    },
    {
     "name": "stdout",
     "output_type": "stream",
     "text": [
      "Epoch 22 average loss: 0.6165\n",
      "Current epoch: 22 current accuracy: 0.4851\n",
      "Best accuracy: 0.5050 at epoch 18\n",
      "----------\n",
      "Epoch 23/50\n"
     ]
    },
    {
     "name": "stderr",
     "output_type": "stream",
     "text": [
      "100%|████████████████████████████████████████████████████████████████████████████████| 409/409 [04:45<00:00,  1.43it/s]\n"
     ]
    },
    {
     "name": "stdout",
     "output_type": "stream",
     "text": [
      "Epoch 23 average loss: 0.6162\n",
      "Current epoch: 23 current accuracy: 0.4851\n",
      "Best accuracy: 0.5050 at epoch 18\n",
      "----------\n",
      "Epoch 24/50\n"
     ]
    },
    {
     "name": "stderr",
     "output_type": "stream",
     "text": [
      "100%|████████████████████████████████████████████████████████████████████████████████| 409/409 [04:46<00:00,  1.43it/s]\n"
     ]
    },
    {
     "name": "stdout",
     "output_type": "stream",
     "text": [
      "Epoch 24 average loss: 0.6188\n",
      "Current epoch: 24 current accuracy: 0.4851\n",
      "Best accuracy: 0.5050 at epoch 18\n",
      "----------\n",
      "Epoch 25/50\n"
     ]
    },
    {
     "name": "stderr",
     "output_type": "stream",
     "text": [
      "100%|████████████████████████████████████████████████████████████████████████████████| 409/409 [04:45<00:00,  1.43it/s]\n"
     ]
    },
    {
     "name": "stdout",
     "output_type": "stream",
     "text": [
      "Epoch 25 average loss: 0.6155\n",
      "Saved new best metric model\n",
      "Current epoch: 25 current accuracy: 0.5099\n",
      "Best accuracy: 0.5099 at epoch 25\n",
      "----------\n",
      "Epoch 26/50\n"
     ]
    },
    {
     "name": "stderr",
     "output_type": "stream",
     "text": [
      "100%|████████████████████████████████████████████████████████████████████████████████| 409/409 [04:45<00:00,  1.43it/s]\n"
     ]
    },
    {
     "name": "stdout",
     "output_type": "stream",
     "text": [
      "Epoch 26 average loss: 0.6177\n",
      "Current epoch: 26 current accuracy: 0.4851\n",
      "Best accuracy: 0.5099 at epoch 25\n",
      "----------\n",
      "Epoch 27/50\n"
     ]
    },
    {
     "name": "stderr",
     "output_type": "stream",
     "text": [
      "100%|████████████████████████████████████████████████████████████████████████████████| 409/409 [04:44<00:00,  1.44it/s]\n"
     ]
    },
    {
     "name": "stdout",
     "output_type": "stream",
     "text": [
      "Epoch 27 average loss: 0.6195\n",
      "Current epoch: 27 current accuracy: 0.4851\n",
      "Best accuracy: 0.5099 at epoch 25\n",
      "----------\n",
      "Epoch 28/50\n"
     ]
    },
    {
     "name": "stderr",
     "output_type": "stream",
     "text": [
      "100%|████████████████████████████████████████████████████████████████████████████████| 409/409 [04:44<00:00,  1.44it/s]\n"
     ]
    },
    {
     "name": "stdout",
     "output_type": "stream",
     "text": [
      "Epoch 28 average loss: 0.6215\n",
      "Current epoch: 28 current accuracy: 0.4851\n",
      "Best accuracy: 0.5099 at epoch 25\n",
      "----------\n",
      "Epoch 29/50\n"
     ]
    },
    {
     "name": "stderr",
     "output_type": "stream",
     "text": [
      "100%|████████████████████████████████████████████████████████████████████████████████| 409/409 [04:46<00:00,  1.43it/s]\n"
     ]
    },
    {
     "name": "stdout",
     "output_type": "stream",
     "text": [
      "Epoch 29 average loss: 0.6172\n",
      "Current epoch: 29 current accuracy: 0.4851\n",
      "Best accuracy: 0.5099 at epoch 25\n",
      "----------\n",
      "Epoch 30/50\n"
     ]
    },
    {
     "name": "stderr",
     "output_type": "stream",
     "text": [
      "100%|████████████████████████████████████████████████████████████████████████████████| 409/409 [04:44<00:00,  1.44it/s]\n"
     ]
    },
    {
     "name": "stdout",
     "output_type": "stream",
     "text": [
      "Epoch 30 average loss: 0.6205\n",
      "Current epoch: 30 current accuracy: 0.4950\n",
      "Best accuracy: 0.5099 at epoch 25\n",
      "----------\n",
      "Epoch 31/50\n"
     ]
    },
    {
     "name": "stderr",
     "output_type": "stream",
     "text": [
      "100%|████████████████████████████████████████████████████████████████████████████████| 409/409 [04:45<00:00,  1.43it/s]\n"
     ]
    },
    {
     "name": "stdout",
     "output_type": "stream",
     "text": [
      "Epoch 31 average loss: 0.6162\n",
      "Current epoch: 31 current accuracy: 0.4851\n",
      "Best accuracy: 0.5099 at epoch 25\n",
      "----------\n",
      "Epoch 32/50\n"
     ]
    },
    {
     "name": "stderr",
     "output_type": "stream",
     "text": [
      "100%|████████████████████████████████████████████████████████████████████████████████| 409/409 [04:45<00:00,  1.43it/s]\n"
     ]
    },
    {
     "name": "stdout",
     "output_type": "stream",
     "text": [
      "Epoch 32 average loss: 0.6051\n",
      "Current epoch: 32 current accuracy: 0.4851\n",
      "Best accuracy: 0.5099 at epoch 25\n",
      "----------\n",
      "Epoch 33/50\n"
     ]
    },
    {
     "name": "stderr",
     "output_type": "stream",
     "text": [
      "100%|████████████████████████████████████████████████████████████████████████████████| 409/409 [04:45<00:00,  1.43it/s]\n"
     ]
    },
    {
     "name": "stdout",
     "output_type": "stream",
     "text": [
      "Epoch 33 average loss: 0.6009\n",
      "Current epoch: 33 current accuracy: 0.4901\n",
      "Best accuracy: 0.5099 at epoch 25\n",
      "----------\n",
      "Epoch 34/50\n"
     ]
    },
    {
     "name": "stderr",
     "output_type": "stream",
     "text": [
      "100%|████████████████████████████████████████████████████████████████████████████████| 409/409 [04:47<00:00,  1.42it/s]\n"
     ]
    },
    {
     "name": "stdout",
     "output_type": "stream",
     "text": [
      "Epoch 34 average loss: 0.6032\n",
      "Current epoch: 34 current accuracy: 0.4703\n",
      "Best accuracy: 0.5099 at epoch 25\n",
      "----------\n",
      "Epoch 35/50\n"
     ]
    },
    {
     "name": "stderr",
     "output_type": "stream",
     "text": [
      "100%|████████████████████████████████████████████████████████████████████████████████| 409/409 [04:45<00:00,  1.43it/s]\n"
     ]
    },
    {
     "name": "stdout",
     "output_type": "stream",
     "text": [
      "Epoch 35 average loss: 0.6047\n",
      "Current epoch: 35 current accuracy: 0.4950\n",
      "Best accuracy: 0.5099 at epoch 25\n",
      "----------\n",
      "Epoch 36/50\n"
     ]
    },
    {
     "name": "stderr",
     "output_type": "stream",
     "text": [
      "100%|████████████████████████████████████████████████████████████████████████████████| 409/409 [04:45<00:00,  1.43it/s]\n"
     ]
    },
    {
     "name": "stdout",
     "output_type": "stream",
     "text": [
      "Epoch 36 average loss: 0.5946\n",
      "Saved new best metric model\n",
      "Current epoch: 36 current accuracy: 0.5149\n",
      "Best accuracy: 0.5149 at epoch 36\n",
      "----------\n",
      "Epoch 37/50\n"
     ]
    },
    {
     "name": "stderr",
     "output_type": "stream",
     "text": [
      "100%|████████████████████████████████████████████████████████████████████████████████| 409/409 [04:45<00:00,  1.43it/s]\n"
     ]
    },
    {
     "name": "stdout",
     "output_type": "stream",
     "text": [
      "Epoch 37 average loss: 0.6006\n",
      "Current epoch: 37 current accuracy: 0.4851\n",
      "Best accuracy: 0.5149 at epoch 36\n",
      "----------\n",
      "Epoch 38/50\n"
     ]
    },
    {
     "name": "stderr",
     "output_type": "stream",
     "text": [
      "100%|████████████████████████████████████████████████████████████████████████████████| 409/409 [04:46<00:00,  1.43it/s]\n"
     ]
    },
    {
     "name": "stdout",
     "output_type": "stream",
     "text": [
      "Epoch 38 average loss: 0.5962\n",
      "Current epoch: 38 current accuracy: 0.4851\n",
      "Best accuracy: 0.5149 at epoch 36\n",
      "----------\n",
      "Epoch 39/50\n"
     ]
    },
    {
     "name": "stderr",
     "output_type": "stream",
     "text": [
      "100%|████████████████████████████████████████████████████████████████████████████████| 409/409 [04:46<00:00,  1.43it/s]\n"
     ]
    },
    {
     "name": "stdout",
     "output_type": "stream",
     "text": [
      "Epoch 39 average loss: 0.5837\n",
      "Current epoch: 39 current accuracy: 0.5050\n",
      "Best accuracy: 0.5149 at epoch 36\n",
      "----------\n",
      "Epoch 40/50\n"
     ]
    },
    {
     "name": "stderr",
     "output_type": "stream",
     "text": [
      "100%|████████████████████████████████████████████████████████████████████████████████| 409/409 [04:47<00:00,  1.42it/s]\n"
     ]
    },
    {
     "name": "stdout",
     "output_type": "stream",
     "text": [
      "Epoch 40 average loss: 0.5753\n",
      "Current epoch: 40 current accuracy: 0.4604\n",
      "Best accuracy: 0.5149 at epoch 36\n",
      "----------\n",
      "Epoch 41/50\n"
     ]
    },
    {
     "name": "stderr",
     "output_type": "stream",
     "text": [
      "100%|████████████████████████████████████████████████████████████████████████████████| 409/409 [04:46<00:00,  1.43it/s]\n"
     ]
    },
    {
     "name": "stdout",
     "output_type": "stream",
     "text": [
      "Epoch 41 average loss: 0.5892\n",
      "Current epoch: 41 current accuracy: 0.4802\n",
      "Best accuracy: 0.5149 at epoch 36\n",
      "----------\n",
      "Epoch 42/50\n"
     ]
    },
    {
     "name": "stderr",
     "output_type": "stream",
     "text": [
      "100%|████████████████████████████████████████████████████████████████████████████████| 409/409 [04:46<00:00,  1.43it/s]\n"
     ]
    },
    {
     "name": "stdout",
     "output_type": "stream",
     "text": [
      "Epoch 42 average loss: 0.5765\n",
      "Current epoch: 42 current accuracy: 0.5050\n",
      "Best accuracy: 0.5149 at epoch 36\n",
      "----------\n",
      "Epoch 43/50\n"
     ]
    },
    {
     "name": "stderr",
     "output_type": "stream",
     "text": [
      "100%|████████████████████████████████████████████████████████████████████████████████| 409/409 [04:44<00:00,  1.44it/s]\n"
     ]
    },
    {
     "name": "stdout",
     "output_type": "stream",
     "text": [
      "Epoch 43 average loss: 0.5751\n",
      "Current epoch: 43 current accuracy: 0.5099\n",
      "Best accuracy: 0.5149 at epoch 36\n",
      "----------\n",
      "Epoch 44/50\n"
     ]
    },
    {
     "name": "stderr",
     "output_type": "stream",
     "text": [
      "100%|████████████████████████████████████████████████████████████████████████████████| 409/409 [04:45<00:00,  1.43it/s]\n"
     ]
    },
    {
     "name": "stdout",
     "output_type": "stream",
     "text": [
      "Epoch 44 average loss: 0.5564\n",
      "Current epoch: 44 current accuracy: 0.5000\n",
      "Best accuracy: 0.5149 at epoch 36\n",
      "----------\n",
      "Epoch 45/50\n"
     ]
    },
    {
     "name": "stderr",
     "output_type": "stream",
     "text": [
      "100%|████████████████████████████████████████████████████████████████████████████████| 409/409 [04:45<00:00,  1.43it/s]\n"
     ]
    },
    {
     "name": "stdout",
     "output_type": "stream",
     "text": [
      "Epoch 45 average loss: 0.5716\n",
      "Current epoch: 45 current accuracy: 0.4851\n",
      "Best accuracy: 0.5149 at epoch 36\n",
      "----------\n",
      "Epoch 46/50\n"
     ]
    },
    {
     "name": "stderr",
     "output_type": "stream",
     "text": [
      "100%|████████████████████████████████████████████████████████████████████████████████| 409/409 [04:45<00:00,  1.43it/s]\n"
     ]
    },
    {
     "name": "stdout",
     "output_type": "stream",
     "text": [
      "Epoch 46 average loss: 0.5513\n",
      "Current epoch: 46 current accuracy: 0.4851\n",
      "Best accuracy: 0.5149 at epoch 36\n",
      "----------\n",
      "Epoch 47/50\n"
     ]
    },
    {
     "name": "stderr",
     "output_type": "stream",
     "text": [
      "100%|████████████████████████████████████████████████████████████████████████████████| 409/409 [04:44<00:00,  1.44it/s]\n"
     ]
    },
    {
     "name": "stdout",
     "output_type": "stream",
     "text": [
      "Epoch 47 average loss: 0.5425\n",
      "Current epoch: 47 current accuracy: 0.4950\n",
      "Best accuracy: 0.5149 at epoch 36\n",
      "----------\n",
      "Epoch 48/50\n"
     ]
    },
    {
     "name": "stderr",
     "output_type": "stream",
     "text": [
      "100%|████████████████████████████████████████████████████████████████████████████████| 409/409 [04:46<00:00,  1.43it/s]\n"
     ]
    },
    {
     "name": "stdout",
     "output_type": "stream",
     "text": [
      "Epoch 48 average loss: 0.5390\n",
      "Current epoch: 48 current accuracy: 0.4950\n",
      "Best accuracy: 0.5149 at epoch 36\n",
      "----------\n",
      "Epoch 49/50\n"
     ]
    },
    {
     "name": "stderr",
     "output_type": "stream",
     "text": [
      "100%|████████████████████████████████████████████████████████████████████████████████| 409/409 [04:45<00:00,  1.43it/s]\n"
     ]
    },
    {
     "name": "stdout",
     "output_type": "stream",
     "text": [
      "Epoch 49 average loss: 0.5302\n",
      "Current epoch: 49 current accuracy: 0.4901\n",
      "Best accuracy: 0.5149 at epoch 36\n",
      "----------\n",
      "Epoch 50/50\n"
     ]
    },
    {
     "name": "stderr",
     "output_type": "stream",
     "text": [
      "100%|████████████████████████████████████████████████████████████████████████████████| 409/409 [04:45<00:00,  1.43it/s]\n"
     ]
    },
    {
     "name": "stdout",
     "output_type": "stream",
     "text": [
      "Epoch 50 average loss: 0.5191\n",
      "Current epoch: 50 current accuracy: 0.4851\n",
      "Best accuracy: 0.5149 at epoch 36\n",
      "Training completed, best_metric: 0.5149 at epoch: 36\n"
     ]
    }
   ],
   "source": [
    "log_file = open(log_filename_train, 'w')\n",
    "\n",
    "log_write(f'Model         :: {MODEL_TYPE}', log_file)\n",
    "log_write(f'Loss function :: {LOSS_TYPE}', log_file)\n",
    "log_write(f'Optimizer     :: {OPTIMIZER_TYPE}', log_file)\n",
    "log_write(f'Learning rate :: {LR}\\n', log_file)\n",
    "\n",
    "for epoch in range(EPOCHS):\n",
    "    log_write(\"-\" * 10, log_file)\n",
    "    log_write(f\"Epoch {epoch + 1}/{EPOCHS}\", log_file)\n",
    "    model.train()\n",
    "    epoch_loss = 0\n",
    "    step = 0\n",
    "    \n",
    "    MODEL_STATE_DICT = BEST_METRICS / f'{date_format_metric}.pth'\n",
    "    \n",
    "    for batch_data in tqdm(train_loader):\n",
    "        step += 1\n",
    "        inputs, labels = batch_data[0].to(device), batch_data[1].to(device)\n",
    "        optimizer.zero_grad()\n",
    "        outputs = model(inputs)\n",
    "        loss = loss_function(outputs, labels)\n",
    "        loss.backward()\n",
    "        optimizer.step()\n",
    "        epoch_loss += loss.item()\n",
    "        epoch_len = len(train_ds) // train_loader.batch_size\n",
    "        writer.add_scalar(\"train_loss\", loss.item(), epoch_len * epoch + step)\n",
    "\n",
    "    epoch_loss /= step\n",
    "    epoch_loss_values.append(epoch_loss)\n",
    "    log_write(f\"Epoch {epoch + 1} average loss: {epoch_loss:.4f}\", log_file)\n",
    "\n",
    "    if (epoch + 1) % val_interval == 0:\n",
    "        model.eval()\n",
    "\n",
    "        num_correct, metric_count = 0.0, 0\n",
    "        ones, zeros = 0, 0\n",
    "        \n",
    "        for val_data in val_loader:\n",
    "            val_images, val_labels = val_data[0].to(device), val_data[1].to(device)\n",
    "            with torch.no_grad():\n",
    "                val_outputs = model(val_images).argmax(dim=1)\n",
    "                val_labels = val_labels.argmax(dim=1)\n",
    "                value = torch.eq(val_outputs, val_labels)\n",
    "                metric_count += len(value)\n",
    "                num_correct += value.sum().item()\n",
    "\n",
    "        metric = num_correct / metric_count\n",
    "        metric_values.append(metric)\n",
    "\n",
    "        if metric > best_metric:\n",
    "            best_metric = metric\n",
    "            best_metric_epoch = epoch + 1\n",
    "            torch.save(model.state_dict(), MODEL_STATE_DICT)\n",
    "            log_write(\"Saved new best metric model\", log_file)\n",
    "\n",
    "        log_write(f\"Current epoch: {epoch+1} current accuracy: {metric:.4f}\", log_file)\n",
    "        log_write(f\"Best accuracy: {best_metric:.4f} at epoch {best_metric_epoch}\", log_file)\n",
    "        writer.add_scalar(\"val_accuracy\", metric, epoch + 1)\n",
    "\n",
    "log_write(f\"Training completed, best_metric: {best_metric:.4f} at epoch: {best_metric_epoch}\", log_file)\n",
    "writer.close()\n",
    "log_file.close()"
   ]
  },
  {
   "cell_type": "markdown",
   "metadata": {},
   "source": [
    "# Test the model"
   ]
  },
  {
   "cell_type": "markdown",
   "metadata": {},
   "source": [
    "## Prepare test data "
   ]
  },
  {
   "cell_type": "code",
   "execution_count": 16,
   "metadata": {},
   "outputs": [
    {
     "data": {
      "text/plain": [
       "(269, 269, torch.Size([269, 2]))"
      ]
     },
     "execution_count": 16,
     "metadata": {},
     "output_type": "execute_result"
    }
   ],
   "source": [
    "test_images_arr, labels_arr, _ = get_images_and_labels(test_data, labels_df)\n",
    "\n",
    "test_labels_arr = np.array(labels_arr)\n",
    "test_labels_arr = torch.nn.functional.one_hot(torch.as_tensor(labels_arr)).float()\n",
    "\n",
    "len(test_images_arr), len(test_labels_arr), test_labels_arr.shape"
   ]
  },
  {
   "cell_type": "markdown",
   "metadata": {},
   "source": [
    "## Create test loader"
   ]
  },
  {
   "cell_type": "code",
   "execution_count": 17,
   "metadata": {},
   "outputs": [],
   "source": [
    "BATCH_SIZE_TEST = constants.batch_size_test\n",
    "NUM_WORKERS_TEST = constants.num_workers\n",
    "\n",
    "test_ds = ImageDataset(\n",
    "    image_files=test_images_arr, \n",
    "    labels=test_labels_arr, \n",
    "    transform=val_transforms\n",
    ")\n",
    "\n",
    "test_loader = DataLoader(\n",
    "    test_ds, \n",
    "    batch_size=BATCH_SIZE_TEST, \n",
    "    num_workers=NUM_WORKERS_TEST, \n",
    "    pin_memory=torch.cuda.is_available()\n",
    ")"
   ]
  },
  {
   "cell_type": "code",
   "execution_count": 18,
   "metadata": {},
   "outputs": [],
   "source": [
    "def calculate_KPI(kpi, output, label):\n",
    "    tp, tn, fp, fn = kpi\n",
    "    \n",
    "    type_KPI = ''\n",
    "    \n",
    "    if label[0]:\n",
    "        if output[0]: \n",
    "            tp += 1\n",
    "            type_KPI = 'TP'\n",
    "        else: \n",
    "            fn +=1\n",
    "            type_KPI = 'FN'\n",
    "    else:\n",
    "        if output[0]: \n",
    "            fp += 1\n",
    "            type_KPI = 'FP'\n",
    "        else: \n",
    "            tn +=1\n",
    "            type_KPI = 'TN'\n",
    "    return (tp, tn, fp, fn), type_KPI\n",
    "\n",
    "\n",
    "def get_metrics(kpi):\n",
    "    tp, tn, fp, fn = kpi\n",
    "    \n",
    "    recall, precision, f1 = -1, -1, -1\n",
    "    accuracy = (tp+tn) / (tp+tn+fp+fn)\n",
    "    \n",
    "    if tp + fn != 0: \n",
    "        recall = tp / (tp+fn)\n",
    "        \n",
    "    if tp + fp != 0: \n",
    "        precision = tp / (tp+fp)\n",
    "        \n",
    "    if precision > 0 and recall > 0: \n",
    "        f1 = (2*precision*recall) / (precision+recall)\n",
    "    \n",
    "    return accuracy, recall, precision, f1"
   ]
  },
  {
   "cell_type": "code",
   "execution_count": 19,
   "metadata": {
    "scrolled": false
   },
   "outputs": [
    {
     "name": "stdout",
     "output_type": "stream",
     "text": [
      "Training log :: logs\\20220718_163533_E50_train.txt\n",
      "Metrics      :: best_metrics\\20220718_163533.pth\n",
      "\n",
      "----------\n"
     ]
    },
    {
     "name": "stderr",
     "output_type": "stream",
     "text": [
      "100%|████████████████████████████████████████████████████████████████████████████████| 269/269 [00:57<00:00,  4.66it/s]"
     ]
    },
    {
     "name": "stdout",
     "output_type": "stream",
     "text": [
      "(TP, TN, FP, FN) = (2, 177, 4, 86)\n",
      "Evaluation metrics:\n",
      "Accuracy  : 0.6654275092936803\n",
      "Recall    : 0.022727272727272728\n",
      "Precision : 0.3333333333333333\n",
      "F1-score  : 0.04255319148936171\n"
     ]
    },
    {
     "name": "stderr",
     "output_type": "stream",
     "text": [
      "\n"
     ]
    }
   ],
   "source": [
    "log_file = open(log_filename_test, 'w')\n",
    "\n",
    "device = torch.device(\"cuda\" if torch.cuda.is_available() else \"cpu\")\n",
    "model_test = constants.model.to(device)\n",
    "\n",
    "MODEL = BEST_METRICS / f'{date_format_metric}.pth'\n",
    "\n",
    "log_write(f'Training log :: {log_filename_train}', log_file)\n",
    "log_write(f'Metrics      :: {MODEL}\\n', log_file)\n",
    "log_write(\"-\" * 10, log_file)\n",
    "\n",
    "model_test.load_state_dict(torch.load(MODEL))\n",
    "model_test.eval()\n",
    "\n",
    "fps, fns = [], []\n",
    "\n",
    "with torch.no_grad():\n",
    "    KPI = 0, 0, 0, 0\n",
    "    \n",
    "    for i, data in enumerate(tqdm(test_loader)):\n",
    "        test_images, test_labels = data[0].to(device), data[1].to(device)\n",
    "        \n",
    "        test_outputs = model_test(test_images).argmax(dim=1)\n",
    "        test_labels = test_labels.argmax(dim=1)\n",
    "        \n",
    "        KPI, type_KPI = calculate_KPI(KPI, test_outputs, test_labels)\n",
    "        \n",
    "        if type_KPI == 'FP':\n",
    "            fps.append((i, test_labels, test_outputs))\n",
    "        elif type_KPI == 'FN':\n",
    "            fns.append((i, test_labels, test_outputs))\n",
    "        \n",
    "    log_write(f'(TP, TN, FP, FN) = {KPI}', log_file)\n",
    "    \n",
    "    metrics = get_metrics(KPI)\n",
    "    log_write(\n",
    "        f'Evaluation metrics:\\n'\n",
    "        f'Accuracy  : {metrics[0]}\\n'\n",
    "        f'Recall    : {metrics[1]}\\n'\n",
    "        f'Precision : {metrics[2]}\\n'\n",
    "        f'F1-score  : {metrics[3]}',\n",
    "        log_file\n",
    "    )\n",
    "    \n",
    "log_file.close()"
   ]
  },
  {
   "cell_type": "markdown",
   "metadata": {},
   "source": [
    "# Understanding the KPIs"
   ]
  },
  {
   "cell_type": "code",
   "execution_count": 20,
   "metadata": {},
   "outputs": [],
   "source": [
    "def get_type(file):\n",
    "    path = str(file)\n",
    "    if 't2' in path: return 'T2'\n",
    "    if 'ADC' in path: return 'ADC'\n",
    "    if 'Ktrans' in path: return 'Ktrans'\n",
    "    return 'DWI'\n",
    "\n",
    "\n",
    "def count_images(images, type_img):\n",
    "    t2, adc, dwi, ktrans = images\n",
    "    \n",
    "    if type_img == 'T2': t2 += 1\n",
    "    elif type_img == 'ADC': adc += 1\n",
    "    elif type_img == 'DWI': dwi += 1\n",
    "    elif type_img == 'Ktrans': ktrans += 1\n",
    "        \n",
    "    return t2, adc, dwi, ktrans"
   ]
  },
  {
   "cell_type": "code",
   "execution_count": 21,
   "metadata": {},
   "outputs": [
    {
     "name": "stdout",
     "output_type": "stream",
     "text": [
      "data\\processed\\ProstateX-0134_ep2d_diff_tra_ep2d_diff_tra_DYNDIST_ADC.nii.gz\n",
      "data\\processed\\ProstateX-0172_ep2d_diff_tra_ep2d_diff_tra_DYNDIST_ADC.nii.gz\n",
      "data\\processed\\ProstateX-0152_ep2d_diff_tra_ep2d_diff_tra_DYNDIST_ADC.nii.gz\n",
      "data\\processed\\ProstateX-0168_ep2d_diff_tra_ep2d_diff_tra_DYNDIST_ADC.nii.gz\n",
      "\n",
      "4 patients:\n",
      "['ProstateX-0134', 'ProstateX-0172', 'ProstateX-0152', 'ProstateX-0168']\n",
      "(T2, ADC, DWI, KTrans) = (0, 4, 0, 0)\n"
     ]
    }
   ],
   "source": [
    "images = 0, 0, 0, 0\n",
    "patients = []\n",
    "\n",
    "for data in fps:\n",
    "    idx, lab, pred = data\n",
    "    \n",
    "    test_img = test_images_arr[idx]\n",
    "    test_lab = test_labels_arr[idx]\n",
    "    \n",
    "    filename = str(test_img).split('\\\\')[2]\n",
    "    patient_id = get_patientID(filename)\n",
    "    images = count_images(images, get_type(filename))\n",
    "    \n",
    "    if patient_id not in patients: patients.append(patient_id)\n",
    "    print(test_img)\n",
    "\n",
    "print(f'\\n{len(patients)} patients:\\n{patients}')\n",
    "print(f'(T2, ADC, DWI, KTrans) = {images}')"
   ]
  },
  {
   "cell_type": "code",
   "execution_count": 22,
   "metadata": {},
   "outputs": [
    {
     "name": "stdout",
     "output_type": "stream",
     "text": [
      "data\\processed\\ProstateX-0197_t2_tse_tra_t2_tse_tra.nii.gz\n",
      "data\\processed\\ProstateX-0197_t2_tse_tra_t2_tse_traa.nii.gz\n",
      "data\\processed\\ProstateX-0197_ep2d_diff_tra_ep2d_diff_tra_DYNDIST_ADC.nii.gz\n",
      "data\\processed\\ProstateX-0197_ep2d_diff_tra_ep2d_diff_tra_DYNDIST_0.nii.gz\n",
      "data\\processed\\ProstateX-0197_ep2d_diff_tra_ep2d_diff_tra_DYNDIST_1.nii.gz\n",
      "data\\processed\\ProstateX-0197_ep2d_diff_tra_ep2d_diff_tra_DYNDIST_2.nii.gz\n",
      "data\\processed\\ProstateX-0197-Ktrans.nii.gz\n",
      "data\\processed\\ProstateX-0018_t2_tse_tra_t2_tse_tra.nii.gz\n",
      "data\\processed\\ProstateX-0018_ep2d_diff_tra_ep2d_diff_tra_DYNDIST_ADC.nii.gz\n",
      "data\\processed\\ProstateX-0018_ep2d_diff_tra_ep2d_diff_tra_DYNDIST_0.nii.gz\n",
      "data\\processed\\ProstateX-0018_ep2d_diff_tra_ep2d_diff_tra_DYNDIST_1.nii.gz\n",
      "data\\processed\\ProstateX-0018_ep2d_diff_tra_ep2d_diff_tra_DYNDIST_2.nii.gz\n",
      "data\\processed\\ProstateX-0018-Ktrans.nii.gz\n",
      "data\\processed\\ProstateX-0201_t2_tse_tra_t2_tse_tra.nii.gz\n",
      "data\\processed\\ProstateX-0201_diffusie-3Scan-4bval_fs_diffusie-3Scan-4bval_fs_ADC.nii.gz\n",
      "data\\processed\\ProstateX-0201_diffusie-3Scan-4bval_fs_diffusie-3Scan-4bval_fs_0.nii.gz\n",
      "data\\processed\\ProstateX-0201_diffusie-3Scan-4bval_fs_diffusie-3Scan-4bval_fs_1.nii.gz\n",
      "data\\processed\\ProstateX-0201_diffusie-3Scan-4bval_fs_diffusie-3Scan-4bval_fs_2.nii.gz\n",
      "data\\processed\\ProstateX-0201-Ktrans.nii.gz\n",
      "data\\processed\\ProstateX-0199_t2_tse_tra_t2_tse_tra.nii.gz\n",
      "data\\processed\\ProstateX-0199_diffusie-3Scan-4bval_fs_diffusie-3Scan-4bval_fs_ADC.nii.gz\n",
      "data\\processed\\ProstateX-0199_diffusie-3Scan-4bval_fs_diffusie-3Scan-4bval_fs_0.nii.gz\n",
      "data\\processed\\ProstateX-0199_diffusie-3Scan-4bval_fs_diffusie-3Scan-4bval_fs_1.nii.gz\n",
      "data\\processed\\ProstateX-0199_diffusie-3Scan-4bval_fs_diffusie-3Scan-4bval_fs_2.nii.gz\n",
      "data\\processed\\ProstateX-0199-Ktrans.nii.gz\n",
      "data\\processed\\ProstateX-0071_t2_tse_tra_t2_tse_tra.nii.gz\n",
      "data\\processed\\ProstateX-0071_ep2d_diff_tra_ep2d_diff_tra_DYNDIST_ADC.nii.gz\n",
      "data\\processed\\ProstateX-0071_ep2d_diff_tra_ep2d_diff_tra_DYNDIST_0.nii.gz\n",
      "data\\processed\\ProstateX-0071_ep2d_diff_tra_ep2d_diff_tra_DYNDIST_1.nii.gz\n",
      "data\\processed\\ProstateX-0071_ep2d_diff_tra_ep2d_diff_tra_DYNDIST_2.nii.gz\n",
      "data\\processed\\ProstateX-0071-Ktrans.nii.gz\n",
      "data\\processed\\ProstateX-0037_t2_tse_tra_t2_tse_tra.nii.gz\n",
      "data\\processed\\ProstateX-0037_ep2d_diff_tra_ep2d_diff_tra_DYNDIST_ADC.nii.gz\n",
      "data\\processed\\ProstateX-0037_ep2d_diff_tra_ep2d_diff_tra_DYNDIST_0.nii.gz\n",
      "data\\processed\\ProstateX-0037_ep2d_diff_tra_ep2d_diff_tra_DYNDIST_1.nii.gz\n",
      "data\\processed\\ProstateX-0037_ep2d_diff_tra_ep2d_diff_tra_DYNDIST_2.nii.gz\n",
      "data\\processed\\ProstateX-0037-Ktrans.nii.gz\n",
      "data\\processed\\ProstateX-0139_t2_tse_tra_t2_tse_tra.nii.gz\n",
      "data\\processed\\ProstateX-0139_ep2d_diff_tra_ep2d_diff_tra_DYNDIST_ADC.nii.gz\n",
      "data\\processed\\ProstateX-0139_ep2d_diff_tra_ep2d_diff_tra_DYNDIST_0.nii.gz\n",
      "data\\processed\\ProstateX-0139_ep2d_diff_tra_ep2d_diff_tra_DYNDIST_1.nii.gz\n",
      "data\\processed\\ProstateX-0139_ep2d_diff_tra_ep2d_diff_tra_DYNDIST_2.nii.gz\n",
      "data\\processed\\ProstateX-0139-Ktrans.nii.gz\n",
      "data\\processed\\ProstateX-0031_t2_tse_tra_t2_tse_tra.nii.gz\n",
      "data\\processed\\ProstateX-0031_t2_tse_tra_t2_tse_traa.nii.gz\n",
      "data\\processed\\ProstateX-0031_ep2d_diff_tra_ep2d_diff_tra_DYNDIST_ADC.nii.gz\n",
      "data\\processed\\ProstateX-0031_ep2d_diff_tra_ep2d_diff_tra_DYNDIST_ADCa.nii.gz\n",
      "data\\processed\\ProstateX-0031_ep2d_diff_tra_ep2d_diff_tra_DYNDIST_0.nii.gz\n",
      "data\\processed\\ProstateX-0031_ep2d_diff_tra_ep2d_diff_tra_DYNDIST_1.nii.gz\n",
      "data\\processed\\ProstateX-0031_ep2d_diff_tra_ep2d_diff_tra_DYNDIST_2.nii.gz\n",
      "data\\processed\\ProstateX-0031_ep2d_diff_tra_ep2d_diff_tra_DYNDISTa_0.nii.gz\n",
      "data\\processed\\ProstateX-0031_ep2d_diff_tra_ep2d_diff_tra_DYNDISTa_1.nii.gz\n",
      "data\\processed\\ProstateX-0031_ep2d_diff_tra_ep2d_diff_tra_DYNDISTa_2.nii.gz\n",
      "data\\processed\\ProstateX-0031-Ktrans.nii.gz\n",
      "data\\processed\\ProstateX-0169_t2_tse_tra_t2_tse_tra.nii.gz\n",
      "data\\processed\\ProstateX-0169_ep2d_diff_tra_ep2d_diff_tra_DYNDIST_ADC.nii.gz\n",
      "data\\processed\\ProstateX-0169_ep2d_diff_tra_ep2d_diff_tra_DYNDIST_0.nii.gz\n",
      "data\\processed\\ProstateX-0169_ep2d_diff_tra_ep2d_diff_tra_DYNDIST_1.nii.gz\n",
      "data\\processed\\ProstateX-0169_ep2d_diff_tra_ep2d_diff_tra_DYNDIST_2.nii.gz\n",
      "data\\processed\\ProstateX-0169-Ktrans.nii.gz\n",
      "data\\processed\\ProstateX-0040_t2_tse_tra_t2_tse_tra.nii.gz\n",
      "data\\processed\\ProstateX-0040_ep2d_diff_tra_ep2d_diff_tra_DYNDIST_ADC.nii.gz\n",
      "data\\processed\\ProstateX-0040_ep2d_diff_tra_ep2d_diff_tra_DYNDIST_0.nii.gz\n",
      "data\\processed\\ProstateX-0040_ep2d_diff_tra_ep2d_diff_tra_DYNDIST_1.nii.gz\n",
      "data\\processed\\ProstateX-0040_ep2d_diff_tra_ep2d_diff_tra_DYNDIST_2.nii.gz\n",
      "data\\processed\\ProstateX-0040-Ktrans.nii.gz\n",
      "data\\processed\\ProstateX-0202_t2_tse_tra_t2_tse_tra.nii.gz\n",
      "data\\processed\\ProstateX-0202_diffusie-3Scan-4bval_fs_diffusie-3Scan-4bval_fs_0.nii.gz\n",
      "data\\processed\\ProstateX-0202_diffusie-3Scan-4bval_fs_diffusie-3Scan-4bval_fs_1.nii.gz\n",
      "data\\processed\\ProstateX-0202_diffusie-3Scan-4bval_fs_diffusie-3Scan-4bval_fs_2.nii.gz\n",
      "data\\processed\\ProstateX-0202-Ktrans.nii.gz\n",
      "data\\processed\\ProstateX-0190_t2_tse_tra_t2_tse_tra.nii.gz\n",
      "data\\processed\\ProstateX-0190_ep2d_diff_tra_ep2d_diff_tra_DYNDIST_ADC.nii.gz\n",
      "data\\processed\\ProstateX-0190_ep2d_diff_tra_ep2d_diff_tra_DYNDIST_ADCa.nii.gz\n",
      "data\\processed\\ProstateX-0190_ep2d_diff_tra_ep2d_diff_tra_DYNDIST_0.nii.gz\n",
      "data\\processed\\ProstateX-0190_ep2d_diff_tra_ep2d_diff_tra_DYNDIST_1.nii.gz\n",
      "data\\processed\\ProstateX-0190_ep2d_diff_tra_ep2d_diff_tra_DYNDIST_2.nii.gz\n",
      "data\\processed\\ProstateX-0190_ep2d_diff_tra_ep2d_diff_tra_DYNDISTa_0.nii.gz\n",
      "data\\processed\\ProstateX-0190_ep2d_diff_tra_ep2d_diff_tra_DYNDISTa_1.nii.gz\n",
      "data\\processed\\ProstateX-0190_ep2d_diff_tra_ep2d_diff_tra_DYNDISTa_2.nii.gz\n",
      "data\\processed\\ProstateX-0190-Ktrans.nii.gz\n",
      "data\\processed\\ProstateX-0203_t2_tse_tra_t2_tse_tra.nii.gz\n",
      "data\\processed\\ProstateX-0203_diffusie-3Scan-4bval_fs_diffusie-3Scan-4bval_fs_0.nii.gz\n",
      "data\\processed\\ProstateX-0203_diffusie-3Scan-4bval_fs_diffusie-3Scan-4bval_fs_1.nii.gz\n",
      "data\\processed\\ProstateX-0203_diffusie-3Scan-4bval_fs_diffusie-3Scan-4bval_fs_2.nii.gz\n",
      "data\\processed\\ProstateX-0203-Ktrans.nii.gz\n",
      "\n",
      "13 patients:\n",
      "['ProstateX-0197', 'ProstateX-0018', 'ProstateX-0201', 'ProstateX-0199', 'ProstateX-0071', 'ProstateX-0037', 'ProstateX-0139', 'ProstateX-0031', 'ProstateX-0169', 'ProstateX-0040', 'ProstateX-0202', 'ProstateX-0190', 'ProstateX-0203']\n",
      "(T2, ADC, DWI, KTrans) = (15, 13, 45, 13)\n"
     ]
    }
   ],
   "source": [
    "images = 0, 0, 0, 0\n",
    "patients = []\n",
    "\n",
    "for data in fns:\n",
    "    idx, lab, pred = data\n",
    "    \n",
    "    test_img = test_images_arr[idx]\n",
    "    test_lab = test_labels_arr[idx]\n",
    "    \n",
    "    filename = str(test_img).split('\\\\')[2]\n",
    "    patient_id = get_patientID(filename)\n",
    "    images = count_images(images, get_type(filename))\n",
    "    \n",
    "    if patient_id not in patients: patients.append(patient_id)\n",
    "    print(test_img)\n",
    "\n",
    "print(f'\\n{len(patients)} patients:\\n{patients}')\n",
    "print(f'(T2, ADC, DWI, KTrans) = {images}')"
   ]
  },
  {
   "cell_type": "code",
   "execution_count": null,
   "metadata": {},
   "outputs": [],
   "source": []
  }
 ],
 "metadata": {
  "kernelspec": {
   "display_name": "Python 3 (ipykernel)",
   "language": "python",
   "name": "python3"
  },
  "language_info": {
   "codemirror_mode": {
    "name": "ipython",
    "version": 3
   },
   "file_extension": ".py",
   "mimetype": "text/x-python",
   "name": "python",
   "nbconvert_exporter": "python",
   "pygments_lexer": "ipython3",
   "version": "3.9.12"
  }
 },
 "nbformat": 4,
 "nbformat_minor": 4
}
