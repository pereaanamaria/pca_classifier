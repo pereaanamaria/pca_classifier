{
 "cells": [
  {
   "cell_type": "code",
   "execution_count": 1,
   "id": "7c50e171",
   "metadata": {},
   "outputs": [],
   "source": [
    "import nibabel as nib\n",
    "import os\n",
    "import pandas as pd\n",
    "import shutil\n",
    "import SimpleITK as sitk\n",
    "\n",
    "from constants import Constants\n",
    "constants = Constants()"
   ]
  },
  {
   "cell_type": "code",
   "execution_count": 2,
   "id": "90d17cfb",
   "metadata": {},
   "outputs": [],
   "source": [
    "def get_patientID(filename):\n",
    "    return filename[:14]\n",
    "\n",
    "\n",
    "def check_possibilities(filename, possible_substrings):\n",
    "    for poss_str in possible_substrings:\n",
    "        if poss_str in filename: return True\n",
    "    return False\n",
    "\n",
    "\n",
    "def is_t2(filename):\n",
    "    possible_substrings = [\n",
    "        r't2_tse_tra',\n",
    "        r't2_tse_tra_320_p2',\n",
    "        r't2_tse_tra_Grappa3'\n",
    "    ]\n",
    "    return check_possibilities(filename, possible_substrings)\n",
    "\n",
    "\n",
    "def is_adc(filename):\n",
    "    possible_substrings = [\n",
    "        r'ep2d_diff_tra_DYNDIST_ADC', \n",
    "        r'ep2d_diff_tra_DYNDIST_MIX_ADC',\n",
    "        r'diffusie-3Scan-4bval_fs_ADC',\n",
    "        r'ep2d-advdiff-MDDW-12dir_spair_511b_ADC',\n",
    "        r'ep2d-advdiff-3Scan-4bval_spair_511b_ADC',\n",
    "        r'ep2d_DIFF_tra_b50_500_800_1400_alle_spoelen_ADC',\n",
    "        r'diff tra b 50 500 800 WIP511b alle spoelen_ADC',\n",
    "        r'ADC_S3_1'\n",
    "    ]\n",
    "    return check_possibilities(filename, possible_substrings)\n",
    "\n",
    "    \n",
    "def is_dwi(filename):\n",
    "    possible_substrings = [\n",
    "        r'ep2d_diff_tra_DYNDIST', \n",
    "        r'ep2d_diff_tra_DYNDIST_MIX',\n",
    "        r'diffusie-3Scan-4bval_fs',\n",
    "        r'ep2d-advdiff-3Scan-high bvalue 100',\n",
    "        r'ep2d-advdiff-3Scan-high bvalue 500',\n",
    "        r'ep2d-advdiff-3Scan-high bvalue 1400',\n",
    "        r'ep2d_DIFF_tra_b50_500_800_1400_alle_spoelen',\n",
    "        r'diff tra b 50 500 800 WIP511b alle spoelen',\n",
    "        r'ep2d_diff_tra2x2_Noise0_FS_DYNDISTCALC_BVAL'\n",
    "    ]\n",
    "    return check_possibilities(filename, possible_substrings)\n",
    "    \n",
    "\n",
    "def is_unknown(filename):\n",
    "    possible_substrings = [\n",
    "        r'ep2d_diff_tra_DYNDISTCALC_BVAL', \n",
    "        r'ep2d_diff_tra_DYNDIST_MIXCALC_BVAL',\n",
    "        r'tfl_3d PD ref_tra_1.5x1.5_t3',\n",
    "        r'tfl_3d_PD_reference',\n",
    "        r'fsCALC_BVAL'\n",
    "    ]\n",
    "    return check_possibilities(filename, possible_substrings)\n",
    "    \n",
    "\n",
    "def get_image_type(filename):\n",
    "    if is_unknown(filename): return 'unknown'\n",
    "    \n",
    "    if is_t2(filename): return 'T2'\n",
    "    if is_adc(filename): return 'ADC'\n",
    "    if is_dwi(filename): return 'DWI'\n",
    "    if 'Ktrans' in filename: return 'KTrans'\n",
    "    \n",
    "    return 'unknown'"
   ]
  },
  {
   "cell_type": "markdown",
   "id": "447f3a45",
   "metadata": {},
   "source": [
    "# Preprocess data"
   ]
  },
  {
   "cell_type": "code",
   "execution_count": 3,
   "id": "9b1a5b4b",
   "metadata": {},
   "outputs": [],
   "source": [
    "ROOT = constants.dataset_path\n",
    "\n",
    "# Path to unprocessed data\n",
    "UNPROCESSED = constants.unprocessed\n",
    "\n",
    "\n",
    "# Path to data converted using MRIcoGL\n",
    "UNPROCESSED_NIFTI = constants.unprocessed_nifti\n",
    "# Path to KTrans data (*.mhd)\n",
    "UNPROCESSED_KTRANS = constants.unprocessed_ktrans\n",
    "\n",
    "\n",
    "# Path to information\n",
    "FINDINGS = constants.findings \n",
    "LESION_INFO = constants.plotting / 'info_df.pickle'\n",
    "\n",
    "# Path to processed data\n",
    "PROCESSED = constants.processed\n",
    "if not PROCESSED.exists():\n",
    "    os.mkdir(PROCESSED)"
   ]
  },
  {
   "cell_type": "markdown",
   "id": "90811328",
   "metadata": {},
   "source": [
    "## Sort the data files"
   ]
  },
  {
   "cell_type": "code",
   "execution_count": 4,
   "id": "f1831469",
   "metadata": {},
   "outputs": [
    {
     "name": "stdout",
     "output_type": "stream",
     "text": [
      "All NIFTI T2-weighted and ADC files were stored at path: data\\processed\n",
      "208 NIFTI DWI files were found.\n",
      "\n"
     ]
    }
   ],
   "source": [
    "findings_data = []\n",
    "patients = []\n",
    "dwi_files = []\n",
    "\n",
    "for file in os.listdir(UNPROCESSED_NIFTI):\n",
    "    image_type = get_image_type(file)\n",
    "    if image_type != 'unknown' and 'nii.gz' in file:\n",
    "        patient_id = get_patientID(file)\n",
    "        \n",
    "        idx = int(patient_id[10:])\n",
    "        if patient_id not in patients:\n",
    "            patients.append(patient_id)\n",
    "            findings_data.append({\n",
    "                'ProxID'  : patient_id,\n",
    "                'ClinSig' : [],\n",
    "                'fid'     : [],\n",
    "                'pos'     : [],\n",
    "                'zone'    : [],\n",
    "                'T2'      : [],\n",
    "                'ADC'     : [],\n",
    "                'DWI'     : []\n",
    "            })\n",
    "        \n",
    "        if image_type == 'DWI' : dwi_files.append(file)\n",
    "        else:\n",
    "            src = UNPROCESSED_NIFTI / file\n",
    "            dest = PROCESSED / file\n",
    "            findings_data[idx][image_type].append(dest)\n",
    "            \n",
    "            shutil.copyfile(src, dest)\n",
    "        \n",
    "print(\n",
    "    f'All NIFTI T2-weighted and ADC files were stored at path: {PROCESSED}\\n'\n",
    "    f'{len(dwi_files)} NIFTI DWI files were found.\\n'\n",
    ")"
   ]
  },
  {
   "cell_type": "markdown",
   "id": "d235205a",
   "metadata": {},
   "source": [
    "## Separate DWI images"
   ]
  },
  {
   "cell_type": "code",
   "execution_count": 5,
   "id": "ff582229",
   "metadata": {},
   "outputs": [
    {
     "name": "stdout",
     "output_type": "stream",
     "text": [
      "Resulted 620 DWI files out of 208 compressed DWI files.\n"
     ]
    }
   ],
   "source": [
    "def save_img(data, path):\n",
    "    new_data = data.get_fdata().copy()\n",
    "    img = nib.Nifti1Image(new_data, data.affine, data.header)\n",
    "    nib.save(img, path)\n",
    "\n",
    "def separate_dwi(dwi_list):\n",
    "    count_dwi = 0\n",
    "    \n",
    "    for dwi in dwi_list:\n",
    "        patient_id = get_patientID(dwi)\n",
    "        idx = int(patient_id[10:])\n",
    "        \n",
    "        dwi_file = UNPROCESSED_NIFTI / dwi\n",
    "        \n",
    "        dwi_load = nib.load(dwi_file)\n",
    "        dwi_data = dwi_load.get_fdata()\n",
    "        \n",
    "        data_shape = len(dwi_data.shape)\n",
    "        \n",
    "        if data_shape == 4: \n",
    "            dwi_contrasts = (dwi_data.shape)[3]\n",
    "            for i in range(dwi_contrasts):\n",
    "                new_dwi_load = dwi_load.slicer[:,:,:,i]\n",
    "                \n",
    "                new_name = dwi.replace('.nii.gz',f'_{i}.nii.gz')\n",
    "                dest = PROCESSED / new_name\n",
    "                \n",
    "                save_img(new_dwi_load, dest)\n",
    "                findings_data[idx]['DWI'].append(dest)\n",
    "                \n",
    "                count_dwi +=1\n",
    "                \n",
    "        if data_shape == 3:\n",
    "            dest = PROCESSED / dwi\n",
    "            shutil.copyfile(dwi_file, dest)\n",
    "            findings_data[idx]['DWI'].append(dest)\n",
    "            count_dwi +=1\n",
    "            \n",
    "    print(f'Resulted {count_dwi} DWI files out of {len(dwi_list)} compressed DWI files.')\n",
    "        \n",
    "separate_dwi(dwi_files)"
   ]
  },
  {
   "cell_type": "markdown",
   "id": "4fa71560",
   "metadata": {},
   "source": [
    "## Convert KTrans"
   ]
  },
  {
   "cell_type": "code",
   "execution_count": 6,
   "id": "79c09afe",
   "metadata": {},
   "outputs": [
    {
     "name": "stdout",
     "output_type": "stream",
     "text": [
      "All converted KTrans files were stored at path: data\\processed\n"
     ]
    }
   ],
   "source": [
    "def convert_mhd_to_nifti(file, input_path, output_path):\n",
    "    mhd_image = os.path.join(input_path, file)\n",
    "    img = sitk.ReadImage(mhd_image)\n",
    "    \n",
    "    nii_filename = file.replace('.mhd', '.nii.gz')\n",
    "    img_nii_path = output_path / nii_filename\n",
    "    \n",
    "    sitk.WriteImage(img, nii_filename)\n",
    "    shutil.move(nii_filename, img_nii_path)\n",
    "    return img_nii_path\n",
    "\n",
    "\n",
    "for root, _, files in os.walk(UNPROCESSED_KTRANS):\n",
    "    for file in files:\n",
    "        image_type = get_image_type(file)\n",
    "        if image_type == 'KTrans' and 'mhd' in file:\n",
    "            patient_id = get_patientID(file)\n",
    "            idx = int(patient_id[10:])\n",
    "            findings_data[idx][image_type] = convert_mhd_to_nifti(file, root, PROCESSED)\n",
    "            \n",
    "print(f'All converted KTrans files were stored at path: {PROCESSED}')"
   ]
  },
  {
   "cell_type": "markdown",
   "id": "bdb21833",
   "metadata": {},
   "source": [
    "## Combine information"
   ]
  },
  {
   "cell_type": "code",
   "execution_count": 7,
   "id": "58c8097b",
   "metadata": {},
   "outputs": [],
   "source": [
    "findings_df = pd.read_csv(FINDINGS)\n",
    "lesion_info_df = pd.read_pickle(LESION_INFO)\n",
    "\n",
    "for i, patient in enumerate(findings_df.ProxID):\n",
    "    idx = int(patient[10:])\n",
    "    \n",
    "    findings_row = findings_df.iloc[i]\n",
    "    lesion_info_row = lesion_info_df.iloc[idx]\n",
    "    \n",
    "    findings_data[idx]['ClinSig'].append(findings_row.ClinSig)\n",
    "    findings_data[idx]['fid'].append(findings_row.fid)\n",
    "    findings_data[idx]['pos'].append(findings_row.pos)\n",
    "    findings_data[idx]['zone'].append(findings_row.zone)\n",
    "    \n",
    "    # voxel spacing and slices contianing prostate lesion\n",
    "    findings_data[idx]['spacing'] = lesion_info_row.spacing\n",
    "    findings_data[idx]['slices'] = lesion_info_row.fg_slices\n",
    "\n",
    "findings = pd.DataFrame(\n",
    "    findings_data, \n",
    "    columns=[\n",
    "        'ProxID', 'ClinSig', 'fid', 'pos', 'zone', 'spacing', 'slices', 'T2', 'ADC', 'DWI', 'KTrans'\n",
    "    ]\n",
    ")"
   ]
  },
  {
   "cell_type": "markdown",
   "id": "8b77aa92",
   "metadata": {},
   "source": [
    "## Create pickle"
   ]
  },
  {
   "cell_type": "code",
   "execution_count": 8,
   "id": "41b53d0c",
   "metadata": {},
   "outputs": [
    {
     "name": "stdout",
     "output_type": "stream",
     "text": [
      "The findings information can be found at: data\\processed\\lesion_findings.pickle\n"
     ]
    }
   ],
   "source": [
    "findings_pickle = constants.labels_pkl\n",
    "\n",
    "pd.to_pickle(findings, findings_pickle) \n",
    "\n",
    "print(f'The findings information can be found at: {findings_pickle}')"
   ]
  },
  {
   "cell_type": "code",
   "execution_count": null,
   "id": "0d36db89",
   "metadata": {},
   "outputs": [],
   "source": []
  }
 ],
 "metadata": {
  "kernelspec": {
   "display_name": "Python 3 (ipykernel)",
   "language": "python",
   "name": "python3"
  },
  "language_info": {
   "codemirror_mode": {
    "name": "ipython",
    "version": 3
   },
   "file_extension": ".py",
   "mimetype": "text/x-python",
   "name": "python",
   "nbconvert_exporter": "python",
   "pygments_lexer": "ipython3",
   "version": "3.9.12"
  }
 },
 "nbformat": 4,
 "nbformat_minor": 5
}
