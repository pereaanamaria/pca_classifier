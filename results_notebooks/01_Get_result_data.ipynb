{
 "cells": [
  {
   "cell_type": "code",
   "execution_count": 1,
   "id": "0c73b4ec",
   "metadata": {},
   "outputs": [],
   "source": [
    "import os\n",
    "import pickle\n",
    "\n",
    "from pathlib import Path"
   ]
  },
  {
   "cell_type": "code",
   "execution_count": 2,
   "id": "bd50e3d4",
   "metadata": {},
   "outputs": [],
   "source": [
    "def get_file_info(filename):\n",
    "    filename_parts = filename.split('_')\n",
    "    return f'{filename_parts[0]}_{filename_parts[1]}', int(filename_parts[2][1:])"
   ]
  },
  {
   "cell_type": "code",
   "execution_count": 3,
   "id": "002bc973",
   "metadata": {},
   "outputs": [],
   "source": [
    "LOGS = Path('../logs/')\n",
    "result_dict = {}\n",
    "\n",
    "for f in os.listdir(LOGS):\n",
    "    if 'test.txt' in f: \n",
    "        fid, epochs = get_file_info(f)\n",
    "        result_dict[fid] = {\n",
    "            'epochs' : epochs\n",
    "        }"
   ]
  },
  {
   "cell_type": "code",
   "execution_count": 4,
   "id": "74a69470",
   "metadata": {},
   "outputs": [],
   "source": [
    "for f in result_dict.keys():\n",
    "    # Get training data\n",
    "    filename = LOGS / f'{f}_E{result_dict[f][\"epochs\"]}_train.txt'\n",
    "    file = open(filename)\n",
    "    \n",
    "    train_loss = []\n",
    "    train_accuracies = []\n",
    "    \n",
    "    result_dict[f]['oversample'] = 0\n",
    "    \n",
    "    for line in file:\n",
    "        if 'Loss function' in line:\n",
    "            loss_function = line.split(' :: ')[1].strip('\\n')\n",
    "        elif 'Optimizer' in line:\n",
    "            optimizer = line.split(' :: ')[1].strip('\\n')\n",
    "        elif 'Learning rate' in line:\n",
    "            lr = float(line.split(' :: ')[1].strip('\\n'))\n",
    "            if lr == 1e-3: lr = '1e-3'\n",
    "            elif lr == 1e-4: lr = '1e-4'\n",
    "            elif lr == 1e-5: lr = '1e-5'\n",
    "        elif 'loss' in line:\n",
    "            loss = float((line.split(': ')[1]).strip('\\n'))\n",
    "            train_loss.append(loss)\n",
    "        elif 'current accuracy' in line:\n",
    "            acc = float((line.split(': ')[2]).strip('\\n'))\n",
    "            train_accuracies.append(acc)\n",
    "        elif 'Oversample' in line:\n",
    "            result_dict[f]['oversample'] = int(line.split(' :: ')[1].strip('\\n'))\n",
    "            \n",
    "    file.close()\n",
    "            \n",
    "    result_dict[f]['loss_function'] = loss_function\n",
    "    result_dict[f]['optimizer'] = optimizer\n",
    "    result_dict[f]['learning_rate'] = lr\n",
    "    result_dict[f]['loss_values'] = train_loss\n",
    "    result_dict[f]['accuracies'] = train_accuracies\n",
    "    result_dict[f]['best_accuracy'] = max(train_accuracies)\n",
    "    \n",
    "    \n",
    "    # -----------------------------------------\n",
    "    # Get testing data\n",
    "    filename = LOGS / f'{f}_E{result_dict[f][\"epochs\"]}_test.txt'\n",
    "    file = open(filename)\n",
    "    \n",
    "    for line in file:\n",
    "        if ' = ' in line:\n",
    "            kpi = line.split(' = ')[1].strip('(').strip(')\\n')\n",
    "            kpi = kpi.split(', ')\n",
    "            TP, TN, FP, FN = int(kpi[0]), int(kpi[1]), int(kpi[2]), int(kpi[3])\n",
    "        elif ' : ' in line:\n",
    "            if 'Accuracy' in line:\n",
    "                accuracy = float(line.split(' : ')[1].strip('\\n'))\n",
    "            elif 'Recall' in line:\n",
    "                recall = float(line.split(' : ')[1].strip('\\n'))\n",
    "                if recall < 0: recall = -0.1\n",
    "            elif 'Precision' in line:\n",
    "                precision = float(line.split(' : ')[1].strip('\\n'))\n",
    "                if precision < 0: precision = -0.1\n",
    "            elif 'F1-score' in line:\n",
    "                f1 = float(line.split(' : ')[1].strip('\\n'))\n",
    "                if precision < 0: f1 = 0\n",
    "    file.close()\n",
    "    \n",
    "    result_dict[f]['TP'] = TP\n",
    "    result_dict[f]['TN'] = TN\n",
    "    result_dict[f]['FP'] = FP\n",
    "    result_dict[f]['FN'] = FN\n",
    "    \n",
    "    result_dict[f]['accuracy'] = round(accuracy, 4)\n",
    "    result_dict[f]['recall'] = round(recall, 4)\n",
    "    result_dict[f]['precision'] = round(precision, 4)\n",
    "    result_dict[f]['f1'] = round(f1, 4)"
   ]
  },
  {
   "cell_type": "code",
   "execution_count": 5,
   "id": "a78d58fd",
   "metadata": {},
   "outputs": [],
   "source": [
    "with open('results_summary.pickle', 'wb') as handle:\n",
    "    pickle.dump(result_dict, handle, protocol=pickle.HIGHEST_PROTOCOL)"
   ]
  },
  {
   "cell_type": "code",
   "execution_count": null,
   "id": "ebbddd76",
   "metadata": {},
   "outputs": [],
   "source": []
  }
 ],
 "metadata": {
  "kernelspec": {
   "display_name": "Python 3 (ipykernel)",
   "language": "python",
   "name": "python3"
  },
  "language_info": {
   "codemirror_mode": {
    "name": "ipython",
    "version": 3
   },
   "file_extension": ".py",
   "mimetype": "text/x-python",
   "name": "python",
   "nbconvert_exporter": "python",
   "pygments_lexer": "ipython3",
   "version": "3.9.12"
  }
 },
 "nbformat": 4,
 "nbformat_minor": 5
}
